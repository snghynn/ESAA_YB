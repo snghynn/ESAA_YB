{
  "cells": [
    {
      "cell_type": "markdown",
      "metadata": {
        "id": "view-in-github",
        "colab_type": "text"
      },
      "source": [
        "<a href=\"https://colab.research.google.com/github/snghynn/ESAA-YB/blob/main/%EC%A0%84%EC%B2%98%EB%A6%AC2.ipynb\" target=\"_parent\"><img src=\"https://colab.research.google.com/assets/colab-badge.svg\" alt=\"Open In Colab\"/></a>"
      ]
    },
    {
      "cell_type": "code",
      "execution_count": null,
      "id": "dd7b587a",
      "metadata": {
        "id": "dd7b587a",
        "outputId": "aef70aca-7709-44e1-8a82-7b1a4115120c"
      },
      "outputs": [
        {
          "name": "stdout",
          "output_type": "stream",
          "text": [
            "Requirement already satisfied: catboost==1.1.1 in c:\\users\\kim\\anaconda3\\lib\\site-packages (1.1.1)\n",
            "Requirement already satisfied: numpy>=1.16.0 in c:\\users\\kim\\anaconda3\\lib\\site-packages (from catboost==1.1.1) (1.21.5)\n",
            "Requirement already satisfied: plotly in c:\\users\\kim\\anaconda3\\lib\\site-packages (from catboost==1.1.1) (5.9.0)\n",
            "Requirement already satisfied: pandas>=0.24.0 in c:\\users\\kim\\anaconda3\\lib\\site-packages (from catboost==1.1.1) (1.4.4)\n",
            "Requirement already satisfied: scipy in c:\\users\\kim\\anaconda3\\lib\\site-packages (from catboost==1.1.1) (1.9.1)\n",
            "Requirement already satisfied: graphviz in c:\\users\\kim\\anaconda3\\lib\\site-packages (from catboost==1.1.1) (0.20.1)\n",
            "Requirement already satisfied: six in c:\\users\\kim\\anaconda3\\lib\\site-packages (from catboost==1.1.1) (1.16.0)\n",
            "Requirement already satisfied: matplotlib in c:\\users\\kim\\anaconda3\\lib\\site-packages (from catboost==1.1.1) (3.5.2)\n",
            "Requirement already satisfied: python-dateutil>=2.8.1 in c:\\users\\kim\\anaconda3\\lib\\site-packages (from pandas>=0.24.0->catboost==1.1.1) (2.8.2)\n",
            "Requirement already satisfied: pytz>=2020.1 in c:\\users\\kim\\anaconda3\\lib\\site-packages (from pandas>=0.24.0->catboost==1.1.1) (2022.1)\n",
            "Requirement already satisfied: packaging>=20.0 in c:\\users\\kim\\anaconda3\\lib\\site-packages (from matplotlib->catboost==1.1.1) (21.3)\n",
            "Requirement already satisfied: kiwisolver>=1.0.1 in c:\\users\\kim\\anaconda3\\lib\\site-packages (from matplotlib->catboost==1.1.1) (1.4.2)\n",
            "Requirement already satisfied: pyparsing>=2.2.1 in c:\\users\\kim\\anaconda3\\lib\\site-packages (from matplotlib->catboost==1.1.1) (3.0.9)\n",
            "Requirement already satisfied: cycler>=0.10 in c:\\users\\kim\\anaconda3\\lib\\site-packages (from matplotlib->catboost==1.1.1) (0.11.0)\n",
            "Requirement already satisfied: fonttools>=4.22.0 in c:\\users\\kim\\anaconda3\\lib\\site-packages (from matplotlib->catboost==1.1.1) (4.25.0)\n",
            "Requirement already satisfied: pillow>=6.2.0 in c:\\users\\kim\\anaconda3\\lib\\site-packages (from matplotlib->catboost==1.1.1) (9.2.0)\n",
            "Requirement already satisfied: tenacity>=6.2.0 in c:\\users\\kim\\anaconda3\\lib\\site-packages (from plotly->catboost==1.1.1) (8.0.1)\n"
          ]
        }
      ],
      "source": [
        "import os\n",
        "!pip install catboost==1.1.1\n",
        "from collections import defaultdict"
      ]
    },
    {
      "cell_type": "code",
      "execution_count": null,
      "id": "ee0bc6cd",
      "metadata": {
        "id": "ee0bc6cd"
      },
      "outputs": [],
      "source": [
        "import numpy as np\n",
        "import pandas as pd"
      ]
    },
    {
      "cell_type": "markdown",
      "id": "8b297f3c",
      "metadata": {
        "id": "8b297f3c"
      },
      "source": [
        "## 1. 데이터 불러오기 및 탐색"
      ]
    },
    {
      "cell_type": "code",
      "execution_count": null,
      "id": "7f71c0d8",
      "metadata": {
        "id": "7f71c0d8"
      },
      "outputs": [],
      "source": [
        "train=pd.read_csv('train.csv')\n",
        "test=pd.read_csv('test.csv')"
      ]
    },
    {
      "cell_type": "code",
      "execution_count": null,
      "id": "86ce1129",
      "metadata": {
        "id": "86ce1129",
        "outputId": "8b679698-e0c2-4e06-d340-78ddfa018cdd"
      },
      "outputs": [
        {
          "data": {
            "text/html": [
              "<div>\n",
              "<style scoped>\n",
              "    .dataframe tbody tr th:only-of-type {\n",
              "        vertical-align: middle;\n",
              "    }\n",
              "\n",
              "    .dataframe tbody tr th {\n",
              "        vertical-align: top;\n",
              "    }\n",
              "\n",
              "    .dataframe thead th {\n",
              "        text-align: right;\n",
              "    }\n",
              "</style>\n",
              "<table border=\"1\" class=\"dataframe\">\n",
              "  <thead>\n",
              "    <tr style=\"text-align: right;\">\n",
              "      <th></th>\n",
              "      <th>ID</th>\n",
              "      <th>Month</th>\n",
              "      <th>Day_of_Month</th>\n",
              "      <th>Estimated_Departure_Time</th>\n",
              "      <th>Estimated_Arrival_Time</th>\n",
              "      <th>Cancelled</th>\n",
              "      <th>Diverted</th>\n",
              "      <th>Origin_Airport</th>\n",
              "      <th>Origin_Airport_ID</th>\n",
              "      <th>Origin_State</th>\n",
              "      <th>Destination_Airport</th>\n",
              "      <th>Destination_Airport_ID</th>\n",
              "      <th>Destination_State</th>\n",
              "      <th>Distance</th>\n",
              "      <th>Airline</th>\n",
              "      <th>Carrier_Code(IATA)</th>\n",
              "      <th>Carrier_ID(DOT)</th>\n",
              "      <th>Tail_Number</th>\n",
              "      <th>Delay</th>\n",
              "    </tr>\n",
              "  </thead>\n",
              "  <tbody>\n",
              "    <tr>\n",
              "      <th>0</th>\n",
              "      <td>TRAIN_000000</td>\n",
              "      <td>4</td>\n",
              "      <td>15</td>\n",
              "      <td>NaN</td>\n",
              "      <td>NaN</td>\n",
              "      <td>0</td>\n",
              "      <td>0</td>\n",
              "      <td>OKC</td>\n",
              "      <td>13851</td>\n",
              "      <td>Oklahoma</td>\n",
              "      <td>HOU</td>\n",
              "      <td>12191</td>\n",
              "      <td>Texas</td>\n",
              "      <td>419.0</td>\n",
              "      <td>Southwest Airlines Co.</td>\n",
              "      <td>WN</td>\n",
              "      <td>19393.0</td>\n",
              "      <td>N7858A</td>\n",
              "      <td>NaN</td>\n",
              "    </tr>\n",
              "    <tr>\n",
              "      <th>1</th>\n",
              "      <td>TRAIN_000001</td>\n",
              "      <td>8</td>\n",
              "      <td>15</td>\n",
              "      <td>740.0</td>\n",
              "      <td>1024.0</td>\n",
              "      <td>0</td>\n",
              "      <td>0</td>\n",
              "      <td>ORD</td>\n",
              "      <td>13930</td>\n",
              "      <td>Illinois</td>\n",
              "      <td>SLC</td>\n",
              "      <td>14869</td>\n",
              "      <td>Utah</td>\n",
              "      <td>1250.0</td>\n",
              "      <td>SkyWest Airlines Inc.</td>\n",
              "      <td>UA</td>\n",
              "      <td>20304.0</td>\n",
              "      <td>N125SY</td>\n",
              "      <td>NaN</td>\n",
              "    </tr>\n",
              "    <tr>\n",
              "      <th>2</th>\n",
              "      <td>TRAIN_000002</td>\n",
              "      <td>9</td>\n",
              "      <td>6</td>\n",
              "      <td>1610.0</td>\n",
              "      <td>1805.0</td>\n",
              "      <td>0</td>\n",
              "      <td>0</td>\n",
              "      <td>CLT</td>\n",
              "      <td>11057</td>\n",
              "      <td>North Carolina</td>\n",
              "      <td>LGA</td>\n",
              "      <td>12953</td>\n",
              "      <td>New York</td>\n",
              "      <td>544.0</td>\n",
              "      <td>American Airlines Inc.</td>\n",
              "      <td>AA</td>\n",
              "      <td>19805.0</td>\n",
              "      <td>N103US</td>\n",
              "      <td>NaN</td>\n",
              "    </tr>\n",
              "    <tr>\n",
              "      <th>3</th>\n",
              "      <td>TRAIN_000003</td>\n",
              "      <td>7</td>\n",
              "      <td>10</td>\n",
              "      <td>905.0</td>\n",
              "      <td>1735.0</td>\n",
              "      <td>0</td>\n",
              "      <td>0</td>\n",
              "      <td>LAX</td>\n",
              "      <td>12892</td>\n",
              "      <td>California</td>\n",
              "      <td>EWR</td>\n",
              "      <td>11618</td>\n",
              "      <td>New Jersey</td>\n",
              "      <td>2454.0</td>\n",
              "      <td>United Air Lines Inc.</td>\n",
              "      <td>UA</td>\n",
              "      <td>NaN</td>\n",
              "      <td>N595UA</td>\n",
              "      <td>NaN</td>\n",
              "    </tr>\n",
              "    <tr>\n",
              "      <th>4</th>\n",
              "      <td>TRAIN_000004</td>\n",
              "      <td>1</td>\n",
              "      <td>11</td>\n",
              "      <td>900.0</td>\n",
              "      <td>1019.0</td>\n",
              "      <td>0</td>\n",
              "      <td>0</td>\n",
              "      <td>SFO</td>\n",
              "      <td>14771</td>\n",
              "      <td>California</td>\n",
              "      <td>ACV</td>\n",
              "      <td>10157</td>\n",
              "      <td>California</td>\n",
              "      <td>250.0</td>\n",
              "      <td>SkyWest Airlines Inc.</td>\n",
              "      <td>UA</td>\n",
              "      <td>20304.0</td>\n",
              "      <td>N161SY</td>\n",
              "      <td>NaN</td>\n",
              "    </tr>\n",
              "  </tbody>\n",
              "</table>\n",
              "</div>"
            ],
            "text/plain": [
              "             ID  Month  Day_of_Month  Estimated_Departure_Time  \\\n",
              "0  TRAIN_000000      4            15                       NaN   \n",
              "1  TRAIN_000001      8            15                     740.0   \n",
              "2  TRAIN_000002      9             6                    1610.0   \n",
              "3  TRAIN_000003      7            10                     905.0   \n",
              "4  TRAIN_000004      1            11                     900.0   \n",
              "\n",
              "   Estimated_Arrival_Time  Cancelled  Diverted Origin_Airport  \\\n",
              "0                     NaN          0         0            OKC   \n",
              "1                  1024.0          0         0            ORD   \n",
              "2                  1805.0          0         0            CLT   \n",
              "3                  1735.0          0         0            LAX   \n",
              "4                  1019.0          0         0            SFO   \n",
              "\n",
              "   Origin_Airport_ID    Origin_State Destination_Airport  \\\n",
              "0              13851        Oklahoma                 HOU   \n",
              "1              13930        Illinois                 SLC   \n",
              "2              11057  North Carolina                 LGA   \n",
              "3              12892      California                 EWR   \n",
              "4              14771      California                 ACV   \n",
              "\n",
              "   Destination_Airport_ID Destination_State  Distance                 Airline  \\\n",
              "0                   12191             Texas     419.0  Southwest Airlines Co.   \n",
              "1                   14869              Utah    1250.0   SkyWest Airlines Inc.   \n",
              "2                   12953          New York     544.0  American Airlines Inc.   \n",
              "3                   11618        New Jersey    2454.0   United Air Lines Inc.   \n",
              "4                   10157        California     250.0   SkyWest Airlines Inc.   \n",
              "\n",
              "  Carrier_Code(IATA)  Carrier_ID(DOT) Tail_Number Delay  \n",
              "0                 WN          19393.0      N7858A   NaN  \n",
              "1                 UA          20304.0      N125SY   NaN  \n",
              "2                 AA          19805.0      N103US   NaN  \n",
              "3                 UA              NaN      N595UA   NaN  \n",
              "4                 UA          20304.0      N161SY   NaN  "
            ]
          },
          "execution_count": 5,
          "metadata": {},
          "output_type": "execute_result"
        }
      ],
      "source": [
        "train.head()"
      ]
    },
    {
      "cell_type": "markdown",
      "id": "f6cadbda",
      "metadata": {
        "id": "f6cadbda"
      },
      "source": [
        "- 1,000,000개의 데이터\n",
        "- ID : 샘플 고유 id, 항공편 운항 관련 정보\n",
        "- Month: 해당 항공편의 출발 월\n",
        "- Day_of_Month: Month에 해당하는 월의 날짜\n",
        "- Estimated_Departure_Time: 전산 시스템을 바탕으로 측정된 비행기의 출발 시간 (현지 시각, HH:MM 형식)\n",
        "- Estimated_Arrival_Time: 전산 시스템을 바탕으로 측정된 비행기의 도착 시간 (현지 시각, HH:MM 형식)\n",
        "- Cancelled: 해당 항공편의 취소 여부 (0: 취소되지 않음, 1: 취소됨)\n",
        "- Diverted: 해당 항공편의 경유 여부 (0: 취소되지 않음, 1: 취소됨)\n",
        "- Origin_Airport: 해당 항공편 출발 공항의 고유 코드 (IATA 공항 코드)\n",
        "- Origin_Airport_ID: 해당 항공편 출발 공항의 고유 ID (US DOT ID)\n",
        "- Origin_State: 해당 항공편 출발 공항이 위치한 주의 이름\n",
        "- Destination_Airport: 해당 항공편 도착 공항의 고유 코드 (IATA 공항 코드)\n",
        "- Destination_Airport_ID: 해당 항공편 도착 공항의 고유 ID (US DOT ID)\n",
        "- Destination_State: 해당 항공편 도착 공항이 위치한 주의 이름\n",
        "- Distance: 출발 공항과 도착 공항 사이의 거리 (mile 단위)\n",
        "- Airline: 해당 항공편을 운항하는 항공사\n",
        "- Carrier_Code(IATA): 해당 항공편을 운항하는 항공사의 고유 코드\n",
        " (IATA 공항 코드, 단 다른 항공사가 같은 코드를 보유할 수도 있음)\n",
        "- Carrier_ID(DOT): 해당 항공편을 운항하는 항공사의 고유 ID (US DOT ID)\n",
        "- Tail_Number: 해당 항공편을 운항하는 항공기의 고유 등록번호\n",
        "- Delay: 항공편 지연 여부 (Not_Delayed, Delayed)\n",
        "    - 예측해야 하는 타깃\n",
        "    - 다수의 데이터에 레이블이 존재하지 않음\n",
        "     -준지도학습을 통해 레이블링 가능"
      ]
    },
    {
      "cell_type": "code",
      "execution_count": null,
      "id": "6bdc7b03",
      "metadata": {
        "id": "6bdc7b03",
        "outputId": "5d73019a-50da-4a78-86e5-99d47cc4766f"
      },
      "outputs": [
        {
          "name": "stdout",
          "output_type": "stream",
          "text": [
            "<class 'pandas.core.frame.DataFrame'>\n",
            "RangeIndex: 1000000 entries, 0 to 999999\n",
            "Data columns (total 19 columns):\n",
            " #   Column                    Non-Null Count    Dtype  \n",
            "---  ------                    --------------    -----  \n",
            " 0   ID                        1000000 non-null  object \n",
            " 1   Month                     1000000 non-null  int64  \n",
            " 2   Day_of_Month              1000000 non-null  int64  \n",
            " 3   Estimated_Departure_Time  890981 non-null   float64\n",
            " 4   Estimated_Arrival_Time    890960 non-null   float64\n",
            " 5   Cancelled                 1000000 non-null  int64  \n",
            " 6   Diverted                  1000000 non-null  int64  \n",
            " 7   Origin_Airport            1000000 non-null  object \n",
            " 8   Origin_Airport_ID         1000000 non-null  int64  \n",
            " 9   Origin_State              890985 non-null   object \n",
            " 10  Destination_Airport       1000000 non-null  object \n",
            " 11  Destination_Airport_ID    1000000 non-null  int64  \n",
            " 12  Destination_State         890921 non-null   object \n",
            " 13  Distance                  1000000 non-null  float64\n",
            " 14  Airline                   891080 non-null   object \n",
            " 15  Carrier_Code(IATA)        891010 non-null   object \n",
            " 16  Carrier_ID(DOT)           891003 non-null   float64\n",
            " 17  Tail_Number               1000000 non-null  object \n",
            " 18  Delay                     255001 non-null   object \n",
            "dtypes: float64(4), int64(6), object(9)\n",
            "memory usage: 145.0+ MB\n"
          ]
        }
      ],
      "source": [
        "train.info()"
      ]
    },
    {
      "cell_type": "code",
      "execution_count": null,
      "id": "fd1a1387",
      "metadata": {
        "id": "fd1a1387",
        "outputId": "f0a3c0ae-fc3f-43b6-b119-0775f095e05b"
      },
      "outputs": [
        {
          "data": {
            "text/html": [
              "<div>\n",
              "<style scoped>\n",
              "    .dataframe tbody tr th:only-of-type {\n",
              "        vertical-align: middle;\n",
              "    }\n",
              "\n",
              "    .dataframe tbody tr th {\n",
              "        vertical-align: top;\n",
              "    }\n",
              "\n",
              "    .dataframe thead th {\n",
              "        text-align: right;\n",
              "    }\n",
              "</style>\n",
              "<table border=\"1\" class=\"dataframe\">\n",
              "  <thead>\n",
              "    <tr style=\"text-align: right;\">\n",
              "      <th></th>\n",
              "      <th>ID</th>\n",
              "      <th>Month</th>\n",
              "      <th>Day_of_Month</th>\n",
              "      <th>Estimated_Departure_Time</th>\n",
              "      <th>Estimated_Arrival_Time</th>\n",
              "      <th>Cancelled</th>\n",
              "      <th>Diverted</th>\n",
              "      <th>Origin_Airport</th>\n",
              "      <th>Origin_Airport_ID</th>\n",
              "      <th>Origin_State</th>\n",
              "      <th>Destination_Airport</th>\n",
              "      <th>Destination_Airport_ID</th>\n",
              "      <th>Destination_State</th>\n",
              "      <th>Distance</th>\n",
              "      <th>Airline</th>\n",
              "      <th>Carrier_Code(IATA)</th>\n",
              "      <th>Carrier_ID(DOT)</th>\n",
              "      <th>Tail_Number</th>\n",
              "    </tr>\n",
              "  </thead>\n",
              "  <tbody>\n",
              "    <tr>\n",
              "      <th>0</th>\n",
              "      <td>TEST_000000</td>\n",
              "      <td>12</td>\n",
              "      <td>16</td>\n",
              "      <td>1156.0</td>\n",
              "      <td>NaN</td>\n",
              "      <td>0</td>\n",
              "      <td>0</td>\n",
              "      <td>IAH</td>\n",
              "      <td>12266</td>\n",
              "      <td>Texas</td>\n",
              "      <td>SAT</td>\n",
              "      <td>14683</td>\n",
              "      <td>Texas</td>\n",
              "      <td>191.0</td>\n",
              "      <td>United Air Lines Inc.</td>\n",
              "      <td>UA</td>\n",
              "      <td>NaN</td>\n",
              "      <td>N79402</td>\n",
              "    </tr>\n",
              "    <tr>\n",
              "      <th>1</th>\n",
              "      <td>TEST_000001</td>\n",
              "      <td>9</td>\n",
              "      <td>12</td>\n",
              "      <td>1500.0</td>\n",
              "      <td>1715.0</td>\n",
              "      <td>0</td>\n",
              "      <td>0</td>\n",
              "      <td>EWR</td>\n",
              "      <td>11618</td>\n",
              "      <td>New Jersey</td>\n",
              "      <td>ATL</td>\n",
              "      <td>10397</td>\n",
              "      <td>NaN</td>\n",
              "      <td>746.0</td>\n",
              "      <td>Delta Air Lines Inc.</td>\n",
              "      <td>DL</td>\n",
              "      <td>19790.0</td>\n",
              "      <td>N3765</td>\n",
              "    </tr>\n",
              "    <tr>\n",
              "      <th>2</th>\n",
              "      <td>TEST_000002</td>\n",
              "      <td>3</td>\n",
              "      <td>6</td>\n",
              "      <td>1600.0</td>\n",
              "      <td>1915.0</td>\n",
              "      <td>0</td>\n",
              "      <td>0</td>\n",
              "      <td>ORD</td>\n",
              "      <td>13930</td>\n",
              "      <td>Illinois</td>\n",
              "      <td>LGA</td>\n",
              "      <td>12953</td>\n",
              "      <td>New York</td>\n",
              "      <td>733.0</td>\n",
              "      <td>United Air Lines Inc.</td>\n",
              "      <td>UA</td>\n",
              "      <td>19977.0</td>\n",
              "      <td>N413UA</td>\n",
              "    </tr>\n",
              "    <tr>\n",
              "      <th>3</th>\n",
              "      <td>TEST_000003</td>\n",
              "      <td>5</td>\n",
              "      <td>18</td>\n",
              "      <td>1920.0</td>\n",
              "      <td>2045.0</td>\n",
              "      <td>0</td>\n",
              "      <td>0</td>\n",
              "      <td>OAK</td>\n",
              "      <td>13796</td>\n",
              "      <td>California</td>\n",
              "      <td>LAX</td>\n",
              "      <td>12892</td>\n",
              "      <td>California</td>\n",
              "      <td>337.0</td>\n",
              "      <td>Southwest Airlines Co.</td>\n",
              "      <td>WN</td>\n",
              "      <td>19393.0</td>\n",
              "      <td>N905WN</td>\n",
              "    </tr>\n",
              "    <tr>\n",
              "      <th>4</th>\n",
              "      <td>TEST_000004</td>\n",
              "      <td>7</td>\n",
              "      <td>7</td>\n",
              "      <td>1915.0</td>\n",
              "      <td>2152.0</td>\n",
              "      <td>0</td>\n",
              "      <td>0</td>\n",
              "      <td>FLL</td>\n",
              "      <td>11697</td>\n",
              "      <td>Florida</td>\n",
              "      <td>LAX</td>\n",
              "      <td>12892</td>\n",
              "      <td>California</td>\n",
              "      <td>2343.0</td>\n",
              "      <td>JetBlue Airways</td>\n",
              "      <td>B6</td>\n",
              "      <td>20409.0</td>\n",
              "      <td>N945JT</td>\n",
              "    </tr>\n",
              "  </tbody>\n",
              "</table>\n",
              "</div>"
            ],
            "text/plain": [
              "            ID  Month  Day_of_Month  Estimated_Departure_Time  \\\n",
              "0  TEST_000000     12            16                    1156.0   \n",
              "1  TEST_000001      9            12                    1500.0   \n",
              "2  TEST_000002      3             6                    1600.0   \n",
              "3  TEST_000003      5            18                    1920.0   \n",
              "4  TEST_000004      7             7                    1915.0   \n",
              "\n",
              "   Estimated_Arrival_Time  Cancelled  Diverted Origin_Airport  \\\n",
              "0                     NaN          0         0            IAH   \n",
              "1                  1715.0          0         0            EWR   \n",
              "2                  1915.0          0         0            ORD   \n",
              "3                  2045.0          0         0            OAK   \n",
              "4                  2152.0          0         0            FLL   \n",
              "\n",
              "   Origin_Airport_ID Origin_State Destination_Airport  Destination_Airport_ID  \\\n",
              "0              12266        Texas                 SAT                   14683   \n",
              "1              11618   New Jersey                 ATL                   10397   \n",
              "2              13930     Illinois                 LGA                   12953   \n",
              "3              13796   California                 LAX                   12892   \n",
              "4              11697      Florida                 LAX                   12892   \n",
              "\n",
              "  Destination_State  Distance                 Airline Carrier_Code(IATA)  \\\n",
              "0             Texas     191.0   United Air Lines Inc.                 UA   \n",
              "1               NaN     746.0    Delta Air Lines Inc.                 DL   \n",
              "2          New York     733.0   United Air Lines Inc.                 UA   \n",
              "3        California     337.0  Southwest Airlines Co.                 WN   \n",
              "4        California    2343.0         JetBlue Airways                 B6   \n",
              "\n",
              "   Carrier_ID(DOT) Tail_Number  \n",
              "0              NaN      N79402  \n",
              "1          19790.0       N3765  \n",
              "2          19977.0      N413UA  \n",
              "3          19393.0      N905WN  \n",
              "4          20409.0      N945JT  "
            ]
          },
          "execution_count": 7,
          "metadata": {},
          "output_type": "execute_result"
        }
      ],
      "source": [
        "test.head()"
      ]
    },
    {
      "cell_type": "code",
      "execution_count": null,
      "id": "687966f9",
      "metadata": {
        "id": "687966f9",
        "outputId": "1dd0583d-5733-47c8-fe83-5494b5933a8e"
      },
      "outputs": [
        {
          "name": "stdout",
          "output_type": "stream",
          "text": [
            "<class 'pandas.core.frame.DataFrame'>\n",
            "RangeIndex: 1000000 entries, 0 to 999999\n",
            "Data columns (total 18 columns):\n",
            " #   Column                    Non-Null Count    Dtype  \n",
            "---  ------                    --------------    -----  \n",
            " 0   ID                        1000000 non-null  object \n",
            " 1   Month                     1000000 non-null  int64  \n",
            " 2   Day_of_Month              1000000 non-null  int64  \n",
            " 3   Estimated_Departure_Time  891016 non-null   float64\n",
            " 4   Estimated_Arrival_Time    890952 non-null   float64\n",
            " 5   Cancelled                 1000000 non-null  int64  \n",
            " 6   Diverted                  1000000 non-null  int64  \n",
            " 7   Origin_Airport            1000000 non-null  object \n",
            " 8   Origin_Airport_ID         1000000 non-null  int64  \n",
            " 9   Origin_State              893495 non-null   object \n",
            " 10  Destination_Airport       1000000 non-null  object \n",
            " 11  Destination_Airport_ID    1000000 non-null  int64  \n",
            " 12  Destination_State         893477 non-null   object \n",
            " 13  Distance                  1000000 non-null  float64\n",
            " 14  Airline                   893473 non-null   object \n",
            " 15  Carrier_Code(IATA)        891007 non-null   object \n",
            " 16  Carrier_ID(DOT)           890994 non-null   float64\n",
            " 17  Tail_Number               1000000 non-null  object \n",
            "dtypes: float64(4), int64(6), object(8)\n",
            "memory usage: 137.3+ MB\n"
          ]
        }
      ],
      "source": [
        "test.info()"
      ]
    },
    {
      "cell_type": "markdown",
      "id": "76be675f",
      "metadata": {
        "id": "76be675f"
      },
      "source": [
        "## 2. 데이터 전처리"
      ]
    },
    {
      "cell_type": "markdown",
      "id": "6d7f217b",
      "metadata": {
        "id": "6d7f217b"
      },
      "source": [
        "> train, test data 둘 다에서 다수의 결측값이 존재한다. 어떻게 처리할까?\n",
        ">\n",
        "> : 비행기 연착과 관련된 데이터의 특성을 고려하자"
      ]
    },
    {
      "cell_type": "markdown",
      "id": "0bde24d6",
      "metadata": {
        "id": "0bde24d6"
      },
      "source": [
        "### 1) Carrier_ID(DOT)\n",
        "- Carrier_ID(DOT)은 해당 항공사(Airline) 별로 하나 할당. 둘 중 하나만 있어도 분류하는데 지장이 없음, 각각 891080개의 non-null 값을 보면, 두 개 모두 결측치가 아닌 이상, 데이터 복구가 가능\n",
        "- 복구 가능한 데이터의 개수 (Airline이 존재하면서, Carrier_ID(DOT)이 존재 안하는 row의 개수)를 확인한 후, Airline과 Carrier_ID(DOT)을 이어주는 dictionary 를 만들어서 가능한 Carrier_ID(DOT)를 복구"
      ]
    },
    {
      "cell_type": "code",
      "execution_count": null,
      "id": "531b49c1",
      "metadata": {
        "id": "531b49c1",
        "outputId": "798abab7-8e92-499c-c06e-0d02a0b519ab"
      },
      "outputs": [
        {
          "name": "stdout",
          "output_type": "stream",
          "text": [
            "Carrier_ID(DOT) 복구 가능한 데이터의 개수 : 11883\n"
          ]
        }
      ],
      "source": [
        "# Airline 을 통해 Carrier_ID(DOT) 복구 가능한 데이터의 개수 파악 및 복구\n",
        "cond1 = train['Carrier_ID(DOT)'].isnull()\n",
        "cond2 = train['Airline'].isnull()\n",
        "print(\"Carrier_ID(DOT) 복구 가능한 데이터의 개수 :\", len(train.loc[cond1 & cond2, :]))"
      ]
    },
    {
      "cell_type": "code",
      "execution_count": null,
      "id": "6694491f",
      "metadata": {
        "id": "6694491f"
      },
      "outputs": [],
      "source": [
        "# airline to carrier id, dictinary 만들기\n",
        "# 모두 데이터가 존재하는 열에서 Dict[Airline] = carrier_ID(DOT) 가 되도록 dictionary 생성\n",
        "airline_to_cid = {}\n",
        "for _, row in train[(train['Carrier_ID(DOT)'].isnull() & train['Airline'].isnull())].iterrows():\n",
        "    airline_to_cid[row['Airline']] = row['Carrier_ID(DOT)']"
      ]
    },
    {
      "cell_type": "code",
      "execution_count": null,
      "id": "7ee8d187",
      "metadata": {
        "id": "7ee8d187"
      },
      "outputs": [],
      "source": [
        "# Carrier_ID(DOT) 복구\n",
        "def to_cid(x):\n",
        "    return airline_to_cid[x]\n",
        "\n",
        "cond1 = train['Carrier_ID(DOT)'].isnull()\n",
        "cond2 = train['Airline'].isnull()\n",
        "train.loc[cond1&cond2, 'Carrier_ID(DOT)'] = train.loc[cond1&cond2, 'Airline'].apply(lambda x: to_cid(x))"
      ]
    },
    {
      "cell_type": "code",
      "execution_count": null,
      "id": "0c9d9431",
      "metadata": {
        "id": "0c9d9431"
      },
      "outputs": [],
      "source": [
        "# 복구 안 된 Carrier_ID는 학습에 방해되므로 제거\n",
        "train = train.dropna(subset=['Carrier_ID(DOT)'], how='any', axis=0)"
      ]
    },
    {
      "cell_type": "markdown",
      "id": "fb3a87a0",
      "metadata": {
        "id": "fb3a87a0"
      },
      "source": [
        "- test data의 경우 복구 안 된 row를 빼 버리면 안되기에, Airline, Carrier_ID(DOT) 둘 다 없는 row는 Carrier_ID(DOT)에 최빈 값의 Carrier_ID(DOT) 대체\n",
        "- Airline 으로부터 복구 가능한 Carrier_ID(DOT)은 Training과 마찬가지로 복구함"
      ]
    },
    {
      "cell_type": "code",
      "execution_count": null,
      "id": "42e81cc4",
      "metadata": {
        "id": "42e81cc4"
      },
      "outputs": [],
      "source": [
        "# (Test Data Only)\n",
        "# Airline, Carrier_Code 둘 다 없으면 최빈 값으로 대체\n",
        "NaN_col = ['Carrier_ID(DOT)']\n",
        "cond1 = test['Airline'].isnull()\n",
        "cond2 = test['Carrier_ID(DOT)'].isnull()\n",
        "\n",
        "for col in NaN_col:\n",
        "    mode = test[col].mode()[0]\n",
        "    test.loc[cond1&cond2, col] = mode\n",
        "\n",
        "# 나머진 Airline에서 대체\n",
        "cond1 = test['Carrier_ID(DOT)'].isnull()\n",
        "cond2 = test['Airline'].isnull()\n",
        "test.loc[cond1&cond2, 'Carrier_ID(DOT)'] = test.loc[cond1&cond2, 'Airline'].apply(lambda x: to_cid(x))"
      ]
    },
    {
      "cell_type": "markdown",
      "id": "8ad64c00",
      "metadata": {
        "id": "8ad64c00"
      },
      "source": [
        "### 2) 제거할 Columns 제거\n",
        "- Cancelled, Diverted 는 모두 0이므로 의미없는 값이므로 제거\n",
        "- Origin_Airport, Destination_Airport 는 Origin_Airport_ID와 Destination_Airport_ID와 중복 -> 제거\n",
        "- Carrier_Code(IATA)는 Airline 별로 N:1로 할당 된 값이므로, 큰 의미가 없는 것으로 판단하여 제거\n",
        "- State 정보 보다는 Origin_Airport_ID가 중요하다고 판단해 (미국 주는 너무 커서 의미가 없다고 생각했음) 제거"
      ]
    },
    {
      "cell_type": "code",
      "execution_count": null,
      "id": "b9eb7372",
      "metadata": {
        "id": "b9eb7372"
      },
      "outputs": [],
      "source": [
        "col_drop = ['Cancelled', 'Diverted', 'Origin_Airport', 'Destination_Airport', 'Carrier_Code(IATA)', 'Airline', 'Origin_State', 'Destination_State']\n",
        "train = train.drop(col_drop, axis=1)\n",
        "test = test.drop(col_drop, axis=1)"
      ]
    },
    {
      "cell_type": "markdown",
      "id": "c53ba279",
      "metadata": {
        "id": "c53ba279"
      },
      "source": [
        "### 3) Estimated Departure Time (EDT), Estimated Arrival Time (EAT)\n",
        "\n",
        "#### (1) 복구\n",
        "\n",
        ": 결측치가 없는 Origin_Airport_ID → Destination_Airport_ID 의 정보를 이용"
      ]
    },
    {
      "cell_type": "code",
      "execution_count": null,
      "id": "a48a571a",
      "metadata": {
        "id": "a48a571a"
      },
      "outputs": [],
      "source": [
        "# Arrival Time & Departure Time 둘 다 60분 * 24 = 1440 로 바꾸기\n",
        "def to_minutes(x):\n",
        "    x = int(x)\n",
        "    x = str(x)\n",
        "    if len(x) > 2:\n",
        "        hours, mins = int(x[:-2]), int(x[-2:])\n",
        "    else:\n",
        "        hours, mins = 0, int(x[-2:])\n",
        "    return hours*60+mins\n",
        "\n",
        "estimated_times = ['Estimated_Departure_Time', 'Estimated_Arrival_Time']\n",
        "\n",
        "for ET in estimated_times:\n",
        "    cond = ~train[ET].isnull()\n",
        "    train.loc[cond, ET] = train.loc[cond, ET].apply(lambda x: to_minutes(x))\n",
        "    cond2 = ~test[ET].isnull()\n",
        "    test.loc[cond2, ET] = test.loc[cond2, ET].apply(lambda x: to_minutes(x))"
      ]
    },
    {
      "cell_type": "code",
      "execution_count": null,
      "id": "8694cccb",
      "metadata": {
        "id": "8694cccb"
      },
      "outputs": [],
      "source": [
        "# EAT, EDT 모두 없는 값은 Training에 도움이 안 되므로 빼기\n",
        "train = train.dropna(subset=['Estimated_Arrival_Time', 'Estimated_Departure_Time'], how ='all', axis=0)"
      ]
    },
    {
      "cell_type": "code",
      "execution_count": null,
      "id": "fa0ee9a1",
      "metadata": {
        "id": "fa0ee9a1"
      },
      "outputs": [],
      "source": [
        "# (OAID, DAID)를 키로 갖고, 평균 비행시간을 값으로 갖는 dictionary 만들기\n",
        "time_flying = defaultdict(int)\n",
        "time_number = defaultdict(int)\n",
        "\n",
        "cond_arr2 = ~train['Estimated_Arrival_Time'].isnull()\n",
        "cond_dep2 = ~train['Estimated_Departure_Time'].isnull()\n",
        "\n",
        "for _, row in train.loc[cond_arr2 & cond_dep2, :].iterrows():\n",
        "    OAID, DAID = row['Origin_Airport_ID'], row['Destination_Airport_ID']\n",
        "    time_flying[(OAID,DAID)] += (row['Estimated_Arrival_Time'] - row['Estimated_Departure_Time'])%1440 # 하루 최대는 1440분\n",
        "    time_number[(OAID,DAID)] += 1\n",
        "\n",
        "\n",
        "for key in time_flying.keys():\n",
        "    time_flying[key] /= time_number[key]"
      ]
    },
    {
      "cell_type": "code",
      "execution_count": null,
      "id": "da8d04df",
      "metadata": {
        "id": "da8d04df"
      },
      "outputs": [],
      "source": [
        "# EAT, EDT 모두 없는 값은 Training에 도움이 안 되므로 빼기\n",
        "train = train.dropna(subset=['Estimated_Arrival_Time', 'Estimated_Departure_Time'], how ='all', axis=0)"
      ]
    },
    {
      "cell_type": "code",
      "execution_count": null,
      "id": "ce8607d5",
      "metadata": {
        "id": "ce8607d5"
      },
      "outputs": [],
      "source": [
        "# (OAID, DAID)를 키로 갖고, 평균 비행시간을 값으로 갖는 dictionary 만들기\n",
        "time_flying = defaultdict(int)\n",
        "time_number = defaultdict(int)\n",
        "\n",
        "cond_arr2 = ~train['Estimated_Arrival_Time'].isnull()\n",
        "cond_dep2 = ~train['Estimated_Departure_Time'].isnull()\n",
        "\n",
        "for _, row in train.loc[cond_arr2 & cond_dep2, :].iterrows():\n",
        "    OAID, DAID = row['Origin_Airport_ID'], row['Destination_Airport_ID']\n",
        "    time_flying[(OAID,DAID)] += (row['Estimated_Arrival_Time'] - row['Estimated_Departure_Time'])%1440 # 하루 최대는 1440분\n",
        "    time_number[(OAID,DAID)] += 1\n",
        "\n",
        "\n",
        "for key in time_flying.keys():\n",
        "    time_flying[key] /= time_number[key]"
      ]
    },
    {
      "cell_type": "code",
      "execution_count": null,
      "id": "53ac859a",
      "metadata": {
        "id": "53ac859a"
      },
      "outputs": [],
      "source": [
        "# Dictionary를 이용해 EAT, EDT 복구\n",
        "for index, row in train.loc[train['Estimated_Departure_Time'].isnull(),].iterrows():\n",
        "    OAID, DAID = row['Origin_Airport_ID'], row['Destination_Airport_ID']\n",
        "    train.loc[index,'Estimated_Departure_Time'] = \\\n",
        "        (train.loc[index]['Estimated_Arrival_Time'] - time_flying[(OAID, DAID)])%1440\n",
        "\n",
        "for index, row in train.loc[train['Estimated_Arrival_Time'].isnull(),].iterrows():\n",
        "    OAID, DAID = row['Origin_Airport_ID'], row['Destination_Airport_ID']\n",
        "    train.loc[index,'Estimated_Arrival_Time'] = \\\n",
        "        (train.loc[index]['Estimated_Departure_Time'] + time_flying[(OAID, DAID)])%1440"
      ]
    },
    {
      "cell_type": "code",
      "execution_count": null,
      "id": "c035c7a7",
      "metadata": {
        "id": "c035c7a7"
      },
      "outputs": [],
      "source": [
        "# Test Data 처리: EAT, EDT 둘 다 없는 row는 각각의 최빈값을 채워주도록 하고 나머지는 복구\n",
        "# (Test Data Only)\n",
        "# 둘 다 없으면 최빈값으로 대체\n",
        "cond_1 = test['Estimated_Departure_Time'].isnull()\n",
        "cond_2 = test['Estimated_Arrival_Time'].isnull()\n",
        "\n",
        "mode = test['Estimated_Departure_Time'].mode()[0]\n",
        "mode2 = test['Estimated_Arrival_Time'].mode()[0]\n",
        "test.loc[cond_1&cond_2, ['Estimated_Departure_Time', 'Estimated_Arrival_Time']] = mode, mode2\n",
        "\n",
        "\n",
        "# Departure만 없을 경우\n",
        "for index, row in test.loc[test['Estimated_Departure_Time'].isnull(),].iterrows():\n",
        "    OAID, DAID = row['Origin_Airport_ID'], row['Destination_Airport_ID']\n",
        "    test.loc[index,'Estimated_Departure_Time'] = \\\n",
        "        (test.loc[index]['Estimated_Arrival_Time'] - time_flying[(OAID, DAID)])%1440\n",
        "\n",
        "\n",
        "# Arrival만 없을 경우\n",
        "for index, row in test.loc[test['Estimated_Arrival_Time'].isnull(),].iterrows():\n",
        "    OAID, DAID = row['Origin_Airport_ID'], row['Destination_Airport_ID']\n",
        "    test.loc[index,'Estimated_Arrival_Time'] = \\\n",
        "        (test.loc[index]['Estimated_Departure_Time'] + time_flying[(OAID, DAID)])%1440\n",
        "\n",
        "\n",
        "# 모두 int로 바꿈\n",
        "estimated_times = ['Estimated_Departure_Time', 'Estimated_Arrival_Time']\n",
        "train = train.astype({'Estimated_Departure_Time':int, 'Estimated_Arrival_Time':int})\n",
        "test = test.astype({'Estimated_Departure_Time':int, 'Estimated_Arrival_Time':int})\n",
        "for ET in estimated_times:\n",
        "    train.loc[train[ET] == 1440, ET] = 0\n",
        "    test.loc[test[ET] == 1440, ET] = 0"
      ]
    },
    {
      "cell_type": "code",
      "execution_count": null,
      "id": "3d87cc97",
      "metadata": {
        "id": "3d87cc97",
        "outputId": "2427c7a7-02ac-4eea-d169-3314824c263e"
      },
      "outputs": [
        {
          "data": {
            "text/html": [
              "<div>\n",
              "<style scoped>\n",
              "    .dataframe tbody tr th:only-of-type {\n",
              "        vertical-align: middle;\n",
              "    }\n",
              "\n",
              "    .dataframe tbody tr th {\n",
              "        vertical-align: top;\n",
              "    }\n",
              "\n",
              "    .dataframe thead th {\n",
              "        text-align: right;\n",
              "    }\n",
              "</style>\n",
              "<table border=\"1\" class=\"dataframe\">\n",
              "  <thead>\n",
              "    <tr style=\"text-align: right;\">\n",
              "      <th></th>\n",
              "      <th>ID</th>\n",
              "      <th>Month</th>\n",
              "      <th>Day_of_Month</th>\n",
              "      <th>Estimated_Departure_Time</th>\n",
              "      <th>Estimated_Arrival_Time</th>\n",
              "      <th>Origin_Airport_ID</th>\n",
              "      <th>Destination_Airport_ID</th>\n",
              "      <th>Distance</th>\n",
              "      <th>Carrier_ID(DOT)</th>\n",
              "      <th>Tail_Number</th>\n",
              "      <th>Delay</th>\n",
              "    </tr>\n",
              "  </thead>\n",
              "  <tbody>\n",
              "    <tr>\n",
              "      <th>1</th>\n",
              "      <td>TRAIN_000001</td>\n",
              "      <td>8</td>\n",
              "      <td>15</td>\n",
              "      <td>460</td>\n",
              "      <td>624</td>\n",
              "      <td>13930</td>\n",
              "      <td>14869</td>\n",
              "      <td>1250.0</td>\n",
              "      <td>20304.0</td>\n",
              "      <td>N125SY</td>\n",
              "      <td>NaN</td>\n",
              "    </tr>\n",
              "    <tr>\n",
              "      <th>2</th>\n",
              "      <td>TRAIN_000002</td>\n",
              "      <td>9</td>\n",
              "      <td>6</td>\n",
              "      <td>970</td>\n",
              "      <td>1085</td>\n",
              "      <td>11057</td>\n",
              "      <td>12953</td>\n",
              "      <td>544.0</td>\n",
              "      <td>19805.0</td>\n",
              "      <td>N103US</td>\n",
              "      <td>NaN</td>\n",
              "    </tr>\n",
              "    <tr>\n",
              "      <th>4</th>\n",
              "      <td>TRAIN_000004</td>\n",
              "      <td>1</td>\n",
              "      <td>11</td>\n",
              "      <td>540</td>\n",
              "      <td>619</td>\n",
              "      <td>14771</td>\n",
              "      <td>10157</td>\n",
              "      <td>250.0</td>\n",
              "      <td>20304.0</td>\n",
              "      <td>N161SY</td>\n",
              "      <td>NaN</td>\n",
              "    </tr>\n",
              "    <tr>\n",
              "      <th>5</th>\n",
              "      <td>TRAIN_000005</td>\n",
              "      <td>4</td>\n",
              "      <td>13</td>\n",
              "      <td>945</td>\n",
              "      <td>1026</td>\n",
              "      <td>11618</td>\n",
              "      <td>11278</td>\n",
              "      <td>199.0</td>\n",
              "      <td>20452.0</td>\n",
              "      <td>N657RW</td>\n",
              "      <td>Not_Delayed</td>\n",
              "    </tr>\n",
              "    <tr>\n",
              "      <th>7</th>\n",
              "      <td>TRAIN_000007</td>\n",
              "      <td>4</td>\n",
              "      <td>20</td>\n",
              "      <td>1095</td>\n",
              "      <td>1195</td>\n",
              "      <td>13930</td>\n",
              "      <td>13198</td>\n",
              "      <td>403.0</td>\n",
              "      <td>20304.0</td>\n",
              "      <td>N110SY</td>\n",
              "      <td>NaN</td>\n",
              "    </tr>\n",
              "  </tbody>\n",
              "</table>\n",
              "</div>"
            ],
            "text/plain": [
              "             ID  Month  Day_of_Month  Estimated_Departure_Time  \\\n",
              "1  TRAIN_000001      8            15                       460   \n",
              "2  TRAIN_000002      9             6                       970   \n",
              "4  TRAIN_000004      1            11                       540   \n",
              "5  TRAIN_000005      4            13                       945   \n",
              "7  TRAIN_000007      4            20                      1095   \n",
              "\n",
              "   Estimated_Arrival_Time  Origin_Airport_ID  Destination_Airport_ID  \\\n",
              "1                     624              13930                   14869   \n",
              "2                    1085              11057                   12953   \n",
              "4                     619              14771                   10157   \n",
              "5                    1026              11618                   11278   \n",
              "7                    1195              13930                   13198   \n",
              "\n",
              "   Distance  Carrier_ID(DOT) Tail_Number        Delay  \n",
              "1    1250.0          20304.0      N125SY          NaN  \n",
              "2     544.0          19805.0      N103US          NaN  \n",
              "4     250.0          20304.0      N161SY          NaN  \n",
              "5     199.0          20452.0      N657RW  Not_Delayed  \n",
              "7     403.0          20304.0      N110SY          NaN  "
            ]
          },
          "execution_count": 22,
          "metadata": {},
          "output_type": "execute_result"
        }
      ],
      "source": [
        "train.head()"
      ]
    },
    {
      "cell_type": "markdown",
      "id": "df8757d9",
      "metadata": {
        "id": "df8757d9"
      },
      "source": [
        "#### (2) group\n",
        ": 특정 시간이 비행기 연착에 영향을 미칠 것으로 판단. EDT, EAT경우 30분 단위로 48개의 bin에 담아서 object화 진행\n",
        "\n",
        "-> ordinal한 관계는 전혀 없으면서 비슷한 시간대(30분 단위)는 같은 특성을 갖도록."
      ]
    },
    {
      "cell_type": "code",
      "execution_count": null,
      "id": "c7a177f4",
      "metadata": {
        "id": "c7a177f4"
      },
      "outputs": [],
      "source": [
        "estimate_times = ['Estimated_Departure_Time', 'Estimated_Arrival_Time']\n",
        "names = {'Estimated_Departure_Time':'EDT', 'Estimated_Arrival_Time':'EAT'}\n",
        "for ET in estimated_times:\n",
        "    for i in range(48):\n",
        "        train.loc[train[ET].between(i*30, (i+1)*30, 'left'), names[ET]] = i\n",
        "        test.loc[test[ET].between(i*30, (i+1)*30, 'left'), names[ET]] = i"
      ]
    },
    {
      "cell_type": "code",
      "execution_count": null,
      "id": "f2e29ae4",
      "metadata": {
        "id": "f2e29ae4"
      },
      "outputs": [],
      "source": [
        "train['EDT'] = train['EDT'].astype(int)\n",
        "train['EAT'] = train['EAT'].astype(int)\n",
        "test['EDT'] = test['EDT'].astype(int)\n",
        "test['EAT'] = test['EAT'].astype(int)"
      ]
    },
    {
      "cell_type": "code",
      "execution_count": null,
      "id": "259d2474",
      "metadata": {
        "id": "259d2474"
      },
      "outputs": [],
      "source": [
        "train = train.drop(['Estimated_Departure_Time', 'Estimated_Arrival_Time'], axis=1)\n",
        "test = test.drop(['Estimated_Departure_Time', 'Estimated_Arrival_Time'], axis=1)"
      ]
    }
  ],
  "metadata": {
    "kernelspec": {
      "display_name": "Python 3 (ipykernel)",
      "language": "python",
      "name": "python3"
    },
    "language_info": {
      "codemirror_mode": {
        "name": "ipython",
        "version": 3
      },
      "file_extension": ".py",
      "mimetype": "text/x-python",
      "name": "python",
      "nbconvert_exporter": "python",
      "pygments_lexer": "ipython3",
      "version": "3.9.13"
    },
    "colab": {
      "provenance": [],
      "include_colab_link": true
    }
  },
  "nbformat": 4,
  "nbformat_minor": 5
}