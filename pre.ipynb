{
  "cells": [
    {
      "cell_type": "markdown",
      "metadata": {
        "id": "view-in-github",
        "colab_type": "text"
      },
      "source": [
        "<a href=\"https://colab.research.google.com/github/snghynn/ESAA-YB/blob/main/pre.ipynb\" target=\"_parent\"><img src=\"https://colab.research.google.com/assets/colab-badge.svg\" alt=\"Open In Colab\"/></a>"
      ]
    },
    {
      "cell_type": "markdown",
      "id": "67dd0be7",
      "metadata": {
        "id": "67dd0be7"
      },
      "source": [
        "<a href=\"https://colab.research.google.com/github/daa103/DAA_ESAA/blob/main/preprocessing_%EC%88%98%EC%A0%95.ipynb\" target=\"_parent\"><img src=\"https://colab.research.google.com/assets/colab-badge.svg\" alt=\"Open In Colab\"/></a>"
      ]
    },
    {
      "cell_type": "markdown",
      "id": "A6sBv95OTA26",
      "metadata": {
        "id": "A6sBv95OTA26"
      },
      "source": [
        "# **0. 대회 소개**\n",
        "- 항공편 운항 관련 정보를 활용하여 항공편 지연 여부를 예측하는 모델 개발\n",
        "- 데이터의 경우 레이블이 없는 경우가 많음\n",
        "  - 준지도학습 방식을 활용할 예정"
      ]
    },
    {
      "cell_type": "code",
      "execution_count": null,
      "id": "92e7a046-0bad-4e73-be84-f1bb3cb4dd69",
      "metadata": {
        "id": "92e7a046-0bad-4e73-be84-f1bb3cb4dd69"
      },
      "outputs": [],
      "source": [
        "import pandas as pd\n",
        "import numpy as np\n",
        "import seaborn as sns\n",
        "import matplotlib.pyplot as plt\n",
        "import random\n",
        "\n",
        "# os 관리를 위한 라이브러리\n",
        "import os\n",
        "import gc"
      ]
    },
    {
      "cell_type": "code",
      "execution_count": null,
      "id": "e4a25bfd-d2ec-4340-a613-720494952bc1",
      "metadata": {
        "id": "e4a25bfd-d2ec-4340-a613-720494952bc1"
      },
      "outputs": [],
      "source": [
        "def seed_everything(seed):\n",
        "    random.seed(seed)\n",
        "    os.environ['PYTHONHASHSEED'] = str(seed)\n",
        "    np.random.seed(seed)"
      ]
    },
    {
      "cell_type": "code",
      "execution_count": null,
      "id": "TJQjZj6BinLk",
      "metadata": {
        "id": "TJQjZj6BinLk"
      },
      "outputs": [],
      "source": [
        "seed_everything(42) # Seed 고정"
      ]
    },
    {
      "cell_type": "markdown",
      "id": "817bc98a-2046-4da1-8878-5104ba931bc3",
      "metadata": {
        "id": "817bc98a-2046-4da1-8878-5104ba931bc3"
      },
      "source": [
        "# **✔ csv to parquet**\n",
        "- [참고자료](https://butter-shower.tistory.com/245)  \n",
        "- 메모리에 효율적인 데이터 유형을 사용하여 용량을 줄이고 빠른 작업이 가능함"
      ]
    },
    {
      "cell_type": "code",
      "execution_count": null,
      "id": "2d5e4bd1-100d-4c50-89bf-59fe47b4cdc5",
      "metadata": {
        "id": "2d5e4bd1-100d-4c50-89bf-59fe47b4cdc5"
      },
      "outputs": [],
      "source": [
        "def csv_to_parquet(csv_path, save_name):\n",
        "    df = pd.read_csv(csv_path) # 기존 방식대로 파일을 읽어와 dataframe 형태로 저장\n",
        "    df.to_parquet(f'./{save_name}.parquet') # DataFrame to Parquet\n",
        "    del df # 기존의 데이터프레임 삭제\n",
        "    gc.collect() # 가비지 수거(사용되지 않는 메모리 회수)\n",
        "    print(save_name, 'Done.')"
      ]
    },
    {
      "cell_type": "markdown",
      "id": "207c6ea8-f8eb-4b87-9783-1930ee9417f1",
      "metadata": {
        "id": "207c6ea8-f8eb-4b87-9783-1930ee9417f1"
      },
      "source": [
        "# **1. 데이터 불러오기**"
      ]
    },
    {
      "cell_type": "code",
      "execution_count": null,
      "id": "0efe7ed9-f622-4790-b9f1-cae9490a29ba",
      "metadata": {
        "id": "0efe7ed9-f622-4790-b9f1-cae9490a29ba"
      },
      "outputs": [],
      "source": [
        "train=pd.read_csv(\"train.csv\")\n",
        "test=pd.read_csv(\"test.csv\")\n",
        "sample_submission=pd.read_csv(\"sample_submission.csv\")"
      ]
    },
    {
      "cell_type": "code",
      "execution_count": null,
      "id": "gy_Y_BLNnb46",
      "metadata": {
        "colab": {
          "base_uri": "https://localhost:8080/",
          "height": 311
        },
        "id": "gy_Y_BLNnb46",
        "outputId": "46c83519-74c1-47af-cb6b-c90f4975c874"
      },
      "outputs": [
        {
          "data": {
            "text/html": [
              "<div>\n",
              "<style scoped>\n",
              "    .dataframe tbody tr th:only-of-type {\n",
              "        vertical-align: middle;\n",
              "    }\n",
              "\n",
              "    .dataframe tbody tr th {\n",
              "        vertical-align: top;\n",
              "    }\n",
              "\n",
              "    .dataframe thead th {\n",
              "        text-align: right;\n",
              "    }\n",
              "</style>\n",
              "<table border=\"1\" class=\"dataframe\">\n",
              "  <thead>\n",
              "    <tr style=\"text-align: right;\">\n",
              "      <th></th>\n",
              "      <th>ID</th>\n",
              "      <th>Month</th>\n",
              "      <th>Day_of_Month</th>\n",
              "      <th>Estimated_Departure_Time</th>\n",
              "      <th>Estimated_Arrival_Time</th>\n",
              "      <th>Cancelled</th>\n",
              "      <th>Diverted</th>\n",
              "      <th>Origin_Airport</th>\n",
              "      <th>Origin_Airport_ID</th>\n",
              "      <th>Origin_State</th>\n",
              "      <th>Destination_Airport</th>\n",
              "      <th>Destination_Airport_ID</th>\n",
              "      <th>Destination_State</th>\n",
              "      <th>Distance</th>\n",
              "      <th>Airline</th>\n",
              "      <th>Carrier_Code(IATA)</th>\n",
              "      <th>Carrier_ID(DOT)</th>\n",
              "      <th>Tail_Number</th>\n",
              "      <th>Delay</th>\n",
              "    </tr>\n",
              "  </thead>\n",
              "  <tbody>\n",
              "    <tr>\n",
              "      <th>0</th>\n",
              "      <td>TRAIN_000000</td>\n",
              "      <td>4</td>\n",
              "      <td>15</td>\n",
              "      <td>NaN</td>\n",
              "      <td>NaN</td>\n",
              "      <td>0</td>\n",
              "      <td>0</td>\n",
              "      <td>OKC</td>\n",
              "      <td>13851</td>\n",
              "      <td>Oklahoma</td>\n",
              "      <td>HOU</td>\n",
              "      <td>12191</td>\n",
              "      <td>Texas</td>\n",
              "      <td>419.0</td>\n",
              "      <td>Southwest Airlines Co.</td>\n",
              "      <td>WN</td>\n",
              "      <td>19393.0</td>\n",
              "      <td>N7858A</td>\n",
              "      <td>NaN</td>\n",
              "    </tr>\n",
              "    <tr>\n",
              "      <th>1</th>\n",
              "      <td>TRAIN_000001</td>\n",
              "      <td>8</td>\n",
              "      <td>15</td>\n",
              "      <td>740.0</td>\n",
              "      <td>1024.0</td>\n",
              "      <td>0</td>\n",
              "      <td>0</td>\n",
              "      <td>ORD</td>\n",
              "      <td>13930</td>\n",
              "      <td>Illinois</td>\n",
              "      <td>SLC</td>\n",
              "      <td>14869</td>\n",
              "      <td>Utah</td>\n",
              "      <td>1250.0</td>\n",
              "      <td>SkyWest Airlines Inc.</td>\n",
              "      <td>UA</td>\n",
              "      <td>20304.0</td>\n",
              "      <td>N125SY</td>\n",
              "      <td>NaN</td>\n",
              "    </tr>\n",
              "    <tr>\n",
              "      <th>2</th>\n",
              "      <td>TRAIN_000002</td>\n",
              "      <td>9</td>\n",
              "      <td>6</td>\n",
              "      <td>1610.0</td>\n",
              "      <td>1805.0</td>\n",
              "      <td>0</td>\n",
              "      <td>0</td>\n",
              "      <td>CLT</td>\n",
              "      <td>11057</td>\n",
              "      <td>North Carolina</td>\n",
              "      <td>LGA</td>\n",
              "      <td>12953</td>\n",
              "      <td>New York</td>\n",
              "      <td>544.0</td>\n",
              "      <td>American Airlines Inc.</td>\n",
              "      <td>AA</td>\n",
              "      <td>19805.0</td>\n",
              "      <td>N103US</td>\n",
              "      <td>NaN</td>\n",
              "    </tr>\n",
              "  </tbody>\n",
              "</table>\n",
              "</div>"
            ],
            "text/plain": [
              "             ID  Month  Day_of_Month  Estimated_Departure_Time  \\\n",
              "0  TRAIN_000000      4            15                       NaN   \n",
              "1  TRAIN_000001      8            15                     740.0   \n",
              "2  TRAIN_000002      9             6                    1610.0   \n",
              "\n",
              "   Estimated_Arrival_Time  Cancelled  Diverted Origin_Airport  \\\n",
              "0                     NaN          0         0            OKC   \n",
              "1                  1024.0          0         0            ORD   \n",
              "2                  1805.0          0         0            CLT   \n",
              "\n",
              "   Origin_Airport_ID    Origin_State Destination_Airport  \\\n",
              "0              13851        Oklahoma                 HOU   \n",
              "1              13930        Illinois                 SLC   \n",
              "2              11057  North Carolina                 LGA   \n",
              "\n",
              "   Destination_Airport_ID Destination_State  Distance                 Airline  \\\n",
              "0                   12191             Texas     419.0  Southwest Airlines Co.   \n",
              "1                   14869              Utah    1250.0   SkyWest Airlines Inc.   \n",
              "2                   12953          New York     544.0  American Airlines Inc.   \n",
              "\n",
              "  Carrier_Code(IATA)  Carrier_ID(DOT) Tail_Number Delay  \n",
              "0                 WN          19393.0      N7858A   NaN  \n",
              "1                 UA          20304.0      N125SY   NaN  \n",
              "2                 AA          19805.0      N103US   NaN  "
            ]
          },
          "execution_count": 6,
          "metadata": {},
          "output_type": "execute_result"
        }
      ],
      "source": [
        "train.head(3)"
      ]
    },
    {
      "cell_type": "code",
      "execution_count": null,
      "id": "-3fn8OmdnfKq",
      "metadata": {
        "colab": {
          "base_uri": "https://localhost:8080/",
          "height": 311
        },
        "id": "-3fn8OmdnfKq",
        "outputId": "382279d2-f970-49ba-d037-cc716f0039ef"
      },
      "outputs": [
        {
          "data": {
            "text/html": [
              "<div>\n",
              "<style scoped>\n",
              "    .dataframe tbody tr th:only-of-type {\n",
              "        vertical-align: middle;\n",
              "    }\n",
              "\n",
              "    .dataframe tbody tr th {\n",
              "        vertical-align: top;\n",
              "    }\n",
              "\n",
              "    .dataframe thead th {\n",
              "        text-align: right;\n",
              "    }\n",
              "</style>\n",
              "<table border=\"1\" class=\"dataframe\">\n",
              "  <thead>\n",
              "    <tr style=\"text-align: right;\">\n",
              "      <th></th>\n",
              "      <th>ID</th>\n",
              "      <th>Month</th>\n",
              "      <th>Day_of_Month</th>\n",
              "      <th>Estimated_Departure_Time</th>\n",
              "      <th>Estimated_Arrival_Time</th>\n",
              "      <th>Cancelled</th>\n",
              "      <th>Diverted</th>\n",
              "      <th>Origin_Airport</th>\n",
              "      <th>Origin_Airport_ID</th>\n",
              "      <th>Origin_State</th>\n",
              "      <th>Destination_Airport</th>\n",
              "      <th>Destination_Airport_ID</th>\n",
              "      <th>Destination_State</th>\n",
              "      <th>Distance</th>\n",
              "      <th>Airline</th>\n",
              "      <th>Carrier_Code(IATA)</th>\n",
              "      <th>Carrier_ID(DOT)</th>\n",
              "      <th>Tail_Number</th>\n",
              "    </tr>\n",
              "  </thead>\n",
              "  <tbody>\n",
              "    <tr>\n",
              "      <th>0</th>\n",
              "      <td>TEST_000000</td>\n",
              "      <td>12</td>\n",
              "      <td>16</td>\n",
              "      <td>1156.0</td>\n",
              "      <td>NaN</td>\n",
              "      <td>0</td>\n",
              "      <td>0</td>\n",
              "      <td>IAH</td>\n",
              "      <td>12266</td>\n",
              "      <td>Texas</td>\n",
              "      <td>SAT</td>\n",
              "      <td>14683</td>\n",
              "      <td>Texas</td>\n",
              "      <td>191.0</td>\n",
              "      <td>United Air Lines Inc.</td>\n",
              "      <td>UA</td>\n",
              "      <td>NaN</td>\n",
              "      <td>N79402</td>\n",
              "    </tr>\n",
              "    <tr>\n",
              "      <th>1</th>\n",
              "      <td>TEST_000001</td>\n",
              "      <td>9</td>\n",
              "      <td>12</td>\n",
              "      <td>1500.0</td>\n",
              "      <td>1715.0</td>\n",
              "      <td>0</td>\n",
              "      <td>0</td>\n",
              "      <td>EWR</td>\n",
              "      <td>11618</td>\n",
              "      <td>New Jersey</td>\n",
              "      <td>ATL</td>\n",
              "      <td>10397</td>\n",
              "      <td>NaN</td>\n",
              "      <td>746.0</td>\n",
              "      <td>Delta Air Lines Inc.</td>\n",
              "      <td>DL</td>\n",
              "      <td>19790.0</td>\n",
              "      <td>N3765</td>\n",
              "    </tr>\n",
              "    <tr>\n",
              "      <th>2</th>\n",
              "      <td>TEST_000002</td>\n",
              "      <td>3</td>\n",
              "      <td>6</td>\n",
              "      <td>1600.0</td>\n",
              "      <td>1915.0</td>\n",
              "      <td>0</td>\n",
              "      <td>0</td>\n",
              "      <td>ORD</td>\n",
              "      <td>13930</td>\n",
              "      <td>Illinois</td>\n",
              "      <td>LGA</td>\n",
              "      <td>12953</td>\n",
              "      <td>New York</td>\n",
              "      <td>733.0</td>\n",
              "      <td>United Air Lines Inc.</td>\n",
              "      <td>UA</td>\n",
              "      <td>19977.0</td>\n",
              "      <td>N413UA</td>\n",
              "    </tr>\n",
              "  </tbody>\n",
              "</table>\n",
              "</div>"
            ],
            "text/plain": [
              "            ID  Month  Day_of_Month  Estimated_Departure_Time  \\\n",
              "0  TEST_000000     12            16                    1156.0   \n",
              "1  TEST_000001      9            12                    1500.0   \n",
              "2  TEST_000002      3             6                    1600.0   \n",
              "\n",
              "   Estimated_Arrival_Time  Cancelled  Diverted Origin_Airport  \\\n",
              "0                     NaN          0         0            IAH   \n",
              "1                  1715.0          0         0            EWR   \n",
              "2                  1915.0          0         0            ORD   \n",
              "\n",
              "   Origin_Airport_ID Origin_State Destination_Airport  Destination_Airport_ID  \\\n",
              "0              12266        Texas                 SAT                   14683   \n",
              "1              11618   New Jersey                 ATL                   10397   \n",
              "2              13930     Illinois                 LGA                   12953   \n",
              "\n",
              "  Destination_State  Distance                Airline Carrier_Code(IATA)  \\\n",
              "0             Texas     191.0  United Air Lines Inc.                 UA   \n",
              "1               NaN     746.0   Delta Air Lines Inc.                 DL   \n",
              "2          New York     733.0  United Air Lines Inc.                 UA   \n",
              "\n",
              "   Carrier_ID(DOT) Tail_Number  \n",
              "0              NaN      N79402  \n",
              "1          19790.0       N3765  \n",
              "2          19977.0      N413UA  "
            ]
          },
          "execution_count": 7,
          "metadata": {},
          "output_type": "execute_result"
        }
      ],
      "source": [
        "test.head(3)"
      ]
    },
    {
      "cell_type": "code",
      "execution_count": null,
      "id": "wLfzQ1FxnmTV",
      "metadata": {
        "colab": {
          "base_uri": "https://localhost:8080/",
          "height": 175
        },
        "id": "wLfzQ1FxnmTV",
        "outputId": "c9e06ec0-8081-4bb1-8039-e5f91d213f66"
      },
      "outputs": [
        {
          "data": {
            "text/html": [
              "<div>\n",
              "<style scoped>\n",
              "    .dataframe tbody tr th:only-of-type {\n",
              "        vertical-align: middle;\n",
              "    }\n",
              "\n",
              "    .dataframe tbody tr th {\n",
              "        vertical-align: top;\n",
              "    }\n",
              "\n",
              "    .dataframe thead th {\n",
              "        text-align: right;\n",
              "    }\n",
              "</style>\n",
              "<table border=\"1\" class=\"dataframe\">\n",
              "  <thead>\n",
              "    <tr style=\"text-align: right;\">\n",
              "      <th></th>\n",
              "      <th>ID</th>\n",
              "      <th>Not_Delayed</th>\n",
              "      <th>Delayed</th>\n",
              "    </tr>\n",
              "  </thead>\n",
              "  <tbody>\n",
              "    <tr>\n",
              "      <th>0</th>\n",
              "      <td>TEST_000000</td>\n",
              "      <td>0</td>\n",
              "      <td>1</td>\n",
              "    </tr>\n",
              "    <tr>\n",
              "      <th>1</th>\n",
              "      <td>TEST_000001</td>\n",
              "      <td>0</td>\n",
              "      <td>1</td>\n",
              "    </tr>\n",
              "    <tr>\n",
              "      <th>2</th>\n",
              "      <td>TEST_000002</td>\n",
              "      <td>0</td>\n",
              "      <td>1</td>\n",
              "    </tr>\n",
              "  </tbody>\n",
              "</table>\n",
              "</div>"
            ],
            "text/plain": [
              "            ID  Not_Delayed  Delayed\n",
              "0  TEST_000000            0        1\n",
              "1  TEST_000001            0        1\n",
              "2  TEST_000002            0        1"
            ]
          },
          "execution_count": 8,
          "metadata": {},
          "output_type": "execute_result"
        }
      ],
      "source": [
        "sample_submission.head(3)"
      ]
    },
    {
      "cell_type": "markdown",
      "id": "fdf53d4e-957d-4b3f-8d6b-0335822e1794",
      "metadata": {
        "id": "fdf53d4e-957d-4b3f-8d6b-0335822e1794"
      },
      "source": [
        "# **2. 데이터 전처리**"
      ]
    },
    {
      "cell_type": "markdown",
      "id": "5Hqa1slYI9-9",
      "metadata": {
        "id": "5Hqa1slYI9-9"
      },
      "source": [
        "## **📌 Data Description**\n",
        "**항공편 운항 관련 정보**  \n",
        "- ID : 샘플 고유 id\n",
        "- Month: 해당 항공편의 출발 월\n",
        "- Day_of_Month: Month에 해당하는 월의 날짜\n",
        "- Estimated_Departure_Time: 전산 시스템을 바탕으로 측정된 비행기의 출발 시간  \n",
        "(현지 시각, HH:MM 형식)\n",
        "- Estimated_Arrival_Time: 전산 시스템을 바탕으로 측정된 비행기의 도착 시간  \n",
        "(현지 시각, HH:MM 형식)\n",
        "- Cancelled: 해당 항공편의 취소 여부  \n",
        "(0: 취소되지 않음, 1: 취소됨)\n",
        "- Diverted: 해당 항공편의 경유 여부  \n",
        "(0: 취소되지 않음, 1: 취소됨)\n",
        "- Origin_Airport: 해당 항공편 출발 공항의 고유 코드(IATA 공항 코드)\n",
        "- Origin_Airport_ID: 해당 항공편 출발 공항의 고유 ID(US DOT ID)\n",
        "- Origin_State: 해당 항공편 출발 공항이 위치한 주의 이름\n",
        "- Destination_Airport: 해당 항공편 도착 공항의 고유 코드 (IATA 공항 코드)\n",
        "- Destination_Airport_ID: 해당 항공편 도착 공항의 고유 ID (US DOT ID)\n",
        "- Destination_State: 해당 항공편 도착 공항이 위치한 주의 이름\n",
        "- Distance: 출발 공항과 도착 공항 사이의 거리 (mile 단위)\n",
        "- Airline: 해당 항공편을 운항하는 항공사\n",
        "- Carrier_Code(IATA): 해당 항공편을 운항하는 항공사의 고유 코드  \n",
        "(IATA 공항 코드, 단 다른 항공사가 같은 코드를 보유할 수도 있음)\n",
        "- Carrier_ID(DOT): 해당 항공편을 운항하는 항공사의 고유 ID (US DOT ID)\n",
        "- Tail_Number: 해당 항공편을 운항하는 항공기의 고유 등록번호\n",
        "- Delay: 항공편 지연 여부 (Not_Delayed, Delayed)\n",
        "  - 예측해야 하는 **타깃**\n",
        "  - 다수의 데이터에 레이블이 존재하지 않음\n",
        "  - 준지도학습을 통해 레이블링 가능"
      ]
    },
    {
      "cell_type": "code",
      "execution_count": null,
      "id": "nDKAcnKBH7id",
      "metadata": {
        "colab": {
          "base_uri": "https://localhost:8080/"
        },
        "id": "nDKAcnKBH7id",
        "outputId": "75300235-86cb-4136-978a-f587cdbb8b58"
      },
      "outputs": [
        {
          "name": "stdout",
          "output_type": "stream",
          "text": [
            "<class 'pandas.core.frame.DataFrame'>\n",
            "RangeIndex: 1000000 entries, 0 to 999999\n",
            "Data columns (total 19 columns):\n",
            " #   Column                    Non-Null Count    Dtype  \n",
            "---  ------                    --------------    -----  \n",
            " 0   ID                        1000000 non-null  object \n",
            " 1   Month                     1000000 non-null  int64  \n",
            " 2   Day_of_Month              1000000 non-null  int64  \n",
            " 3   Estimated_Departure_Time  890981 non-null   float64\n",
            " 4   Estimated_Arrival_Time    890960 non-null   float64\n",
            " 5   Cancelled                 1000000 non-null  int64  \n",
            " 6   Diverted                  1000000 non-null  int64  \n",
            " 7   Origin_Airport            1000000 non-null  object \n",
            " 8   Origin_Airport_ID         1000000 non-null  int64  \n",
            " 9   Origin_State              890985 non-null   object \n",
            " 10  Destination_Airport       1000000 non-null  object \n",
            " 11  Destination_Airport_ID    1000000 non-null  int64  \n",
            " 12  Destination_State         890921 non-null   object \n",
            " 13  Distance                  1000000 non-null  float64\n",
            " 14  Airline                   891080 non-null   object \n",
            " 15  Carrier_Code(IATA)        891010 non-null   object \n",
            " 16  Carrier_ID(DOT)           891003 non-null   float64\n",
            " 17  Tail_Number               1000000 non-null  object \n",
            " 18  Delay                     255001 non-null   object \n",
            "dtypes: float64(4), int64(6), object(9)\n",
            "memory usage: 145.0+ MB\n"
          ]
        }
      ],
      "source": [
        "### 데이터 형태 확인\n",
        "\n",
        "train.info()"
      ]
    },
    {
      "cell_type": "code",
      "execution_count": null,
      "id": "g1_0ovndhg-s",
      "metadata": {
        "colab": {
          "base_uri": "https://localhost:8080/",
          "height": 300
        },
        "id": "g1_0ovndhg-s",
        "outputId": "fafd5fd0-0c98-499d-f9be-f444dd272d07"
      },
      "outputs": [
        {
          "data": {
            "text/html": [
              "<div>\n",
              "<style scoped>\n",
              "    .dataframe tbody tr th:only-of-type {\n",
              "        vertical-align: middle;\n",
              "    }\n",
              "\n",
              "    .dataframe tbody tr th {\n",
              "        vertical-align: top;\n",
              "    }\n",
              "\n",
              "    .dataframe thead th {\n",
              "        text-align: right;\n",
              "    }\n",
              "</style>\n",
              "<table border=\"1\" class=\"dataframe\">\n",
              "  <thead>\n",
              "    <tr style=\"text-align: right;\">\n",
              "      <th></th>\n",
              "      <th>Month</th>\n",
              "      <th>Day_of_Month</th>\n",
              "      <th>Estimated_Departure_Time</th>\n",
              "      <th>Estimated_Arrival_Time</th>\n",
              "      <th>Cancelled</th>\n",
              "      <th>Diverted</th>\n",
              "      <th>Origin_Airport_ID</th>\n",
              "      <th>Destination_Airport_ID</th>\n",
              "      <th>Distance</th>\n",
              "      <th>Carrier_ID(DOT)</th>\n",
              "    </tr>\n",
              "  </thead>\n",
              "  <tbody>\n",
              "    <tr>\n",
              "      <th>count</th>\n",
              "      <td>1000000.000000</td>\n",
              "      <td>1000000.000000</td>\n",
              "      <td>890981.000000</td>\n",
              "      <td>890960.000000</td>\n",
              "      <td>1000000.0</td>\n",
              "      <td>1000000.0</td>\n",
              "      <td>1000000.000000</td>\n",
              "      <td>1000000.000000</td>\n",
              "      <td>1000000.000000</td>\n",
              "      <td>891003.000000</td>\n",
              "    </tr>\n",
              "    <tr>\n",
              "      <th>mean</th>\n",
              "      <td>6.945156</td>\n",
              "      <td>15.764842</td>\n",
              "      <td>1341.153019</td>\n",
              "      <td>1493.295934</td>\n",
              "      <td>0.0</td>\n",
              "      <td>0.0</td>\n",
              "      <td>12696.278484</td>\n",
              "      <td>12701.813986</td>\n",
              "      <td>784.078499</td>\n",
              "      <td>19997.388093</td>\n",
              "    </tr>\n",
              "    <tr>\n",
              "      <th>std</th>\n",
              "      <td>3.462506</td>\n",
              "      <td>8.763515</td>\n",
              "      <td>489.814011</td>\n",
              "      <td>520.803494</td>\n",
              "      <td>0.0</td>\n",
              "      <td>0.0</td>\n",
              "      <td>1514.938441</td>\n",
              "      <td>1515.213044</td>\n",
              "      <td>590.790469</td>\n",
              "      <td>404.268639</td>\n",
              "    </tr>\n",
              "    <tr>\n",
              "      <th>min</th>\n",
              "      <td>1.000000</td>\n",
              "      <td>1.000000</td>\n",
              "      <td>1.000000</td>\n",
              "      <td>1.000000</td>\n",
              "      <td>0.0</td>\n",
              "      <td>0.0</td>\n",
              "      <td>10135.000000</td>\n",
              "      <td>10135.000000</td>\n",
              "      <td>16.000000</td>\n",
              "      <td>19393.000000</td>\n",
              "    </tr>\n",
              "    <tr>\n",
              "      <th>25%</th>\n",
              "      <td>4.000000</td>\n",
              "      <td>8.000000</td>\n",
              "      <td>925.000000</td>\n",
              "      <td>1105.000000</td>\n",
              "      <td>0.0</td>\n",
              "      <td>0.0</td>\n",
              "      <td>11292.000000</td>\n",
              "      <td>11292.000000</td>\n",
              "      <td>350.000000</td>\n",
              "      <td>19790.000000</td>\n",
              "    </tr>\n",
              "    <tr>\n",
              "      <th>50%</th>\n",
              "      <td>7.000000</td>\n",
              "      <td>16.000000</td>\n",
              "      <td>1332.000000</td>\n",
              "      <td>1524.000000</td>\n",
              "      <td>0.0</td>\n",
              "      <td>0.0</td>\n",
              "      <td>12889.000000</td>\n",
              "      <td>12889.000000</td>\n",
              "      <td>623.000000</td>\n",
              "      <td>19977.000000</td>\n",
              "    </tr>\n",
              "    <tr>\n",
              "      <th>75%</th>\n",
              "      <td>10.000000</td>\n",
              "      <td>23.000000</td>\n",
              "      <td>1742.000000</td>\n",
              "      <td>1924.000000</td>\n",
              "      <td>0.0</td>\n",
              "      <td>0.0</td>\n",
              "      <td>14057.000000</td>\n",
              "      <td>14057.000000</td>\n",
              "      <td>1020.000000</td>\n",
              "      <td>20378.000000</td>\n",
              "    </tr>\n",
              "    <tr>\n",
              "      <th>max</th>\n",
              "      <td>12.000000</td>\n",
              "      <td>31.000000</td>\n",
              "      <td>2359.000000</td>\n",
              "      <td>2400.000000</td>\n",
              "      <td>0.0</td>\n",
              "      <td>0.0</td>\n",
              "      <td>16869.000000</td>\n",
              "      <td>16869.000000</td>\n",
              "      <td>5095.000000</td>\n",
              "      <td>21171.000000</td>\n",
              "    </tr>\n",
              "  </tbody>\n",
              "</table>\n",
              "</div>"
            ],
            "text/plain": [
              "                Month    Day_of_Month  Estimated_Departure_Time  \\\n",
              "count  1000000.000000  1000000.000000             890981.000000   \n",
              "mean         6.945156       15.764842               1341.153019   \n",
              "std          3.462506        8.763515                489.814011   \n",
              "min          1.000000        1.000000                  1.000000   \n",
              "25%          4.000000        8.000000                925.000000   \n",
              "50%          7.000000       16.000000               1332.000000   \n",
              "75%         10.000000       23.000000               1742.000000   \n",
              "max         12.000000       31.000000               2359.000000   \n",
              "\n",
              "       Estimated_Arrival_Time  Cancelled   Diverted  Origin_Airport_ID  \\\n",
              "count           890960.000000  1000000.0  1000000.0     1000000.000000   \n",
              "mean              1493.295934        0.0        0.0       12696.278484   \n",
              "std                520.803494        0.0        0.0        1514.938441   \n",
              "min                  1.000000        0.0        0.0       10135.000000   \n",
              "25%               1105.000000        0.0        0.0       11292.000000   \n",
              "50%               1524.000000        0.0        0.0       12889.000000   \n",
              "75%               1924.000000        0.0        0.0       14057.000000   \n",
              "max               2400.000000        0.0        0.0       16869.000000   \n",
              "\n",
              "       Destination_Airport_ID        Distance  Carrier_ID(DOT)  \n",
              "count          1000000.000000  1000000.000000    891003.000000  \n",
              "mean             12701.813986      784.078499     19997.388093  \n",
              "std               1515.213044      590.790469       404.268639  \n",
              "min              10135.000000       16.000000     19393.000000  \n",
              "25%              11292.000000      350.000000     19790.000000  \n",
              "50%              12889.000000      623.000000     19977.000000  \n",
              "75%              14057.000000     1020.000000     20378.000000  \n",
              "max              16869.000000     5095.000000     21171.000000  "
            ]
          },
          "execution_count": 10,
          "metadata": {},
          "output_type": "execute_result"
        }
      ],
      "source": [
        "train.describe()"
      ]
    },
    {
      "cell_type": "markdown",
      "id": "EhkL4msUMi58",
      "metadata": {
        "id": "EhkL4msUMi58"
      },
      "source": [
        "- 컬럼명이 전체적으로 길고 복잡하다는 느낌이 있다.\n",
        "  - 컬럼명을 적절히 변경\n",
        "- ```Estimated_Departure_Time```, ```Estimated_Arrival_Time```, ```Origin_State```, ```Destination_State```, ```Airline```, ```Carrier_Code(IATA)```, ```Carrier_ID(DOT)```에 결측치 존재\n",
        "  - 결측치 처리 필요\n",
        "- 비슷한 정보들을 포함하고 있는 컬럼들이 존재\n",
        "  - 여러 개를 합치거나 변수를 선택적으로 활용\n",
        "- 데이터 간 스케일 차이가 존재\n",
        "  - 스케일링 진행"
      ]
    },
    {
      "cell_type": "markdown",
      "id": "F0q_Tv6bM-zz",
      "metadata": {
        "id": "F0q_Tv6bM-zz"
      },
      "source": [
        "## **2-1. 각 변수별로 보기**"
      ]
    },
    {
      "cell_type": "markdown",
      "id": "otpF7Im_M-xL",
      "metadata": {
        "id": "otpF7Im_M-xL"
      },
      "source": [
        "### **(a) ID**\n",
        "- ID의 경우 항공편 지연 예측에 대해 제공하는 정보가 없음\n",
        "  - 그저 데이터 구분을 위한 인덱스 정도\n",
        "> 해당 변수 삭제"
      ]
    },
    {
      "cell_type": "code",
      "execution_count": null,
      "id": "ssZk8qtwULnw",
      "metadata": {
        "id": "ssZk8qtwULnw"
      },
      "outputs": [],
      "source": [
        "train = train.drop(['ID'], axis = 1)\n",
        "test = test.drop(['ID'], axis = 1)"
      ]
    },
    {
      "cell_type": "markdown",
      "id": "KrcfvkqSUjqN",
      "metadata": {
        "id": "KrcfvkqSUjqN"
      },
      "source": [
        "### **(b) Month & Day_of_Month**\n",
        "- **특정 날짜**에 따라 항공편 지연 여부가 다를 것임\n",
        "  - 월과 일을 합쳐 하나의 날짜로 보기\n",
        "  - 크리스마스 등의 기념일, 국경일 등\n",
        "  - ```Holiday``` 파생 변수를 생성하여 국경일인지 아닌지를 표시(0: 공휴일 아님, 1: 공휴일)\n",
        "  - [미국 공휴일](https://ko.wikipedia.org/wiki/%EB%AF%B8%EA%B5%AD%EC%9D%98_%EA%B3%B5%ED%9C%B4%EC%9D%BC)\n",
        "- **월**의 경우 항공편 지연과 관련이 있을수도 있음\n",
        "  - 겨울같이 눈이 많이 오는 경우 항공편이 지연될 가능성이 더 높을 것이다.\n",
        "  - 계절로 구분"
      ]
    },
    {
      "cell_type": "code",
      "execution_count": null,
      "id": "_S1bbZencTjW",
      "metadata": {
        "id": "_S1bbZencTjW"
      },
      "outputs": [],
      "source": [
        "### 날짜 처리\n",
        "\n",
        "train.loc[:,'Month'] = train['Month'].apply(lambda x: str(x) if x >= 10 else (str(0) + str(x))) # 04\n",
        "train.loc[:,'Day_of_Month'] = train['Day_of_Month'].apply(lambda x: str(x) if x >= 10 else (str(0) + str(x))) # 09\n",
        "train['Date'] = train['Month'] + train['Day_of_Month'] # 날짜 변수 추가\n",
        "\n",
        "test.loc[:,'Month'] = test['Month'].apply(lambda x: str(x) if x >= 10 else (str(0) + str(x)))\n",
        "test.loc[:,'Day_of_Month'] = test['Day_of_Month'].apply(lambda x: str(x) if x >= 10 else (str(0) + str(x)))\n",
        "test['Date'] = test['Month'] + test['Day_of_Month']\n",
        "\n",
        "train = train.drop('Day_of_Month', axis = 1) # 일과 관련된 변수는 제거\n",
        "test = test.drop('Day_of_Month', axis = 1)"
      ]
    },
    {
      "cell_type": "code",
      "execution_count": null,
      "id": "MhBFaPcukq06",
      "metadata": {
        "colab": {
          "base_uri": "https://localhost:8080/",
          "height": 311
        },
        "id": "MhBFaPcukq06",
        "outputId": "1bea0475-e4af-47ca-9425-40eed245cb87"
      },
      "outputs": [
        {
          "data": {
            "text/html": [
              "<div>\n",
              "<style scoped>\n",
              "    .dataframe tbody tr th:only-of-type {\n",
              "        vertical-align: middle;\n",
              "    }\n",
              "\n",
              "    .dataframe tbody tr th {\n",
              "        vertical-align: top;\n",
              "    }\n",
              "\n",
              "    .dataframe thead th {\n",
              "        text-align: right;\n",
              "    }\n",
              "</style>\n",
              "<table border=\"1\" class=\"dataframe\">\n",
              "  <thead>\n",
              "    <tr style=\"text-align: right;\">\n",
              "      <th></th>\n",
              "      <th>Month</th>\n",
              "      <th>Estimated_Departure_Time</th>\n",
              "      <th>Estimated_Arrival_Time</th>\n",
              "      <th>Cancelled</th>\n",
              "      <th>Diverted</th>\n",
              "      <th>Origin_Airport</th>\n",
              "      <th>Origin_Airport_ID</th>\n",
              "      <th>Origin_State</th>\n",
              "      <th>Destination_Airport</th>\n",
              "      <th>Destination_Airport_ID</th>\n",
              "      <th>Destination_State</th>\n",
              "      <th>Distance</th>\n",
              "      <th>Airline</th>\n",
              "      <th>Carrier_Code(IATA)</th>\n",
              "      <th>Carrier_ID(DOT)</th>\n",
              "      <th>Tail_Number</th>\n",
              "      <th>Delay</th>\n",
              "      <th>Date</th>\n",
              "    </tr>\n",
              "  </thead>\n",
              "  <tbody>\n",
              "    <tr>\n",
              "      <th>0</th>\n",
              "      <td>04</td>\n",
              "      <td>NaN</td>\n",
              "      <td>NaN</td>\n",
              "      <td>0</td>\n",
              "      <td>0</td>\n",
              "      <td>OKC</td>\n",
              "      <td>13851</td>\n",
              "      <td>Oklahoma</td>\n",
              "      <td>HOU</td>\n",
              "      <td>12191</td>\n",
              "      <td>Texas</td>\n",
              "      <td>419.0</td>\n",
              "      <td>Southwest Airlines Co.</td>\n",
              "      <td>WN</td>\n",
              "      <td>19393.0</td>\n",
              "      <td>N7858A</td>\n",
              "      <td>NaN</td>\n",
              "      <td>0415</td>\n",
              "    </tr>\n",
              "    <tr>\n",
              "      <th>1</th>\n",
              "      <td>08</td>\n",
              "      <td>740.0</td>\n",
              "      <td>1024.0</td>\n",
              "      <td>0</td>\n",
              "      <td>0</td>\n",
              "      <td>ORD</td>\n",
              "      <td>13930</td>\n",
              "      <td>Illinois</td>\n",
              "      <td>SLC</td>\n",
              "      <td>14869</td>\n",
              "      <td>Utah</td>\n",
              "      <td>1250.0</td>\n",
              "      <td>SkyWest Airlines Inc.</td>\n",
              "      <td>UA</td>\n",
              "      <td>20304.0</td>\n",
              "      <td>N125SY</td>\n",
              "      <td>NaN</td>\n",
              "      <td>0815</td>\n",
              "    </tr>\n",
              "    <tr>\n",
              "      <th>2</th>\n",
              "      <td>09</td>\n",
              "      <td>1610.0</td>\n",
              "      <td>1805.0</td>\n",
              "      <td>0</td>\n",
              "      <td>0</td>\n",
              "      <td>CLT</td>\n",
              "      <td>11057</td>\n",
              "      <td>North Carolina</td>\n",
              "      <td>LGA</td>\n",
              "      <td>12953</td>\n",
              "      <td>New York</td>\n",
              "      <td>544.0</td>\n",
              "      <td>American Airlines Inc.</td>\n",
              "      <td>AA</td>\n",
              "      <td>19805.0</td>\n",
              "      <td>N103US</td>\n",
              "      <td>NaN</td>\n",
              "      <td>0906</td>\n",
              "    </tr>\n",
              "  </tbody>\n",
              "</table>\n",
              "</div>"
            ],
            "text/plain": [
              "  Month  Estimated_Departure_Time  Estimated_Arrival_Time  Cancelled  \\\n",
              "0    04                       NaN                     NaN          0   \n",
              "1    08                     740.0                  1024.0          0   \n",
              "2    09                    1610.0                  1805.0          0   \n",
              "\n",
              "   Diverted Origin_Airport  Origin_Airport_ID    Origin_State  \\\n",
              "0         0            OKC              13851        Oklahoma   \n",
              "1         0            ORD              13930        Illinois   \n",
              "2         0            CLT              11057  North Carolina   \n",
              "\n",
              "  Destination_Airport  Destination_Airport_ID Destination_State  Distance  \\\n",
              "0                 HOU                   12191             Texas     419.0   \n",
              "1                 SLC                   14869              Utah    1250.0   \n",
              "2                 LGA                   12953          New York     544.0   \n",
              "\n",
              "                  Airline Carrier_Code(IATA)  Carrier_ID(DOT) Tail_Number  \\\n",
              "0  Southwest Airlines Co.                 WN          19393.0      N7858A   \n",
              "1   SkyWest Airlines Inc.                 UA          20304.0      N125SY   \n",
              "2  American Airlines Inc.                 AA          19805.0      N103US   \n",
              "\n",
              "  Delay  Date  \n",
              "0   NaN  0415  \n",
              "1   NaN  0815  \n",
              "2   NaN  0906  "
            ]
          },
          "execution_count": 13,
          "metadata": {},
          "output_type": "execute_result"
        }
      ],
      "source": [
        "train.head(3)"
      ]
    },
    {
      "cell_type": "code",
      "execution_count": null,
      "id": "PXW3BjmFksjn",
      "metadata": {
        "colab": {
          "base_uri": "https://localhost:8080/",
          "height": 311
        },
        "id": "PXW3BjmFksjn",
        "outputId": "48970bb2-6a94-4ee0-dde6-57bbcd841b4d"
      },
      "outputs": [
        {
          "data": {
            "text/html": [
              "<div>\n",
              "<style scoped>\n",
              "    .dataframe tbody tr th:only-of-type {\n",
              "        vertical-align: middle;\n",
              "    }\n",
              "\n",
              "    .dataframe tbody tr th {\n",
              "        vertical-align: top;\n",
              "    }\n",
              "\n",
              "    .dataframe thead th {\n",
              "        text-align: right;\n",
              "    }\n",
              "</style>\n",
              "<table border=\"1\" class=\"dataframe\">\n",
              "  <thead>\n",
              "    <tr style=\"text-align: right;\">\n",
              "      <th></th>\n",
              "      <th>Month</th>\n",
              "      <th>Estimated_Departure_Time</th>\n",
              "      <th>Estimated_Arrival_Time</th>\n",
              "      <th>Cancelled</th>\n",
              "      <th>Diverted</th>\n",
              "      <th>Origin_Airport</th>\n",
              "      <th>Origin_Airport_ID</th>\n",
              "      <th>Origin_State</th>\n",
              "      <th>Destination_Airport</th>\n",
              "      <th>Destination_Airport_ID</th>\n",
              "      <th>Destination_State</th>\n",
              "      <th>Distance</th>\n",
              "      <th>Airline</th>\n",
              "      <th>Carrier_Code(IATA)</th>\n",
              "      <th>Carrier_ID(DOT)</th>\n",
              "      <th>Tail_Number</th>\n",
              "      <th>Date</th>\n",
              "    </tr>\n",
              "  </thead>\n",
              "  <tbody>\n",
              "    <tr>\n",
              "      <th>0</th>\n",
              "      <td>12</td>\n",
              "      <td>1156.0</td>\n",
              "      <td>NaN</td>\n",
              "      <td>0</td>\n",
              "      <td>0</td>\n",
              "      <td>IAH</td>\n",
              "      <td>12266</td>\n",
              "      <td>Texas</td>\n",
              "      <td>SAT</td>\n",
              "      <td>14683</td>\n",
              "      <td>Texas</td>\n",
              "      <td>191.0</td>\n",
              "      <td>United Air Lines Inc.</td>\n",
              "      <td>UA</td>\n",
              "      <td>NaN</td>\n",
              "      <td>N79402</td>\n",
              "      <td>1216</td>\n",
              "    </tr>\n",
              "    <tr>\n",
              "      <th>1</th>\n",
              "      <td>09</td>\n",
              "      <td>1500.0</td>\n",
              "      <td>1715.0</td>\n",
              "      <td>0</td>\n",
              "      <td>0</td>\n",
              "      <td>EWR</td>\n",
              "      <td>11618</td>\n",
              "      <td>New Jersey</td>\n",
              "      <td>ATL</td>\n",
              "      <td>10397</td>\n",
              "      <td>NaN</td>\n",
              "      <td>746.0</td>\n",
              "      <td>Delta Air Lines Inc.</td>\n",
              "      <td>DL</td>\n",
              "      <td>19790.0</td>\n",
              "      <td>N3765</td>\n",
              "      <td>0912</td>\n",
              "    </tr>\n",
              "    <tr>\n",
              "      <th>2</th>\n",
              "      <td>03</td>\n",
              "      <td>1600.0</td>\n",
              "      <td>1915.0</td>\n",
              "      <td>0</td>\n",
              "      <td>0</td>\n",
              "      <td>ORD</td>\n",
              "      <td>13930</td>\n",
              "      <td>Illinois</td>\n",
              "      <td>LGA</td>\n",
              "      <td>12953</td>\n",
              "      <td>New York</td>\n",
              "      <td>733.0</td>\n",
              "      <td>United Air Lines Inc.</td>\n",
              "      <td>UA</td>\n",
              "      <td>19977.0</td>\n",
              "      <td>N413UA</td>\n",
              "      <td>0306</td>\n",
              "    </tr>\n",
              "  </tbody>\n",
              "</table>\n",
              "</div>"
            ],
            "text/plain": [
              "  Month  Estimated_Departure_Time  Estimated_Arrival_Time  Cancelled  \\\n",
              "0    12                    1156.0                     NaN          0   \n",
              "1    09                    1500.0                  1715.0          0   \n",
              "2    03                    1600.0                  1915.0          0   \n",
              "\n",
              "   Diverted Origin_Airport  Origin_Airport_ID Origin_State  \\\n",
              "0         0            IAH              12266        Texas   \n",
              "1         0            EWR              11618   New Jersey   \n",
              "2         0            ORD              13930     Illinois   \n",
              "\n",
              "  Destination_Airport  Destination_Airport_ID Destination_State  Distance  \\\n",
              "0                 SAT                   14683             Texas     191.0   \n",
              "1                 ATL                   10397               NaN     746.0   \n",
              "2                 LGA                   12953          New York     733.0   \n",
              "\n",
              "                 Airline Carrier_Code(IATA)  Carrier_ID(DOT) Tail_Number  Date  \n",
              "0  United Air Lines Inc.                 UA              NaN      N79402  1216  \n",
              "1   Delta Air Lines Inc.                 DL          19790.0       N3765  0912  \n",
              "2  United Air Lines Inc.                 UA          19977.0      N413UA  0306  "
            ]
          },
          "execution_count": 14,
          "metadata": {},
          "output_type": "execute_result"
        }
      ],
      "source": [
        "test.head(3)"
      ]
    },
    {
      "cell_type": "code",
      "execution_count": null,
      "id": "PeYZac8Tewv6",
      "metadata": {
        "id": "PeYZac8Tewv6"
      },
      "outputs": [],
      "source": [
        "### 공휴일 처리\n",
        "# 일단 날짜가 지정된 공휴일 위주로 고려\n",
        "# 주차로 지정된 경우 중간 날짜를 공휴일로 처리\n",
        "# 잘 쉬지 않는 공휴일은 제외\n",
        "# 지정일 공휴일 기준 전후 4일 포함\n",
        "# 지정되지 않은 공휴일 기준 전주 금토일부터 해당주 일요일까지 포함\n",
        "\n",
        "holiday_li = ['1228','1229','1230','1231','0101','0102','0103','0104','0105','0115',\n",
        "              '0116','0117', '0118','0119','0120','0121','0122','0123','0124',\n",
        "              '0521','0522','0523','0524','0525','0526','0527','0528','0529','0530',\n",
        "              '0630','0701','0702','0703','0704','0705','0706','0707','0708',\n",
        "              '0901','0902','0903','0904','0905','0906','0907','0908','0909','0910',\n",
        "              '1117','1118','1119','1120','1121','1122','1123','1124','1125','1126','1127','1128',\n",
        "              '1221','1222','1223','1224','1225','1226','1227','1228','1229']\n",
        "\n",
        "train.loc[:,'Holiday'] = train['Date'].apply(lambda x: 1 if x in holiday_li else 0)\n",
        "test.loc[:,'Holiday'] = test['Date'].apply(lambda x: 1 if x in holiday_li else 0)\n",
        "\n",
        "train = train.drop('Date', axis = 1) # 날짜와 관련된 변수는 제거\n",
        "test = test.drop('Date', axis = 1)"
      ]
    },
    {
      "cell_type": "markdown",
      "id": "VO4cu-blhQL9",
      "metadata": {
        "id": "VO4cu-blhQL9"
      },
      "source": [
        "### **(c) Cancelled, Diverted**\n",
        "- train.describe()를 통해 확인한 결과 모두 0임\n",
        "> 제공해 주는 정보가 없는 변수들이기에 제거"
      ]
    },
    {
      "cell_type": "code",
      "execution_count": null,
      "id": "OlSx49mZkC2H",
      "metadata": {
        "id": "OlSx49mZkC2H"
      },
      "outputs": [],
      "source": [
        "train = train.drop(['Cancelled', 'Diverted'], axis = 1)\n",
        "test = test.drop(['Cancelled', 'Diverted'], axis = 1)"
      ]
    },
    {
      "cell_type": "markdown",
      "id": "dmoU3x5ZmyNu",
      "metadata": {
        "id": "dmoU3x5ZmyNu"
      },
      "source": [
        "### **(d) Origin_Airport & Origin_Airport_ID**\n",
        "- 하나의 공항을 두고 표기하는 방법이 다른 것 같음\n",
        "  - 그냥 처리하는 부서(?)에 따른 차이인 것 같음\n",
        "> ID를 남기기로 결정  \n",
        "(이따 ```Carrier_Code```, ```Carrier_ID```에서 id를 남길 예정이므로 통일감을 주기 위해서)"
      ]
    },
    {
      "cell_type": "code",
      "execution_count": null,
      "id": "Co42uIgIokiT",
      "metadata": {
        "id": "Co42uIgIokiT"
      },
      "outputs": [],
      "source": [
        "train = train.drop(['Origin_Airport'], axis = 1)\n",
        "test = test.drop(['Origin_Airport'], axis = 1)"
      ]
    },
    {
      "cell_type": "markdown",
      "id": "2ISLZ9KypWQ5",
      "metadata": {
        "id": "2ISLZ9KypWQ5"
      },
      "source": [
        "### **(e) Destination_Airport & Destination_Airport_ID**\n",
        "- 출발지와 동일하게 도착지도 처리"
      ]
    },
    {
      "cell_type": "code",
      "execution_count": null,
      "id": "WRXPctWZpeCn",
      "metadata": {
        "id": "WRXPctWZpeCn"
      },
      "outputs": [],
      "source": [
        "train = train.drop(['Destination_Airport'], axis = 1)\n",
        "test = test.drop(['Destination_Airport'], axis = 1)"
      ]
    },
    {
      "cell_type": "markdown",
      "id": "ML-GNMBJpnwQ",
      "metadata": {
        "id": "ML-GNMBJpnwQ"
      },
      "source": [
        "### **(f) Origin_State & Destination_State**\n",
        "- 미국의 주는 너무 광범위함\n",
        "  - 공항이라는 더 작은 범위가 있는데 굳이 주를..\n",
        "  - 우리나라로 치면 김해국제공항 냅두고 경상북도 보는 느낌..\n",
        "> 해당 변수들을 삭제"
      ]
    },
    {
      "cell_type": "code",
      "execution_count": null,
      "id": "knam3LasqiVi",
      "metadata": {
        "id": "knam3LasqiVi"
      },
      "outputs": [],
      "source": [
        "train = train.drop(['Origin_State', 'Destination_State'], axis = 1)\n",
        "test = test.drop(['Origin_State', 'Destination_State'], axis = 1)"
      ]
    },
    {
      "cell_type": "markdown",
      "id": "jax7r8RDq_cd",
      "metadata": {
        "id": "jax7r8RDq_cd"
      },
      "source": [
        "### **(g) Carrier_Code(IATA) & Carrier_ID(DOT)**\n",
        "- 하나의 항공사를 두고 표기하는 방법이 다른 것 같음\n",
        "- ```Carrier_Code```의 경우 IATA 공항 코드를 활용하기에, 다른 항공사라도 같은 코드를 보유할 수도 있기에, 고유성이 떨어짐\n",
        "> Carrier_ID(DOT)를 활용하자."
      ]
    },
    {
      "cell_type": "code",
      "execution_count": null,
      "id": "r0kaAWpcrLhi",
      "metadata": {
        "id": "r0kaAWpcrLhi"
      },
      "outputs": [],
      "source": [
        "train = train.drop(['Carrier_Code(IATA)'], axis = 1)\n",
        "test = test.drop(['Carrier_Code(IATA)'], axis = 1)"
      ]
    },
    {
      "cell_type": "markdown",
      "id": "Nxoj-LYftqzJ",
      "metadata": {
        "id": "Nxoj-LYftqzJ"
      },
      "source": [
        "## **2-2. 결측치 처리**"
      ]
    },
    {
      "cell_type": "code",
      "execution_count": null,
      "id": "M6b45mcwtwV1",
      "metadata": {
        "colab": {
          "base_uri": "https://localhost:8080/"
        },
        "id": "M6b45mcwtwV1",
        "outputId": "55e7e39f-e4e2-42d1-ae9e-18c0f18cee87"
      },
      "outputs": [
        {
          "name": "stdout",
          "output_type": "stream",
          "text": [
            "<class 'pandas.core.frame.DataFrame'>\n",
            "RangeIndex: 1000000 entries, 0 to 999999\n",
            "Data columns (total 11 columns):\n",
            " #   Column                    Non-Null Count    Dtype  \n",
            "---  ------                    --------------    -----  \n",
            " 0   Month                     1000000 non-null  object \n",
            " 1   Estimated_Departure_Time  890981 non-null   float64\n",
            " 2   Estimated_Arrival_Time    890960 non-null   float64\n",
            " 3   Origin_Airport_ID         1000000 non-null  int64  \n",
            " 4   Destination_Airport_ID    1000000 non-null  int64  \n",
            " 5   Distance                  1000000 non-null  float64\n",
            " 6   Airline                   891080 non-null   object \n",
            " 7   Carrier_ID(DOT)           891003 non-null   float64\n",
            " 8   Tail_Number               1000000 non-null  object \n",
            " 9   Delay                     255001 non-null   object \n",
            " 10  Holiday                   1000000 non-null  int64  \n",
            "dtypes: float64(4), int64(3), object(4)\n",
            "memory usage: 83.9+ MB\n"
          ]
        }
      ],
      "source": [
        "### 데이터 구조 재확인\n",
        "\n",
        "train.info()"
      ]
    },
    {
      "cell_type": "code",
      "execution_count": null,
      "id": "xjfZHd_1zREe",
      "metadata": {
        "colab": {
          "base_uri": "https://localhost:8080/",
          "height": 300
        },
        "id": "xjfZHd_1zREe",
        "outputId": "d8698490-8772-423e-d8ff-a83bc53a48a3"
      },
      "outputs": [
        {
          "data": {
            "text/html": [
              "<div>\n",
              "<style scoped>\n",
              "    .dataframe tbody tr th:only-of-type {\n",
              "        vertical-align: middle;\n",
              "    }\n",
              "\n",
              "    .dataframe tbody tr th {\n",
              "        vertical-align: top;\n",
              "    }\n",
              "\n",
              "    .dataframe thead th {\n",
              "        text-align: right;\n",
              "    }\n",
              "</style>\n",
              "<table border=\"1\" class=\"dataframe\">\n",
              "  <thead>\n",
              "    <tr style=\"text-align: right;\">\n",
              "      <th></th>\n",
              "      <th>Estimated_Departure_Time</th>\n",
              "      <th>Estimated_Arrival_Time</th>\n",
              "      <th>Origin_Airport_ID</th>\n",
              "      <th>Destination_Airport_ID</th>\n",
              "      <th>Distance</th>\n",
              "      <th>Carrier_ID(DOT)</th>\n",
              "      <th>Holiday</th>\n",
              "    </tr>\n",
              "  </thead>\n",
              "  <tbody>\n",
              "    <tr>\n",
              "      <th>count</th>\n",
              "      <td>890981.000000</td>\n",
              "      <td>890960.000000</td>\n",
              "      <td>1000000.000000</td>\n",
              "      <td>1000000.000000</td>\n",
              "      <td>1000000.000000</td>\n",
              "      <td>891003.000000</td>\n",
              "      <td>1000000.000000</td>\n",
              "    </tr>\n",
              "    <tr>\n",
              "      <th>mean</th>\n",
              "      <td>1341.153019</td>\n",
              "      <td>1493.295934</td>\n",
              "      <td>12696.278484</td>\n",
              "      <td>12701.813986</td>\n",
              "      <td>784.078499</td>\n",
              "      <td>19997.388093</td>\n",
              "      <td>0.187332</td>\n",
              "    </tr>\n",
              "    <tr>\n",
              "      <th>std</th>\n",
              "      <td>489.814011</td>\n",
              "      <td>520.803494</td>\n",
              "      <td>1514.938441</td>\n",
              "      <td>1515.213044</td>\n",
              "      <td>590.790469</td>\n",
              "      <td>404.268639</td>\n",
              "      <td>0.390178</td>\n",
              "    </tr>\n",
              "    <tr>\n",
              "      <th>min</th>\n",
              "      <td>1.000000</td>\n",
              "      <td>1.000000</td>\n",
              "      <td>10135.000000</td>\n",
              "      <td>10135.000000</td>\n",
              "      <td>16.000000</td>\n",
              "      <td>19393.000000</td>\n",
              "      <td>0.000000</td>\n",
              "    </tr>\n",
              "    <tr>\n",
              "      <th>25%</th>\n",
              "      <td>925.000000</td>\n",
              "      <td>1105.000000</td>\n",
              "      <td>11292.000000</td>\n",
              "      <td>11292.000000</td>\n",
              "      <td>350.000000</td>\n",
              "      <td>19790.000000</td>\n",
              "      <td>0.000000</td>\n",
              "    </tr>\n",
              "    <tr>\n",
              "      <th>50%</th>\n",
              "      <td>1332.000000</td>\n",
              "      <td>1524.000000</td>\n",
              "      <td>12889.000000</td>\n",
              "      <td>12889.000000</td>\n",
              "      <td>623.000000</td>\n",
              "      <td>19977.000000</td>\n",
              "      <td>0.000000</td>\n",
              "    </tr>\n",
              "    <tr>\n",
              "      <th>75%</th>\n",
              "      <td>1742.000000</td>\n",
              "      <td>1924.000000</td>\n",
              "      <td>14057.000000</td>\n",
              "      <td>14057.000000</td>\n",
              "      <td>1020.000000</td>\n",
              "      <td>20378.000000</td>\n",
              "      <td>0.000000</td>\n",
              "    </tr>\n",
              "    <tr>\n",
              "      <th>max</th>\n",
              "      <td>2359.000000</td>\n",
              "      <td>2400.000000</td>\n",
              "      <td>16869.000000</td>\n",
              "      <td>16869.000000</td>\n",
              "      <td>5095.000000</td>\n",
              "      <td>21171.000000</td>\n",
              "      <td>1.000000</td>\n",
              "    </tr>\n",
              "  </tbody>\n",
              "</table>\n",
              "</div>"
            ],
            "text/plain": [
              "       Estimated_Departure_Time  Estimated_Arrival_Time  Origin_Airport_ID  \\\n",
              "count             890981.000000           890960.000000     1000000.000000   \n",
              "mean                1341.153019             1493.295934       12696.278484   \n",
              "std                  489.814011              520.803494        1514.938441   \n",
              "min                    1.000000                1.000000       10135.000000   \n",
              "25%                  925.000000             1105.000000       11292.000000   \n",
              "50%                 1332.000000             1524.000000       12889.000000   \n",
              "75%                 1742.000000             1924.000000       14057.000000   \n",
              "max                 2359.000000             2400.000000       16869.000000   \n",
              "\n",
              "       Destination_Airport_ID        Distance  Carrier_ID(DOT)         Holiday  \n",
              "count          1000000.000000  1000000.000000    891003.000000  1000000.000000  \n",
              "mean             12701.813986      784.078499     19997.388093        0.187332  \n",
              "std               1515.213044      590.790469       404.268639        0.390178  \n",
              "min              10135.000000       16.000000     19393.000000        0.000000  \n",
              "25%              11292.000000      350.000000     19790.000000        0.000000  \n",
              "50%              12889.000000      623.000000     19977.000000        0.000000  \n",
              "75%              14057.000000     1020.000000     20378.000000        0.000000  \n",
              "max              16869.000000     5095.000000     21171.000000        1.000000  "
            ]
          },
          "execution_count": 22,
          "metadata": {},
          "output_type": "execute_result"
        }
      ],
      "source": [
        "train.describe()"
      ]
    },
    {
      "cell_type": "code",
      "execution_count": null,
      "id": "8bCLZD55yTRD",
      "metadata": {
        "id": "8bCLZD55yTRD"
      },
      "outputs": [],
      "source": [
        "### column 함수를 기준으로 결측값을 계산하는 함수\n",
        "\n",
        "def missing_values_table(df):\n",
        "        # 데이터 내에서 결측치의 총 개수\n",
        "        mis_val = df.isnull().sum()\n",
        "\n",
        "        # 전체 데이터에 대한 결측치의 비율\n",
        "        mis_val_percent = 100 * df.isnull().sum() / len(df)\n",
        "\n",
        "        # 결과 테이블 만들기\n",
        "        mis_val_table = pd.concat([mis_val, mis_val_percent], axis = 1) # 컬럼 방향으로 결합\n",
        "\n",
        "        # 컬럼명 재정의\n",
        "        mis_val_table_ren_columns = mis_val_table.rename(\n",
        "            columns = {0 : 'Missing Values', 1 : '% of Total Values'})\n",
        "\n",
        "        # 결측치의 비율을 기준으로 내림차순 정렬\n",
        "        mis_val_table_ren_columns = mis_val_table_ren_columns[\n",
        "            mis_val_table_ren_columns.iloc[:,1] != 0].sort_values(\n",
        "                '% of Total Values', ascending = False).round(1) # 소수 첫째자리에서 반올림\n",
        "\n",
        "        # 요약 정보 출력\n",
        "        print (\"선택된 데이터프레임은 \" + str(df.shape[1]) + \"개의 변수를 가지고 있습니다.\\n\"\n",
        "            \"이때 결측치(missing value)를 가지는 변수의 개수는 \" + str(mis_val_table_ren_columns.shape[0]) +\n",
        "              \"개 입니다.\\n\")\n",
        "        return mis_val_table_ren_columns"
      ]
    },
    {
      "cell_type": "code",
      "execution_count": null,
      "id": "J3DS96F9ywzx",
      "metadata": {
        "colab": {
          "base_uri": "https://localhost:8080/",
          "height": 261
        },
        "id": "J3DS96F9ywzx",
        "outputId": "ee2e8619-5117-4f3d-99ec-3f61f62b2dc7"
      },
      "outputs": [
        {
          "name": "stdout",
          "output_type": "stream",
          "text": [
            "선택된 데이터프레임은 11개의 변수를 가지고 있습니다.\n",
            "이때 결측치(missing value)를 가지는 변수의 개수는 5개 입니다.\n",
            "\n"
          ]
        },
        {
          "data": {
            "text/html": [
              "<div>\n",
              "<style scoped>\n",
              "    .dataframe tbody tr th:only-of-type {\n",
              "        vertical-align: middle;\n",
              "    }\n",
              "\n",
              "    .dataframe tbody tr th {\n",
              "        vertical-align: top;\n",
              "    }\n",
              "\n",
              "    .dataframe thead th {\n",
              "        text-align: right;\n",
              "    }\n",
              "</style>\n",
              "<table border=\"1\" class=\"dataframe\">\n",
              "  <thead>\n",
              "    <tr style=\"text-align: right;\">\n",
              "      <th></th>\n",
              "      <th>Missing Values</th>\n",
              "      <th>% of Total Values</th>\n",
              "    </tr>\n",
              "  </thead>\n",
              "  <tbody>\n",
              "    <tr>\n",
              "      <th>Delay</th>\n",
              "      <td>744999</td>\n",
              "      <td>74.5</td>\n",
              "    </tr>\n",
              "    <tr>\n",
              "      <th>Estimated_Arrival_Time</th>\n",
              "      <td>109040</td>\n",
              "      <td>10.9</td>\n",
              "    </tr>\n",
              "    <tr>\n",
              "      <th>Estimated_Departure_Time</th>\n",
              "      <td>109019</td>\n",
              "      <td>10.9</td>\n",
              "    </tr>\n",
              "    <tr>\n",
              "      <th>Carrier_ID(DOT)</th>\n",
              "      <td>108997</td>\n",
              "      <td>10.9</td>\n",
              "    </tr>\n",
              "    <tr>\n",
              "      <th>Airline</th>\n",
              "      <td>108920</td>\n",
              "      <td>10.9</td>\n",
              "    </tr>\n",
              "  </tbody>\n",
              "</table>\n",
              "</div>"
            ],
            "text/plain": [
              "                          Missing Values  % of Total Values\n",
              "Delay                             744999               74.5\n",
              "Estimated_Arrival_Time            109040               10.9\n",
              "Estimated_Departure_Time          109019               10.9\n",
              "Carrier_ID(DOT)                   108997               10.9\n",
              "Airline                           108920               10.9"
            ]
          },
          "execution_count": 24,
          "metadata": {},
          "output_type": "execute_result"
        }
      ],
      "source": [
        "# 결측치에 대한 요약 정보 확인\n",
        "\n",
        "missing_values = missing_values_table(train)\n",
        "missing_values"
      ]
    },
    {
      "cell_type": "markdown",
      "id": "IWlOcuyIuYu1",
      "metadata": {
        "id": "IWlOcuyIuYu1"
      },
      "source": [
        "### **(a) Estimated_Departure_Time(EDT) & Estimated_Arrival_Time(EAT)**\n",
        "- 비행시간 = Estimated_Arrival_Time - Estimated_Departure_Time으로 계산할 수 있음\n",
        "  - ```Flying_Time``` 변수 추가\n",
        "  - 시간 계산을 편하게 하기 위해 HH:MM 형식을 분 형식으로 변경(하루 = 24시간 * 60분 = 1440분)\n",
        "  - (도착시간 - 출발시간) < 0일 수 있음\n",
        "    - 보정방법: 1440 - 출발시간 + 도착시간 = 1440 + (도착시간 - 출발시간)\n",
        "    - 15시 출발해서 9시 도착: 1440 - 15 * 60 + 9 * 60 = 1080(분) 소요\n",
        "---\n",
        "- 비행시간은 출발 공항과 도착 공항 사이의 거리에 비례할 것임\n",
        "  - 출발시간과 도착 시간 중 하나라도 알고 있다면 공항 간의 거리를 통해 유추 가능\n"
      ]
    },
    {
      "cell_type": "code",
      "execution_count": null,
      "id": "mGTv_g-M0qup",
      "metadata": {
        "id": "mGTv_g-M0qup"
      },
      "outputs": [],
      "source": [
        "# train 데이터의 경우 출발시간과 도착시간이 모두 결측치인 데이터(행)는 제거\n",
        "\n",
        "train = train.dropna(subset = ['Estimated_Departure_Time', 'Estimated_Departure_Time'],\n",
        "                     how = 'all', axis = 0)"
      ]
    },
    {
      "cell_type": "code",
      "execution_count": null,
      "id": "13imzTOfSvx9",
      "metadata": {
        "id": "13imzTOfSvx9"
      },
      "outputs": [],
      "source": [
        "# test 데이터의 경우 미리 출발시간과 도착시간이 모두 결측치인 데이터(행)의 경우 최빈값으로 결측치 채우기\n",
        "\n",
        "missing = test[test['Estimated_Departure_Time'].isnull() & test['Estimated_Arrival_Time'].isnull()]\n",
        "\n",
        "# 결측치를 최빈값으로 대체하기\n",
        "departure_mode = test['Estimated_Departure_Time'].mode().values[0]\n",
        "arrival_mode = test['Estimated_Arrival_Time'].mode().values[0]\n",
        "\n",
        "test.loc[missing.index, 'Estimated_Departure_Time'] = departure_mode\n",
        "test.loc[missing.index, 'Estimated_Arrival_Time'] = arrival_mode"
      ]
    },
    {
      "cell_type": "code",
      "execution_count": null,
      "id": "HfR3SV1N1vG4",
      "metadata": {
        "id": "HfR3SV1N1vG4"
      },
      "outputs": [],
      "source": [
        "### 비행시간(Flying_Time) 추가\n",
        "\n",
        "# 시간 -> 분(수상자 코드 참고)\n",
        "def time_to_min(x):\n",
        "  x = int(x)\n",
        "  x = str(x)\n",
        "\n",
        "  if len(x) > 2: # 1시간 이상(시간의 개념이 존재)\n",
        "    hour, min = int(x[:-2]), int(x[-2:])\n",
        "  else:\n",
        "    hour, min = 0, int(x[-2:])\n",
        "\n",
        "  return hour * 60 + min"
      ]
    },
    {
      "cell_type": "code",
      "execution_count": null,
      "id": "LCbXN_zFAPO2",
      "metadata": {
        "id": "LCbXN_zFAPO2"
      },
      "outputs": [],
      "source": [
        "train.loc[:,'Estimated_Departure_Time'] = train['Estimated_Departure_Time'].apply(lambda x:time_to_min(x) if not np.isnan(x) else np.nan)\n",
        "train.loc[:,'Estimated_Arrival_Time'] = train['Estimated_Arrival_Time'].apply(lambda x:time_to_min(x) if not np.isnan(x) else np.nan)\n",
        "\n",
        "train['Flying_Time'] = train['Estimated_Arrival_Time'] - train['Estimated_Departure_Time']\n",
        "train.loc[:, 'Flying_Time'] = train['Flying_Time'].apply(lambda x: x + 1440 if x < 0 else x)"
      ]
    },
    {
      "cell_type": "code",
      "execution_count": null,
      "id": "8huzFP-OR6Op",
      "metadata": {
        "id": "8huzFP-OR6Op"
      },
      "outputs": [],
      "source": [
        "test.loc[:,'Estimated_Departure_Time'] = test['Estimated_Departure_Time'].apply(lambda x:time_to_min(x) if not np.isnan(x) else np.nan)\n",
        "test.loc[:,'Estimated_Arrival_Time'] = test['Estimated_Arrival_Time'].apply(lambda x:time_to_min(x) if not np.isnan(x) else np.nan)\n",
        "\n",
        "test['Flying_Time'] = test['Estimated_Arrival_Time'] - test['Estimated_Departure_Time']\n",
        "test.loc[:, 'Flying_Time'] = test['Flying_Time'].apply(lambda x: x + 1440 if x < 0 else x)"
      ]
    },
    {
      "cell_type": "code",
      "execution_count": null,
      "id": "zTiI2ROi5CxO",
      "metadata": {
        "id": "zTiI2ROi5CxO"
      },
      "outputs": [],
      "source": [
        "### 거리(Distance), 비행시간(Flying_Time) 대응시키기\n",
        "# 동일한 거리에 따라, 비행시간의 최빈값을 구해 대응시킴\n",
        "\n",
        "# 거리별 flying_time의 최빈값을 구하는 함수\n",
        "def get_mode(x):\n",
        "  modes = x.mode().values\n",
        "  mode = np.mean(modes) # 최빈값이 여러개인 경우 해당 값들의 평균을 택함\n",
        "  if pd.isna(mode):\n",
        "    return np.NaN\n",
        "  else:\n",
        "    return int(mode)"
      ]
    },
    {
      "cell_type": "code",
      "execution_count": null,
      "id": "Q9EwuqGw8_E2",
      "metadata": {
        "colab": {
          "base_uri": "https://localhost:8080/"
        },
        "id": "Q9EwuqGw8_E2",
        "outputId": "de5a223e-0f49-4ff4-b2a8-7845285fdd3d"
      },
      "outputs": [
        {
          "name": "stderr",
          "output_type": "stream",
          "text": [
            "C:\\Users\\Kim\\anaconda3\\lib\\site-packages\\numpy\\core\\fromnumeric.py:3440: RuntimeWarning: Mean of empty slice.\n",
            "  return _methods._mean(a, axis=axis, dtype=dtype,\n",
            "C:\\Users\\Kim\\anaconda3\\lib\\site-packages\\numpy\\core\\_methods.py:189: RuntimeWarning: invalid value encountered in double_scalars\n",
            "  ret = ret.dtype.type(ret / rcount)\n"
          ]
        }
      ],
      "source": [
        "# 거리별로 그룹화하고 flying_time의 최빈값을 구하기\n",
        "result_dict = train.groupby('Distance')['Flying_Time'].apply(get_mode).to_dict()\n",
        "\n",
        "# Distance에 대응되는 값으로 Flying_Time의 결측치 채우기\n",
        "train['Flying_Time'] = train.apply(lambda row: result_dict[row['Distance']]\n",
        "                                   if pd.isnull(row['Flying_Time']) else row['Flying_Time'], axis=1)"
      ]
    },
    {
      "cell_type": "code",
      "execution_count": null,
      "id": "s5tz5THE9_O2",
      "metadata": {
        "colab": {
          "base_uri": "https://localhost:8080/"
        },
        "id": "s5tz5THE9_O2",
        "outputId": "3cb2200f-9f6c-42ad-d1fb-06ecf58f438d"
      },
      "outputs": [
        {
          "name": "stderr",
          "output_type": "stream",
          "text": [
            "C:\\Users\\Kim\\anaconda3\\lib\\site-packages\\numpy\\core\\fromnumeric.py:3440: RuntimeWarning: Mean of empty slice.\n",
            "  return _methods._mean(a, axis=axis, dtype=dtype,\n",
            "C:\\Users\\Kim\\anaconda3\\lib\\site-packages\\numpy\\core\\_methods.py:189: RuntimeWarning: invalid value encountered in double_scalars\n",
            "  ret = ret.dtype.type(ret / rcount)\n",
            "C:\\Users\\Kim\\anaconda3\\lib\\site-packages\\numpy\\core\\fromnumeric.py:3440: RuntimeWarning: Mean of empty slice.\n",
            "  return _methods._mean(a, axis=axis, dtype=dtype,\n",
            "C:\\Users\\Kim\\anaconda3\\lib\\site-packages\\numpy\\core\\_methods.py:189: RuntimeWarning: invalid value encountered in double_scalars\n",
            "  ret = ret.dtype.type(ret / rcount)\n"
          ]
        }
      ],
      "source": [
        "result_dict2 = test.groupby('Distance')['Flying_Time'].apply(get_mode).to_dict()\n",
        "\n",
        "# Distance에 대응되는 값으로 Flying_Time의 결측치 채우기\n",
        "test['Flying_Time'] = test.apply(lambda row: result_dict2[row['Distance']]\n",
        "                                   if pd.isnull(row['Flying_Time']) else row['Flying_Time'], axis=1)"
      ]
    },
    {
      "cell_type": "code",
      "execution_count": null,
      "id": "weC0P9nHNGlP",
      "metadata": {
        "id": "weC0P9nHNGlP"
      },
      "outputs": [],
      "source": [
        "### 결측치 채우기\n",
        "\n",
        "train['Estimated_Arrival_Time'] = train['Estimated_Arrival_Time'].fillna(train['Flying_Time'] + train['Estimated_Departure_Time'])\n",
        "train['Estimated_Departure_Time'] = train['Estimated_Departure_Time'].fillna(train['Estimated_Arrival_Time'] - train['Flying_Time'])\n",
        "\n",
        "train.loc[:, 'Estimated_Arrival_Time'] = train['Estimated_Arrival_Time'].apply(lambda x: x - 1440 if x > 1440 else x)\n",
        "train.loc[:, 'Estimated_Departure_Time'] = train['Estimated_Departure_Time'].apply(lambda x: x - 1440 if x > 1440 else x)"
      ]
    },
    {
      "cell_type": "code",
      "execution_count": null,
      "id": "IhwAl5n-URL3",
      "metadata": {
        "id": "IhwAl5n-URL3"
      },
      "outputs": [],
      "source": [
        "test['Estimated_Arrival_Time'] = test['Estimated_Arrival_Time'].fillna(test['Flying_Time'] + test['Estimated_Departure_Time'])\n",
        "test['Estimated_Departure_Time'] = test['Estimated_Departure_Time'].fillna(test['Estimated_Arrival_Time'] - test['Flying_Time'])\n",
        "\n",
        "test.loc[:, 'Estimated_Arrival_Time'] = test['Estimated_Arrival_Time'].apply(lambda x: x - 1440 if x > 1440 else x)\n",
        "test.loc[:, 'Estimated_Departure_Time'] = test['Estimated_Departure_Time'].apply(lambda x: x - 1440 if x > 1440 else x)"
      ]
    },
    {
      "cell_type": "code",
      "execution_count": null,
      "id": "dyAqlVNERr_a",
      "metadata": {
        "id": "dyAqlVNERr_a"
      },
      "outputs": [],
      "source": [
        "# 비행시간 변수는 더이상 필요 없으므로 제거\n",
        "\n",
        "train = train.drop('Flying_Time', axis = 1)\n",
        "test = test.drop('Flying_Time', axis = 1)"
      ]
    },
    {
      "cell_type": "code",
      "execution_count": null,
      "id": "at_UPGPgUzV3",
      "metadata": {
        "colab": {
          "base_uri": "https://localhost:8080/",
          "height": 143
        },
        "id": "at_UPGPgUzV3",
        "outputId": "949755b6-d4b1-4891-8499-6e480d470485"
      },
      "outputs": [
        {
          "data": {
            "text/html": [
              "<div>\n",
              "<style scoped>\n",
              "    .dataframe tbody tr th:only-of-type {\n",
              "        vertical-align: middle;\n",
              "    }\n",
              "\n",
              "    .dataframe tbody tr th {\n",
              "        vertical-align: top;\n",
              "    }\n",
              "\n",
              "    .dataframe thead th {\n",
              "        text-align: right;\n",
              "    }\n",
              "</style>\n",
              "<table border=\"1\" class=\"dataframe\">\n",
              "  <thead>\n",
              "    <tr style=\"text-align: right;\">\n",
              "      <th></th>\n",
              "      <th>Month</th>\n",
              "      <th>Estimated_Departure_Time</th>\n",
              "      <th>Estimated_Arrival_Time</th>\n",
              "      <th>Origin_Airport_ID</th>\n",
              "      <th>Destination_Airport_ID</th>\n",
              "      <th>Distance</th>\n",
              "      <th>Airline</th>\n",
              "      <th>Carrier_ID(DOT)</th>\n",
              "      <th>Tail_Number</th>\n",
              "      <th>Delay</th>\n",
              "      <th>Holiday</th>\n",
              "    </tr>\n",
              "  </thead>\n",
              "  <tbody>\n",
              "    <tr>\n",
              "      <th>1</th>\n",
              "      <td>08</td>\n",
              "      <td>460</td>\n",
              "      <td>624.0</td>\n",
              "      <td>13930</td>\n",
              "      <td>14869</td>\n",
              "      <td>1250.0</td>\n",
              "      <td>SkyWest Airlines Inc.</td>\n",
              "      <td>20304.0</td>\n",
              "      <td>N125SY</td>\n",
              "      <td>NaN</td>\n",
              "      <td>0</td>\n",
              "    </tr>\n",
              "    <tr>\n",
              "      <th>2</th>\n",
              "      <td>09</td>\n",
              "      <td>970</td>\n",
              "      <td>1085.0</td>\n",
              "      <td>11057</td>\n",
              "      <td>12953</td>\n",
              "      <td>544.0</td>\n",
              "      <td>American Airlines Inc.</td>\n",
              "      <td>19805.0</td>\n",
              "      <td>N103US</td>\n",
              "      <td>NaN</td>\n",
              "      <td>1</td>\n",
              "    </tr>\n",
              "    <tr>\n",
              "      <th>3</th>\n",
              "      <td>07</td>\n",
              "      <td>545</td>\n",
              "      <td>1055.0</td>\n",
              "      <td>12892</td>\n",
              "      <td>11618</td>\n",
              "      <td>2454.0</td>\n",
              "      <td>United Air Lines Inc.</td>\n",
              "      <td>NaN</td>\n",
              "      <td>N595UA</td>\n",
              "      <td>NaN</td>\n",
              "      <td>0</td>\n",
              "    </tr>\n",
              "  </tbody>\n",
              "</table>\n",
              "</div>"
            ],
            "text/plain": [
              "  Month  Estimated_Departure_Time  Estimated_Arrival_Time  Origin_Airport_ID  \\\n",
              "1    08                       460                   624.0              13930   \n",
              "2    09                       970                  1085.0              11057   \n",
              "3    07                       545                  1055.0              12892   \n",
              "\n",
              "   Destination_Airport_ID  Distance                 Airline  Carrier_ID(DOT)  \\\n",
              "1                   14869    1250.0   SkyWest Airlines Inc.          20304.0   \n",
              "2                   12953     544.0  American Airlines Inc.          19805.0   \n",
              "3                   11618    2454.0   United Air Lines Inc.              NaN   \n",
              "\n",
              "  Tail_Number Delay  Holiday  \n",
              "1      N125SY   NaN        0  \n",
              "2      N103US   NaN        1  \n",
              "3      N595UA   NaN        0  "
            ]
          },
          "execution_count": 36,
          "metadata": {},
          "output_type": "execute_result"
        }
      ],
      "source": [
        "train.head(3)"
      ]
    },
    {
      "cell_type": "code",
      "execution_count": null,
      "id": "_s9a_dBeU4cG",
      "metadata": {
        "colab": {
          "base_uri": "https://localhost:8080/",
          "height": 143
        },
        "id": "_s9a_dBeU4cG",
        "outputId": "95f99b73-f417-4d3d-e82a-13c9a0e1335e"
      },
      "outputs": [
        {
          "data": {
            "text/html": [
              "<div>\n",
              "<style scoped>\n",
              "    .dataframe tbody tr th:only-of-type {\n",
              "        vertical-align: middle;\n",
              "    }\n",
              "\n",
              "    .dataframe tbody tr th {\n",
              "        vertical-align: top;\n",
              "    }\n",
              "\n",
              "    .dataframe thead th {\n",
              "        text-align: right;\n",
              "    }\n",
              "</style>\n",
              "<table border=\"1\" class=\"dataframe\">\n",
              "  <thead>\n",
              "    <tr style=\"text-align: right;\">\n",
              "      <th></th>\n",
              "      <th>Month</th>\n",
              "      <th>Estimated_Departure_Time</th>\n",
              "      <th>Estimated_Arrival_Time</th>\n",
              "      <th>Origin_Airport_ID</th>\n",
              "      <th>Destination_Airport_ID</th>\n",
              "      <th>Distance</th>\n",
              "      <th>Airline</th>\n",
              "      <th>Carrier_ID(DOT)</th>\n",
              "      <th>Tail_Number</th>\n",
              "      <th>Holiday</th>\n",
              "    </tr>\n",
              "  </thead>\n",
              "  <tbody>\n",
              "    <tr>\n",
              "      <th>0</th>\n",
              "      <td>12</td>\n",
              "      <td>716.0</td>\n",
              "      <td>779.0</td>\n",
              "      <td>12266</td>\n",
              "      <td>14683</td>\n",
              "      <td>191.0</td>\n",
              "      <td>United Air Lines Inc.</td>\n",
              "      <td>NaN</td>\n",
              "      <td>N79402</td>\n",
              "      <td>0</td>\n",
              "    </tr>\n",
              "    <tr>\n",
              "      <th>1</th>\n",
              "      <td>09</td>\n",
              "      <td>900.0</td>\n",
              "      <td>1035.0</td>\n",
              "      <td>11618</td>\n",
              "      <td>10397</td>\n",
              "      <td>746.0</td>\n",
              "      <td>Delta Air Lines Inc.</td>\n",
              "      <td>19790.0</td>\n",
              "      <td>N3765</td>\n",
              "      <td>0</td>\n",
              "    </tr>\n",
              "    <tr>\n",
              "      <th>2</th>\n",
              "      <td>03</td>\n",
              "      <td>960.0</td>\n",
              "      <td>1155.0</td>\n",
              "      <td>13930</td>\n",
              "      <td>12953</td>\n",
              "      <td>733.0</td>\n",
              "      <td>United Air Lines Inc.</td>\n",
              "      <td>19977.0</td>\n",
              "      <td>N413UA</td>\n",
              "      <td>0</td>\n",
              "    </tr>\n",
              "  </tbody>\n",
              "</table>\n",
              "</div>"
            ],
            "text/plain": [
              "  Month  Estimated_Departure_Time  Estimated_Arrival_Time  Origin_Airport_ID  \\\n",
              "0    12                     716.0                   779.0              12266   \n",
              "1    09                     900.0                  1035.0              11618   \n",
              "2    03                     960.0                  1155.0              13930   \n",
              "\n",
              "   Destination_Airport_ID  Distance                Airline  Carrier_ID(DOT)  \\\n",
              "0                   14683     191.0  United Air Lines Inc.              NaN   \n",
              "1                   10397     746.0   Delta Air Lines Inc.          19790.0   \n",
              "2                   12953     733.0  United Air Lines Inc.          19977.0   \n",
              "\n",
              "  Tail_Number  Holiday  \n",
              "0      N79402        0  \n",
              "1       N3765        0  \n",
              "2      N413UA        0  "
            ]
          },
          "execution_count": 37,
          "metadata": {},
          "output_type": "execute_result"
        }
      ],
      "source": [
        "test.head(3)"
      ]
    },
    {
      "cell_type": "markdown",
      "id": "hh3Hvyqau_jI",
      "metadata": {
        "id": "hh3Hvyqau_jI"
      },
      "source": [
        "### **(b) Airline & Carrier_ID(DOT)**\n",
        "- 데이터 설명을 통해, ```Airline```과 ```Carrier_ID(DOT)```는 일대일 대응되는 것을 확인할 수 있음\n",
        "> ```Airline```을 활용하여 ```Carrier_ID``` 채우기"
      ]
    },
    {
      "cell_type": "code",
      "execution_count": null,
      "id": "irxpQHQXmw_N",
      "metadata": {
        "colab": {
          "base_uri": "https://localhost:8080/"
        },
        "id": "irxpQHQXmw_N",
        "outputId": "9fa5409e-7e7a-44a3-fbd1-b3152e1a9209"
      },
      "outputs": [
        {
          "data": {
            "text/plain": [
              "86564"
            ]
          },
          "execution_count": 38,
          "metadata": {},
          "output_type": "execute_result"
        }
      ],
      "source": [
        "### 결측치 처리를 할 수 있는 데이터 개수 파악하기\n",
        "# Airline은 있고 Carrier_ID(DOT)는 없는 경우\n",
        "\n",
        "len(train.loc[train['Carrier_ID(DOT)'].isnull() & train['Airline'].notnull(), :])"
      ]
    },
    {
      "cell_type": "code",
      "execution_count": null,
      "id": "5HER8R6znbDp",
      "metadata": {
        "id": "5HER8R6znbDp"
      },
      "outputs": [],
      "source": [
        "### Airline과 Carrier_ID 연결하기\n",
        "# key: Airline. Value: Carrier_ID\n",
        "\n",
        "result_dict3 = {}\n",
        "\n",
        "# 데이터를 행별로 조회하면서 연결\n",
        "for _, row in train[train['Carrier_ID(DOT)'].notnull() & train['Airline'].notnull()].iterrows():\n",
        "  result_dict3[row['Airline']] = row['Carrier_ID(DOT)']\n",
        "\n",
        "train['Carrier_ID(DOT)'] = train.apply(lambda row: result_dict3.get(row['Airline'], None)\n",
        "                                        if pd.isnull(row['Carrier_ID(DOT)']) else row['Carrier_ID(DOT)'], axis=1)"
      ]
    },
    {
      "cell_type": "code",
      "execution_count": null,
      "id": "rAuisAnjrCZd",
      "metadata": {
        "id": "rAuisAnjrCZd"
      },
      "outputs": [],
      "source": [
        "result_dict4 = {}\n",
        "\n",
        "# 데이터를 행별로 조회하면서 연결\n",
        "for _, row in test[test['Carrier_ID(DOT)'].notnull() & test['Airline'].notnull()].iterrows():\n",
        "  result_dict4[row['Airline']] = row['Carrier_ID(DOT)']\n",
        "\n",
        "test['Carrier_ID(DOT)'] = test.apply(lambda row: result_dict4.get(row['Airline'], None)\n",
        "                                        if pd.isnull(row['Carrier_ID(DOT)']) else row['Carrier_ID(DOT)'], axis=1)"
      ]
    },
    {
      "cell_type": "code",
      "execution_count": null,
      "id": "TP9r6CkLup_C",
      "metadata": {
        "id": "TP9r6CkLup_C"
      },
      "outputs": [],
      "source": [
        "# train의 경우 여전히 Carrier_ID(DOT)에 결측치가 있는 데이터는 삭제\n",
        "\n",
        "train = train.dropna(subset = ['Carrier_ID(DOT)'],\n",
        "                     how = 'any', axis = 0)"
      ]
    },
    {
      "cell_type": "code",
      "execution_count": null,
      "id": "ZLz8Sc34xDvC",
      "metadata": {
        "id": "ZLz8Sc34xDvC"
      },
      "outputs": [],
      "source": [
        "# test의 경우 여전히 Carrier_ID(DOT)에 결측치가 있는 데이터의 경우 최빈값으로 대체\n",
        "\n",
        "nan_idx = test[test['Carrier_ID(DOT)'].isnull()].index\n",
        "carrier_mode = test['Carrier_ID(DOT)'].mode().values[0]\n",
        "test.loc[nan_idx, 'Carrier_ID(DOT)'] = carrier_mode"
      ]
    },
    {
      "cell_type": "code",
      "execution_count": null,
      "id": "rGnGbFnryCho",
      "metadata": {
        "id": "rGnGbFnryCho"
      },
      "outputs": [],
      "source": [
        "# Airline 변수는 더 이상 필요 없으므로 삭제\n",
        "\n",
        "train = train.drop('Airline', axis = 1)\n",
        "test = test.drop('Airline', axis = 1)"
      ]
    },
    {
      "cell_type": "code",
      "execution_count": null,
      "id": "2P2PvWL3y1B8",
      "metadata": {
        "colab": {
          "base_uri": "https://localhost:8080/",
          "height": 206
        },
        "id": "2P2PvWL3y1B8",
        "outputId": "062ab530-7382-4629-c495-67340e7382d8"
      },
      "outputs": [
        {
          "data": {
            "text/html": [
              "<div>\n",
              "<style scoped>\n",
              "    .dataframe tbody tr th:only-of-type {\n",
              "        vertical-align: middle;\n",
              "    }\n",
              "\n",
              "    .dataframe tbody tr th {\n",
              "        vertical-align: top;\n",
              "    }\n",
              "\n",
              "    .dataframe thead th {\n",
              "        text-align: right;\n",
              "    }\n",
              "</style>\n",
              "<table border=\"1\" class=\"dataframe\">\n",
              "  <thead>\n",
              "    <tr style=\"text-align: right;\">\n",
              "      <th></th>\n",
              "      <th>Month</th>\n",
              "      <th>Estimated_Departure_Time</th>\n",
              "      <th>Estimated_Arrival_Time</th>\n",
              "      <th>Origin_Airport_ID</th>\n",
              "      <th>Destination_Airport_ID</th>\n",
              "      <th>Distance</th>\n",
              "      <th>Carrier_ID(DOT)</th>\n",
              "      <th>Tail_Number</th>\n",
              "      <th>Delay</th>\n",
              "      <th>Holiday</th>\n",
              "    </tr>\n",
              "  </thead>\n",
              "  <tbody>\n",
              "    <tr>\n",
              "      <th>1</th>\n",
              "      <td>08</td>\n",
              "      <td>460</td>\n",
              "      <td>624.0</td>\n",
              "      <td>13930</td>\n",
              "      <td>14869</td>\n",
              "      <td>1250.0</td>\n",
              "      <td>20304.0</td>\n",
              "      <td>N125SY</td>\n",
              "      <td>NaN</td>\n",
              "      <td>0</td>\n",
              "    </tr>\n",
              "    <tr>\n",
              "      <th>2</th>\n",
              "      <td>09</td>\n",
              "      <td>970</td>\n",
              "      <td>1085.0</td>\n",
              "      <td>11057</td>\n",
              "      <td>12953</td>\n",
              "      <td>544.0</td>\n",
              "      <td>19805.0</td>\n",
              "      <td>N103US</td>\n",
              "      <td>NaN</td>\n",
              "      <td>1</td>\n",
              "    </tr>\n",
              "    <tr>\n",
              "      <th>3</th>\n",
              "      <td>07</td>\n",
              "      <td>545</td>\n",
              "      <td>1055.0</td>\n",
              "      <td>12892</td>\n",
              "      <td>11618</td>\n",
              "      <td>2454.0</td>\n",
              "      <td>19977.0</td>\n",
              "      <td>N595UA</td>\n",
              "      <td>NaN</td>\n",
              "      <td>0</td>\n",
              "    </tr>\n",
              "    <tr>\n",
              "      <th>4</th>\n",
              "      <td>01</td>\n",
              "      <td>540</td>\n",
              "      <td>619.0</td>\n",
              "      <td>14771</td>\n",
              "      <td>10157</td>\n",
              "      <td>250.0</td>\n",
              "      <td>20304.0</td>\n",
              "      <td>N161SY</td>\n",
              "      <td>NaN</td>\n",
              "      <td>0</td>\n",
              "    </tr>\n",
              "    <tr>\n",
              "      <th>5</th>\n",
              "      <td>04</td>\n",
              "      <td>945</td>\n",
              "      <td>1011.0</td>\n",
              "      <td>11618</td>\n",
              "      <td>11278</td>\n",
              "      <td>199.0</td>\n",
              "      <td>20452.0</td>\n",
              "      <td>N657RW</td>\n",
              "      <td>Not_Delayed</td>\n",
              "      <td>0</td>\n",
              "    </tr>\n",
              "  </tbody>\n",
              "</table>\n",
              "</div>"
            ],
            "text/plain": [
              "  Month  Estimated_Departure_Time  Estimated_Arrival_Time  Origin_Airport_ID  \\\n",
              "1    08                       460                   624.0              13930   \n",
              "2    09                       970                  1085.0              11057   \n",
              "3    07                       545                  1055.0              12892   \n",
              "4    01                       540                   619.0              14771   \n",
              "5    04                       945                  1011.0              11618   \n",
              "\n",
              "   Destination_Airport_ID  Distance  Carrier_ID(DOT) Tail_Number        Delay  \\\n",
              "1                   14869    1250.0          20304.0      N125SY          NaN   \n",
              "2                   12953     544.0          19805.0      N103US          NaN   \n",
              "3                   11618    2454.0          19977.0      N595UA          NaN   \n",
              "4                   10157     250.0          20304.0      N161SY          NaN   \n",
              "5                   11278     199.0          20452.0      N657RW  Not_Delayed   \n",
              "\n",
              "   Holiday  \n",
              "1        0  \n",
              "2        1  \n",
              "3        0  \n",
              "4        0  \n",
              "5        0  "
            ]
          },
          "execution_count": 44,
          "metadata": {},
          "output_type": "execute_result"
        }
      ],
      "source": [
        "train.head()"
      ]
    },
    {
      "cell_type": "code",
      "execution_count": null,
      "id": "9FsJrn62y2ej",
      "metadata": {
        "colab": {
          "base_uri": "https://localhost:8080/",
          "height": 206
        },
        "id": "9FsJrn62y2ej",
        "outputId": "15d8793b-ff98-4054-da46-2cbe2165d266"
      },
      "outputs": [
        {
          "data": {
            "text/html": [
              "<div>\n",
              "<style scoped>\n",
              "    .dataframe tbody tr th:only-of-type {\n",
              "        vertical-align: middle;\n",
              "    }\n",
              "\n",
              "    .dataframe tbody tr th {\n",
              "        vertical-align: top;\n",
              "    }\n",
              "\n",
              "    .dataframe thead th {\n",
              "        text-align: right;\n",
              "    }\n",
              "</style>\n",
              "<table border=\"1\" class=\"dataframe\">\n",
              "  <thead>\n",
              "    <tr style=\"text-align: right;\">\n",
              "      <th></th>\n",
              "      <th>Month</th>\n",
              "      <th>Estimated_Departure_Time</th>\n",
              "      <th>Estimated_Arrival_Time</th>\n",
              "      <th>Origin_Airport_ID</th>\n",
              "      <th>Destination_Airport_ID</th>\n",
              "      <th>Distance</th>\n",
              "      <th>Carrier_ID(DOT)</th>\n",
              "      <th>Tail_Number</th>\n",
              "      <th>Holiday</th>\n",
              "    </tr>\n",
              "  </thead>\n",
              "  <tbody>\n",
              "    <tr>\n",
              "      <th>0</th>\n",
              "      <td>12</td>\n",
              "      <td>716.0</td>\n",
              "      <td>779.0</td>\n",
              "      <td>12266</td>\n",
              "      <td>14683</td>\n",
              "      <td>191.0</td>\n",
              "      <td>19977.0</td>\n",
              "      <td>N79402</td>\n",
              "      <td>0</td>\n",
              "    </tr>\n",
              "    <tr>\n",
              "      <th>1</th>\n",
              "      <td>09</td>\n",
              "      <td>900.0</td>\n",
              "      <td>1035.0</td>\n",
              "      <td>11618</td>\n",
              "      <td>10397</td>\n",
              "      <td>746.0</td>\n",
              "      <td>19790.0</td>\n",
              "      <td>N3765</td>\n",
              "      <td>0</td>\n",
              "    </tr>\n",
              "    <tr>\n",
              "      <th>2</th>\n",
              "      <td>03</td>\n",
              "      <td>960.0</td>\n",
              "      <td>1155.0</td>\n",
              "      <td>13930</td>\n",
              "      <td>12953</td>\n",
              "      <td>733.0</td>\n",
              "      <td>19977.0</td>\n",
              "      <td>N413UA</td>\n",
              "      <td>0</td>\n",
              "    </tr>\n",
              "    <tr>\n",
              "      <th>3</th>\n",
              "      <td>05</td>\n",
              "      <td>1160.0</td>\n",
              "      <td>1245.0</td>\n",
              "      <td>13796</td>\n",
              "      <td>12892</td>\n",
              "      <td>337.0</td>\n",
              "      <td>19393.0</td>\n",
              "      <td>N905WN</td>\n",
              "      <td>0</td>\n",
              "    </tr>\n",
              "    <tr>\n",
              "      <th>4</th>\n",
              "      <td>07</td>\n",
              "      <td>1155.0</td>\n",
              "      <td>1312.0</td>\n",
              "      <td>11697</td>\n",
              "      <td>12892</td>\n",
              "      <td>2343.0</td>\n",
              "      <td>20409.0</td>\n",
              "      <td>N945JT</td>\n",
              "      <td>1</td>\n",
              "    </tr>\n",
              "  </tbody>\n",
              "</table>\n",
              "</div>"
            ],
            "text/plain": [
              "  Month  Estimated_Departure_Time  Estimated_Arrival_Time  Origin_Airport_ID  \\\n",
              "0    12                     716.0                   779.0              12266   \n",
              "1    09                     900.0                  1035.0              11618   \n",
              "2    03                     960.0                  1155.0              13930   \n",
              "3    05                    1160.0                  1245.0              13796   \n",
              "4    07                    1155.0                  1312.0              11697   \n",
              "\n",
              "   Destination_Airport_ID  Distance  Carrier_ID(DOT) Tail_Number  Holiday  \n",
              "0                   14683     191.0          19977.0      N79402        0  \n",
              "1                   10397     746.0          19790.0       N3765        0  \n",
              "2                   12953     733.0          19977.0      N413UA        0  \n",
              "3                   12892     337.0          19393.0      N905WN        0  \n",
              "4                   12892    2343.0          20409.0      N945JT        1  "
            ]
          },
          "execution_count": 45,
          "metadata": {},
          "output_type": "execute_result"
        }
      ],
      "source": [
        "test.head()"
      ]
    },
    {
      "cell_type": "markdown",
      "id": "UAsciP3w12Ef",
      "metadata": {
        "id": "UAsciP3w12Ef"
      },
      "source": [
        "### **결측치 확인**"
      ]
    },
    {
      "cell_type": "code",
      "execution_count": null,
      "id": "74BB39vD16DA",
      "metadata": {
        "colab": {
          "base_uri": "https://localhost:8080/",
          "height": 167
        },
        "id": "74BB39vD16DA",
        "outputId": "fd11a62c-a82d-4c52-c0ca-42b9887ba9b2"
      },
      "outputs": [
        {
          "name": "stdout",
          "output_type": "stream",
          "text": [
            "선택된 데이터프레임은 10개의 변수를 가지고 있습니다.\n",
            "이때 결측치(missing value)를 가지는 변수의 개수는 2개 입니다.\n",
            "\n"
          ]
        },
        {
          "data": {
            "text/html": [
              "<div>\n",
              "<style scoped>\n",
              "    .dataframe tbody tr th:only-of-type {\n",
              "        vertical-align: middle;\n",
              "    }\n",
              "\n",
              "    .dataframe tbody tr th {\n",
              "        vertical-align: top;\n",
              "    }\n",
              "\n",
              "    .dataframe thead th {\n",
              "        text-align: right;\n",
              "    }\n",
              "</style>\n",
              "<table border=\"1\" class=\"dataframe\">\n",
              "  <thead>\n",
              "    <tr style=\"text-align: right;\">\n",
              "      <th></th>\n",
              "      <th>Missing Values</th>\n",
              "      <th>% of Total Values</th>\n",
              "    </tr>\n",
              "  </thead>\n",
              "  <tbody>\n",
              "    <tr>\n",
              "      <th>Delay</th>\n",
              "      <td>655893</td>\n",
              "      <td>74.5</td>\n",
              "    </tr>\n",
              "    <tr>\n",
              "      <th>Estimated_Arrival_Time</th>\n",
              "      <td>1</td>\n",
              "      <td>0.0</td>\n",
              "    </tr>\n",
              "  </tbody>\n",
              "</table>\n",
              "</div>"
            ],
            "text/plain": [
              "                        Missing Values  % of Total Values\n",
              "Delay                           655893               74.5\n",
              "Estimated_Arrival_Time               1                0.0"
            ]
          },
          "execution_count": 46,
          "metadata": {},
          "output_type": "execute_result"
        }
      ],
      "source": [
        "# 결측치에 대한 요약 정보 재확인\n",
        "\n",
        "missing_values = missing_values_table(train)\n",
        "missing_values"
      ]
    },
    {
      "cell_type": "code",
      "execution_count": null,
      "id": "VWea53cM9OSw",
      "metadata": {
        "id": "VWea53cM9OSw"
      },
      "outputs": [],
      "source": [
        "# 여전히 결측치가 존재함(코드 조금 잘못 짠 듯)\n",
        "# 해당 결측치는 소수이므로 그냥 제거해준다.\n",
        "\n",
        "train = train.dropna(subset = ['Estimated_Arrival_Time'],\n",
        "                     how = 'any', axis = 0)"
      ]
    },
    {
      "cell_type": "markdown",
      "id": "1BLHaDTACOXE",
      "metadata": {
        "id": "1BLHaDTACOXE"
      },
      "source": [
        "## **2-3. 변수 형태 확인**"
      ]
    },
    {
      "cell_type": "code",
      "execution_count": null,
      "id": "Q6fy4fDfCb3r",
      "metadata": {
        "colab": {
          "base_uri": "https://localhost:8080/"
        },
        "id": "Q6fy4fDfCb3r",
        "outputId": "785d58db-cbbc-429b-f22a-c91cb9dbcf8c"
      },
      "outputs": [
        {
          "name": "stdout",
          "output_type": "stream",
          "text": [
            "<class 'pandas.core.frame.DataFrame'>\n",
            "Int64Index: 880390 entries, 1 to 999999\n",
            "Data columns (total 10 columns):\n",
            " #   Column                    Non-Null Count   Dtype  \n",
            "---  ------                    --------------   -----  \n",
            " 0   Month                     880390 non-null  object \n",
            " 1   Estimated_Departure_Time  880390 non-null  int64  \n",
            " 2   Estimated_Arrival_Time    880390 non-null  float64\n",
            " 3   Origin_Airport_ID         880390 non-null  int64  \n",
            " 4   Destination_Airport_ID    880390 non-null  int64  \n",
            " 5   Distance                  880390 non-null  float64\n",
            " 6   Carrier_ID(DOT)           880390 non-null  float64\n",
            " 7   Tail_Number               880390 non-null  object \n",
            " 8   Delay                     224498 non-null  object \n",
            " 9   Holiday                   880390 non-null  int64  \n",
            "dtypes: float64(3), int64(4), object(3)\n",
            "memory usage: 73.9+ MB\n"
          ]
        }
      ],
      "source": [
        "train.info()"
      ]
    },
    {
      "cell_type": "code",
      "execution_count": null,
      "id": "VFe75-x1HrfE",
      "metadata": {
        "colab": {
          "base_uri": "https://localhost:8080/"
        },
        "id": "VFe75-x1HrfE",
        "outputId": "964b5f00-0425-4212-d737-57750c3066b3"
      },
      "outputs": [
        {
          "name": "stdout",
          "output_type": "stream",
          "text": [
            "<class 'pandas.core.frame.DataFrame'>\n",
            "Int64Index: 880390 entries, 1 to 999999\n",
            "Data columns (total 10 columns):\n",
            " #   Column                    Non-Null Count   Dtype  \n",
            "---  ------                    --------------   -----  \n",
            " 0   Month                     880390 non-null  int64  \n",
            " 1   Estimated_Departure_Time  880390 non-null  int64  \n",
            " 2   Estimated_Arrival_Time    880390 non-null  int64  \n",
            " 3   Origin_Airport_ID         880390 non-null  int64  \n",
            " 4   Destination_Airport_ID    880390 non-null  int64  \n",
            " 5   Distance                  880390 non-null  float64\n",
            " 6   Carrier_ID(DOT)           880390 non-null  int64  \n",
            " 7   Tail_Number               880390 non-null  object \n",
            " 8   Delay                     224498 non-null  object \n",
            " 9   Holiday                   880390 non-null  int64  \n",
            "dtypes: float64(1), int64(7), object(2)\n",
            "memory usage: 73.9+ MB\n"
          ]
        }
      ],
      "source": [
        "### 데이터형 변경\n",
        "# 데이터형을 적절한 형태로 변경\n",
        "\n",
        "train = train.astype({'Estimated_Arrival_Time':'int64', 'Carrier_ID(DOT)':'int64','Month':'int64'})\n",
        "train.info()"
      ]
    },
    {
      "cell_type": "code",
      "execution_count": null,
      "id": "JoFDViAoCo7q",
      "metadata": {
        "colab": {
          "base_uri": "https://localhost:8080/",
          "height": 300
        },
        "id": "JoFDViAoCo7q",
        "outputId": "6ce8fd49-d947-4710-eb12-e612d271207a"
      },
      "outputs": [
        {
          "data": {
            "text/html": [
              "<div>\n",
              "<style scoped>\n",
              "    .dataframe tbody tr th:only-of-type {\n",
              "        vertical-align: middle;\n",
              "    }\n",
              "\n",
              "    .dataframe tbody tr th {\n",
              "        vertical-align: top;\n",
              "    }\n",
              "\n",
              "    .dataframe thead th {\n",
              "        text-align: right;\n",
              "    }\n",
              "</style>\n",
              "<table border=\"1\" class=\"dataframe\">\n",
              "  <thead>\n",
              "    <tr style=\"text-align: right;\">\n",
              "      <th></th>\n",
              "      <th>Month</th>\n",
              "      <th>Estimated_Departure_Time</th>\n",
              "      <th>Estimated_Arrival_Time</th>\n",
              "      <th>Origin_Airport_ID</th>\n",
              "      <th>Destination_Airport_ID</th>\n",
              "      <th>Distance</th>\n",
              "      <th>Carrier_ID(DOT)</th>\n",
              "      <th>Holiday</th>\n",
              "    </tr>\n",
              "  </thead>\n",
              "  <tbody>\n",
              "    <tr>\n",
              "      <th>count</th>\n",
              "      <td>880390.000000</td>\n",
              "      <td>880390.000000</td>\n",
              "      <td>880390.000000</td>\n",
              "      <td>880390.000000</td>\n",
              "      <td>880390.000000</td>\n",
              "      <td>880390.000000</td>\n",
              "      <td>880390.000000</td>\n",
              "      <td>880390.000000</td>\n",
              "    </tr>\n",
              "    <tr>\n",
              "      <th>mean</th>\n",
              "      <td>6.945966</td>\n",
              "      <td>815.599928</td>\n",
              "      <td>905.878090</td>\n",
              "      <td>12696.513123</td>\n",
              "      <td>12702.091538</td>\n",
              "      <td>784.093085</td>\n",
              "      <td>19997.696396</td>\n",
              "      <td>0.187453</td>\n",
              "    </tr>\n",
              "    <tr>\n",
              "      <th>std</th>\n",
              "      <td>3.462980</td>\n",
              "      <td>294.684627</td>\n",
              "      <td>314.642283</td>\n",
              "      <td>1514.450326</td>\n",
              "      <td>1515.082800</td>\n",
              "      <td>590.567670</td>\n",
              "      <td>404.151468</td>\n",
              "      <td>0.390275</td>\n",
              "    </tr>\n",
              "    <tr>\n",
              "      <th>min</th>\n",
              "      <td>1.000000</td>\n",
              "      <td>1.000000</td>\n",
              "      <td>1.000000</td>\n",
              "      <td>10135.000000</td>\n",
              "      <td>10135.000000</td>\n",
              "      <td>16.000000</td>\n",
              "      <td>19393.000000</td>\n",
              "      <td>0.000000</td>\n",
              "    </tr>\n",
              "    <tr>\n",
              "      <th>25%</th>\n",
              "      <td>4.000000</td>\n",
              "      <td>565.000000</td>\n",
              "      <td>665.000000</td>\n",
              "      <td>11292.000000</td>\n",
              "      <td>11292.000000</td>\n",
              "      <td>350.000000</td>\n",
              "      <td>19790.000000</td>\n",
              "      <td>0.000000</td>\n",
              "    </tr>\n",
              "    <tr>\n",
              "      <th>50%</th>\n",
              "      <td>7.000000</td>\n",
              "      <td>813.000000</td>\n",
              "      <td>922.000000</td>\n",
              "      <td>12889.000000</td>\n",
              "      <td>12889.000000</td>\n",
              "      <td>623.000000</td>\n",
              "      <td>19977.000000</td>\n",
              "      <td>0.000000</td>\n",
              "    </tr>\n",
              "    <tr>\n",
              "      <th>75%</th>\n",
              "      <td>10.000000</td>\n",
              "      <td>1062.000000</td>\n",
              "      <td>1163.000000</td>\n",
              "      <td>14057.000000</td>\n",
              "      <td>14057.000000</td>\n",
              "      <td>1020.000000</td>\n",
              "      <td>20378.000000</td>\n",
              "      <td>0.000000</td>\n",
              "    </tr>\n",
              "    <tr>\n",
              "      <th>max</th>\n",
              "      <td>12.000000</td>\n",
              "      <td>1439.000000</td>\n",
              "      <td>1440.000000</td>\n",
              "      <td>16869.000000</td>\n",
              "      <td>16869.000000</td>\n",
              "      <td>5095.000000</td>\n",
              "      <td>21171.000000</td>\n",
              "      <td>1.000000</td>\n",
              "    </tr>\n",
              "  </tbody>\n",
              "</table>\n",
              "</div>"
            ],
            "text/plain": [
              "               Month  Estimated_Departure_Time  Estimated_Arrival_Time  \\\n",
              "count  880390.000000             880390.000000           880390.000000   \n",
              "mean        6.945966                815.599928              905.878090   \n",
              "std         3.462980                294.684627              314.642283   \n",
              "min         1.000000                  1.000000                1.000000   \n",
              "25%         4.000000                565.000000              665.000000   \n",
              "50%         7.000000                813.000000              922.000000   \n",
              "75%        10.000000               1062.000000             1163.000000   \n",
              "max        12.000000               1439.000000             1440.000000   \n",
              "\n",
              "       Origin_Airport_ID  Destination_Airport_ID       Distance  \\\n",
              "count      880390.000000           880390.000000  880390.000000   \n",
              "mean        12696.513123            12702.091538     784.093085   \n",
              "std          1514.450326             1515.082800     590.567670   \n",
              "min         10135.000000            10135.000000      16.000000   \n",
              "25%         11292.000000            11292.000000     350.000000   \n",
              "50%         12889.000000            12889.000000     623.000000   \n",
              "75%         14057.000000            14057.000000    1020.000000   \n",
              "max         16869.000000            16869.000000    5095.000000   \n",
              "\n",
              "       Carrier_ID(DOT)        Holiday  \n",
              "count    880390.000000  880390.000000  \n",
              "mean      19997.696396       0.187453  \n",
              "std         404.151468       0.390275  \n",
              "min       19393.000000       0.000000  \n",
              "25%       19790.000000       0.000000  \n",
              "50%       19977.000000       0.000000  \n",
              "75%       20378.000000       0.000000  \n",
              "max       21171.000000       1.000000  "
            ]
          },
          "execution_count": 50,
          "metadata": {},
          "output_type": "execute_result"
        }
      ],
      "source": [
        "train.describe()"
      ]
    },
    {
      "cell_type": "markdown",
      "id": "A2ohgELfLfQ5",
      "metadata": {
        "id": "A2ohgELfLfQ5"
      },
      "source": [
        "- 일부 데이터에 대해 이상치가 존재함을 확인할 수 있음"
      ]
    },
    {
      "cell_type": "markdown",
      "id": "Vw7dNhv8CxWH",
      "metadata": {
        "id": "Vw7dNhv8CxWH"
      },
      "source": [
        "## **2-4. 범주형 변수 Encoding**\n",
        "- 대부분의 범주형 변수들이 수치형으로 잘 처리되어 있다.\n",
        "- 추가적으로 변환이 필요한 변수들에 대해 LabelEncoding 진행"
      ]
    },
    {
      "cell_type": "code",
      "execution_count": null,
      "id": "JyCIjO7KIX9_",
      "metadata": {
        "id": "JyCIjO7KIX9_"
      },
      "outputs": [],
      "source": [
        "from sklearn.preprocessing import LabelEncoder\n",
        "\n",
        "cat = ['Tail_Number']\n",
        "\n",
        "le = LabelEncoder() # 객체 생성\n",
        "for i in cat:\n",
        "  le = le.fit(train[i])\n",
        "  train[i]=le.transform(train[i])\n",
        "\n",
        "  for label in np.unique(test[i]):\n",
        "    if label not in le.classes_:\n",
        "      le.classes_ = np.append(le.classes_, label)\n",
        "  test[i] = le.transform(test[i])"
      ]
    },
    {
      "cell_type": "code",
      "execution_count": null,
      "id": "dIUjegYOJUR7",
      "metadata": {
        "colab": {
          "base_uri": "https://localhost:8080/",
          "height": 143
        },
        "id": "dIUjegYOJUR7",
        "outputId": "1d438aa3-bdfa-4a5d-df57-4178546b2c25"
      },
      "outputs": [
        {
          "data": {
            "text/html": [
              "<div>\n",
              "<style scoped>\n",
              "    .dataframe tbody tr th:only-of-type {\n",
              "        vertical-align: middle;\n",
              "    }\n",
              "\n",
              "    .dataframe tbody tr th {\n",
              "        vertical-align: top;\n",
              "    }\n",
              "\n",
              "    .dataframe thead th {\n",
              "        text-align: right;\n",
              "    }\n",
              "</style>\n",
              "<table border=\"1\" class=\"dataframe\">\n",
              "  <thead>\n",
              "    <tr style=\"text-align: right;\">\n",
              "      <th></th>\n",
              "      <th>Month</th>\n",
              "      <th>Estimated_Departure_Time</th>\n",
              "      <th>Estimated_Arrival_Time</th>\n",
              "      <th>Origin_Airport_ID</th>\n",
              "      <th>Destination_Airport_ID</th>\n",
              "      <th>Distance</th>\n",
              "      <th>Carrier_ID(DOT)</th>\n",
              "      <th>Tail_Number</th>\n",
              "      <th>Delay</th>\n",
              "      <th>Holiday</th>\n",
              "    </tr>\n",
              "  </thead>\n",
              "  <tbody>\n",
              "    <tr>\n",
              "      <th>1</th>\n",
              "      <td>8</td>\n",
              "      <td>460</td>\n",
              "      <td>624</td>\n",
              "      <td>13930</td>\n",
              "      <td>14869</td>\n",
              "      <td>1250.0</td>\n",
              "      <td>20304</td>\n",
              "      <td>310</td>\n",
              "      <td>NaN</td>\n",
              "      <td>0</td>\n",
              "    </tr>\n",
              "    <tr>\n",
              "      <th>2</th>\n",
              "      <td>9</td>\n",
              "      <td>970</td>\n",
              "      <td>1085</td>\n",
              "      <td>11057</td>\n",
              "      <td>12953</td>\n",
              "      <td>544.0</td>\n",
              "      <td>19805</td>\n",
              "      <td>140</td>\n",
              "      <td>NaN</td>\n",
              "      <td>1</td>\n",
              "    </tr>\n",
              "    <tr>\n",
              "      <th>3</th>\n",
              "      <td>7</td>\n",
              "      <td>545</td>\n",
              "      <td>1055</td>\n",
              "      <td>12892</td>\n",
              "      <td>11618</td>\n",
              "      <td>2454.0</td>\n",
              "      <td>19977</td>\n",
              "      <td>3016</td>\n",
              "      <td>NaN</td>\n",
              "      <td>0</td>\n",
              "    </tr>\n",
              "  </tbody>\n",
              "</table>\n",
              "</div>"
            ],
            "text/plain": [
              "   Month  Estimated_Departure_Time  Estimated_Arrival_Time  Origin_Airport_ID  \\\n",
              "1      8                       460                     624              13930   \n",
              "2      9                       970                    1085              11057   \n",
              "3      7                       545                    1055              12892   \n",
              "\n",
              "   Destination_Airport_ID  Distance  Carrier_ID(DOT)  Tail_Number Delay  \\\n",
              "1                   14869    1250.0            20304          310   NaN   \n",
              "2                   12953     544.0            19805          140   NaN   \n",
              "3                   11618    2454.0            19977         3016   NaN   \n",
              "\n",
              "   Holiday  \n",
              "1        0  \n",
              "2        1  \n",
              "3        0  "
            ]
          },
          "execution_count": 52,
          "metadata": {},
          "output_type": "execute_result"
        }
      ],
      "source": [
        "train.head(3)"
      ]
    },
    {
      "cell_type": "code",
      "execution_count": null,
      "id": "FLCEwF_QJiam",
      "metadata": {
        "colab": {
          "base_uri": "https://localhost:8080/",
          "height": 143
        },
        "id": "FLCEwF_QJiam",
        "outputId": "29e3da6c-d9af-424f-d800-fbd3ae3d01c4"
      },
      "outputs": [
        {
          "data": {
            "text/html": [
              "<div>\n",
              "<style scoped>\n",
              "    .dataframe tbody tr th:only-of-type {\n",
              "        vertical-align: middle;\n",
              "    }\n",
              "\n",
              "    .dataframe tbody tr th {\n",
              "        vertical-align: top;\n",
              "    }\n",
              "\n",
              "    .dataframe thead th {\n",
              "        text-align: right;\n",
              "    }\n",
              "</style>\n",
              "<table border=\"1\" class=\"dataframe\">\n",
              "  <thead>\n",
              "    <tr style=\"text-align: right;\">\n",
              "      <th></th>\n",
              "      <th>Month</th>\n",
              "      <th>Estimated_Departure_Time</th>\n",
              "      <th>Estimated_Arrival_Time</th>\n",
              "      <th>Origin_Airport_ID</th>\n",
              "      <th>Destination_Airport_ID</th>\n",
              "      <th>Distance</th>\n",
              "      <th>Carrier_ID(DOT)</th>\n",
              "      <th>Tail_Number</th>\n",
              "      <th>Holiday</th>\n",
              "    </tr>\n",
              "  </thead>\n",
              "  <tbody>\n",
              "    <tr>\n",
              "      <th>0</th>\n",
              "      <td>12</td>\n",
              "      <td>716.0</td>\n",
              "      <td>779.0</td>\n",
              "      <td>12266</td>\n",
              "      <td>14683</td>\n",
              "      <td>191.0</td>\n",
              "      <td>19977.0</td>\n",
              "      <td>4382</td>\n",
              "      <td>0</td>\n",
              "    </tr>\n",
              "    <tr>\n",
              "      <th>1</th>\n",
              "      <td>09</td>\n",
              "      <td>900.0</td>\n",
              "      <td>1035.0</td>\n",
              "      <td>11618</td>\n",
              "      <td>10397</td>\n",
              "      <td>746.0</td>\n",
              "      <td>19790.0</td>\n",
              "      <td>1934</td>\n",
              "      <td>0</td>\n",
              "    </tr>\n",
              "    <tr>\n",
              "      <th>2</th>\n",
              "      <td>03</td>\n",
              "      <td>960.0</td>\n",
              "      <td>1155.0</td>\n",
              "      <td>13930</td>\n",
              "      <td>12953</td>\n",
              "      <td>733.0</td>\n",
              "      <td>19977.0</td>\n",
              "      <td>2144</td>\n",
              "      <td>0</td>\n",
              "    </tr>\n",
              "  </tbody>\n",
              "</table>\n",
              "</div>"
            ],
            "text/plain": [
              "  Month  Estimated_Departure_Time  Estimated_Arrival_Time  Origin_Airport_ID  \\\n",
              "0    12                     716.0                   779.0              12266   \n",
              "1    09                     900.0                  1035.0              11618   \n",
              "2    03                     960.0                  1155.0              13930   \n",
              "\n",
              "   Destination_Airport_ID  Distance  Carrier_ID(DOT)  Tail_Number  Holiday  \n",
              "0                   14683     191.0          19977.0         4382        0  \n",
              "1                   10397     746.0          19790.0         1934        0  \n",
              "2                   12953     733.0          19977.0         2144        0  "
            ]
          },
          "execution_count": 53,
          "metadata": {},
          "output_type": "execute_result"
        }
      ],
      "source": [
        "test.head(3)"
      ]
    },
    {
      "cell_type": "markdown",
      "id": "PJWysvJ_KPhv",
      "metadata": {
        "id": "PJWysvJ_KPhv"
      },
      "source": [
        "### **2-5. 이상치 처리**\n",
        "- IQR 활용"
      ]
    },
    {
      "cell_type": "code",
      "execution_count": null,
      "id": "fxPW85LCP-Xo",
      "metadata": {
        "colab": {
          "base_uri": "https://localhost:8080/"
        },
        "id": "fxPW85LCP-Xo",
        "outputId": "48734e31-9637-435f-a541-770acc4536af"
      },
      "outputs": [
        {
          "data": {
            "text/plain": [
              "(880390, 10)"
            ]
          },
          "execution_count": 54,
          "metadata": {},
          "output_type": "execute_result"
        }
      ],
      "source": [
        "train.shape"
      ]
    },
    {
      "cell_type": "code",
      "execution_count": null,
      "id": "oKC0SkRbMayf",
      "metadata": {
        "id": "oKC0SkRbMayf"
      },
      "outputs": [],
      "source": [
        "# 이상치 제거 함수\n",
        "def remove_outliers_iqr(df, threshold = 1.5):\n",
        "  for column in df.select_dtypes(include=np.number).columns:\n",
        "    q1 = df[column].quantile(0.25)\n",
        "    q3 = df[column].quantile(0.75)\n",
        "    iqr = q3 - q1\n",
        "    cutoff = iqr * threshold # 주로 IQR * 1.5를 임계값으로 설정\n",
        "\n",
        "    lower_bound = q1 - cutoff\n",
        "    upper_bound = q3 + cutoff\n",
        "\n",
        "    df = df[(df[column] >= lower_bound) & (df[column] <= upper_bound)]\n",
        "\n",
        "  return df"
      ]
    },
    {
      "cell_type": "code",
      "execution_count": null,
      "id": "XWyLnRK1OhA4",
      "metadata": {
        "colab": {
          "base_uri": "https://localhost:8080/"
        },
        "id": "XWyLnRK1OhA4",
        "outputId": "6c0d4f42-be80-49a6-a6a6-fc64c9ecbc37"
      },
      "outputs": [
        {
          "data": {
            "text/plain": [
              "(675015, 10)"
            ]
          },
          "execution_count": 56,
          "metadata": {},
          "output_type": "execute_result"
        }
      ],
      "source": [
        "train = remove_outliers_iqr(train)\n",
        "train.shape"
      ]
    },
    {
      "cell_type": "code",
      "execution_count": null,
      "id": "dff7bc25",
      "metadata": {
        "id": "dff7bc25"
      },
      "outputs": [],
      "source": []
    },
    {
      "cell_type": "code",
      "execution_count": null,
      "id": "48d56a74",
      "metadata": {
        "id": "48d56a74"
      },
      "outputs": [],
      "source": []
    },
    {
      "cell_type": "code",
      "execution_count": null,
      "id": "40796aa5",
      "metadata": {
        "id": "40796aa5"
      },
      "outputs": [],
      "source": []
    },
    {
      "cell_type": "code",
      "execution_count": null,
      "id": "14e29aa5",
      "metadata": {
        "id": "14e29aa5",
        "outputId": "f9341fce-b890-464a-fe53-486cb2f9bd5b"
      },
      "outputs": [
        {
          "data": {
            "text/html": [
              "<div>\n",
              "<style scoped>\n",
              "    .dataframe tbody tr th:only-of-type {\n",
              "        vertical-align: middle;\n",
              "    }\n",
              "\n",
              "    .dataframe tbody tr th {\n",
              "        vertical-align: top;\n",
              "    }\n",
              "\n",
              "    .dataframe thead th {\n",
              "        text-align: right;\n",
              "    }\n",
              "</style>\n",
              "<table border=\"1\" class=\"dataframe\">\n",
              "  <thead>\n",
              "    <tr style=\"text-align: right;\">\n",
              "      <th></th>\n",
              "      <th>Month</th>\n",
              "      <th>Estimated_Departure_Time</th>\n",
              "      <th>Estimated_Arrival_Time</th>\n",
              "      <th>Origin_Airport_ID</th>\n",
              "      <th>Destination_Airport_ID</th>\n",
              "      <th>Distance</th>\n",
              "      <th>Carrier_ID(DOT)</th>\n",
              "      <th>Tail_Number</th>\n",
              "      <th>Delay</th>\n",
              "      <th>Holiday</th>\n",
              "    </tr>\n",
              "  </thead>\n",
              "  <tbody>\n",
              "    <tr>\n",
              "      <th>5</th>\n",
              "      <td>4</td>\n",
              "      <td>945</td>\n",
              "      <td>1011</td>\n",
              "      <td>11618</td>\n",
              "      <td>11278</td>\n",
              "      <td>199.0</td>\n",
              "      <td>20452</td>\n",
              "      <td>3430</td>\n",
              "      <td>Not_Delayed</td>\n",
              "      <td>0</td>\n",
              "    </tr>\n",
              "    <tr>\n",
              "      <th>8</th>\n",
              "      <td>6</td>\n",
              "      <td>860</td>\n",
              "      <td>950</td>\n",
              "      <td>10821</td>\n",
              "      <td>11057</td>\n",
              "      <td>361.0</td>\n",
              "      <td>19393</td>\n",
              "      <td>4078</td>\n",
              "      <td>Not_Delayed</td>\n",
              "      <td>0</td>\n",
              "    </tr>\n",
              "    <tr>\n",
              "      <th>10</th>\n",
              "      <td>8</td>\n",
              "      <td>1050</td>\n",
              "      <td>1124</td>\n",
              "      <td>11278</td>\n",
              "      <td>14122</td>\n",
              "      <td>204.0</td>\n",
              "      <td>20452</td>\n",
              "      <td>241</td>\n",
              "      <td>Delayed</td>\n",
              "      <td>0</td>\n",
              "    </tr>\n",
              "    <tr>\n",
              "      <th>12</th>\n",
              "      <td>1</td>\n",
              "      <td>615</td>\n",
              "      <td>705</td>\n",
              "      <td>11042</td>\n",
              "      <td>11292</td>\n",
              "      <td>1201.0</td>\n",
              "      <td>19393</td>\n",
              "      <td>5163</td>\n",
              "      <td>Not_Delayed</td>\n",
              "      <td>0</td>\n",
              "    </tr>\n",
              "    <tr>\n",
              "      <th>13</th>\n",
              "      <td>9</td>\n",
              "      <td>375</td>\n",
              "      <td>426</td>\n",
              "      <td>13158</td>\n",
              "      <td>11292</td>\n",
              "      <td>563.0</td>\n",
              "      <td>20304</td>\n",
              "      <td>577</td>\n",
              "      <td>Not_Delayed</td>\n",
              "      <td>0</td>\n",
              "    </tr>\n",
              "  </tbody>\n",
              "</table>\n",
              "</div>"
            ],
            "text/plain": [
              "    Month  Estimated_Departure_Time  Estimated_Arrival_Time  \\\n",
              "5       4                       945                    1011   \n",
              "8       6                       860                     950   \n",
              "10      8                      1050                    1124   \n",
              "12      1                       615                     705   \n",
              "13      9                       375                     426   \n",
              "\n",
              "    Origin_Airport_ID  Destination_Airport_ID  Distance  Carrier_ID(DOT)  \\\n",
              "5               11618                   11278     199.0            20452   \n",
              "8               10821                   11057     361.0            19393   \n",
              "10              11278                   14122     204.0            20452   \n",
              "12              11042                   11292    1201.0            19393   \n",
              "13              13158                   11292     563.0            20304   \n",
              "\n",
              "    Tail_Number        Delay  Holiday  \n",
              "5          3430  Not_Delayed        0  \n",
              "8          4078  Not_Delayed        0  \n",
              "10          241      Delayed        0  \n",
              "12         5163  Not_Delayed        0  \n",
              "13          577  Not_Delayed        0  "
            ]
          },
          "execution_count": 105,
          "metadata": {},
          "output_type": "execute_result"
        }
      ],
      "source": [
        "# 레이블링 되어있는 데이터 추출\n",
        "train_labeled = train.dropna()\n",
        "train_labeled.head()"
      ]
    },
    {
      "cell_type": "code",
      "execution_count": null,
      "id": "517172e7",
      "metadata": {
        "id": "517172e7",
        "outputId": "1120b56a-384e-4a21-9103-d043bd1535cf"
      },
      "outputs": [
        {
          "data": {
            "text/html": [
              "<div>\n",
              "<style scoped>\n",
              "    .dataframe tbody tr th:only-of-type {\n",
              "        vertical-align: middle;\n",
              "    }\n",
              "\n",
              "    .dataframe tbody tr th {\n",
              "        vertical-align: top;\n",
              "    }\n",
              "\n",
              "    .dataframe thead th {\n",
              "        text-align: right;\n",
              "    }\n",
              "</style>\n",
              "<table border=\"1\" class=\"dataframe\">\n",
              "  <thead>\n",
              "    <tr style=\"text-align: right;\">\n",
              "      <th></th>\n",
              "      <th>Month</th>\n",
              "      <th>Estimated_Departure_Time</th>\n",
              "      <th>Estimated_Arrival_Time</th>\n",
              "      <th>Origin_Airport_ID</th>\n",
              "      <th>Destination_Airport_ID</th>\n",
              "      <th>Distance</th>\n",
              "      <th>Carrier_ID(DOT)</th>\n",
              "      <th>Tail_Number</th>\n",
              "      <th>Delay</th>\n",
              "      <th>Holiday</th>\n",
              "    </tr>\n",
              "  </thead>\n",
              "  <tbody>\n",
              "    <tr>\n",
              "      <th>1</th>\n",
              "      <td>8</td>\n",
              "      <td>460</td>\n",
              "      <td>624</td>\n",
              "      <td>13930</td>\n",
              "      <td>14869</td>\n",
              "      <td>1250.0</td>\n",
              "      <td>20304</td>\n",
              "      <td>310</td>\n",
              "      <td>NaN</td>\n",
              "      <td>0</td>\n",
              "    </tr>\n",
              "    <tr>\n",
              "      <th>4</th>\n",
              "      <td>1</td>\n",
              "      <td>540</td>\n",
              "      <td>619</td>\n",
              "      <td>14771</td>\n",
              "      <td>10157</td>\n",
              "      <td>250.0</td>\n",
              "      <td>20304</td>\n",
              "      <td>554</td>\n",
              "      <td>NaN</td>\n",
              "      <td>0</td>\n",
              "    </tr>\n",
              "    <tr>\n",
              "      <th>7</th>\n",
              "      <td>4</td>\n",
              "      <td>1095</td>\n",
              "      <td>1195</td>\n",
              "      <td>13930</td>\n",
              "      <td>13198</td>\n",
              "      <td>403.0</td>\n",
              "      <td>20304</td>\n",
              "      <td>173</td>\n",
              "      <td>NaN</td>\n",
              "      <td>0</td>\n",
              "    </tr>\n",
              "    <tr>\n",
              "      <th>9</th>\n",
              "      <td>6</td>\n",
              "      <td>410</td>\n",
              "      <td>518</td>\n",
              "      <td>12992</td>\n",
              "      <td>12266</td>\n",
              "      <td>374.0</td>\n",
              "      <td>20366</td>\n",
              "      <td>468</td>\n",
              "      <td>NaN</td>\n",
              "      <td>0</td>\n",
              "    </tr>\n",
              "    <tr>\n",
              "      <th>11</th>\n",
              "      <td>3</td>\n",
              "      <td>360</td>\n",
              "      <td>468</td>\n",
              "      <td>14100</td>\n",
              "      <td>11433</td>\n",
              "      <td>453.0</td>\n",
              "      <td>19790</td>\n",
              "      <td>1857</td>\n",
              "      <td>NaN</td>\n",
              "      <td>0</td>\n",
              "    </tr>\n",
              "  </tbody>\n",
              "</table>\n",
              "</div>"
            ],
            "text/plain": [
              "    Month  Estimated_Departure_Time  Estimated_Arrival_Time  \\\n",
              "1       8                       460                     624   \n",
              "4       1                       540                     619   \n",
              "7       4                      1095                    1195   \n",
              "9       6                       410                     518   \n",
              "11      3                       360                     468   \n",
              "\n",
              "    Origin_Airport_ID  Destination_Airport_ID  Distance  Carrier_ID(DOT)  \\\n",
              "1               13930                   14869    1250.0            20304   \n",
              "4               14771                   10157     250.0            20304   \n",
              "7               13930                   13198     403.0            20304   \n",
              "9               12992                   12266     374.0            20366   \n",
              "11              14100                   11433     453.0            19790   \n",
              "\n",
              "    Tail_Number Delay  Holiday  \n",
              "1           310   NaN        0  \n",
              "4           554   NaN        0  \n",
              "7           173   NaN        0  \n",
              "9           468   NaN        0  \n",
              "11         1857   NaN        0  "
            ]
          },
          "execution_count": 106,
          "metadata": {},
          "output_type": "execute_result"
        }
      ],
      "source": [
        "# 레이블링 되어있지 않은 데이터 추출\n",
        "train_unlabeled = train[train.isna().any(axis=1)]\n",
        "train_unlabeled.head()"
      ]
    },
    {
      "cell_type": "code",
      "execution_count": null,
      "id": "dd420652",
      "metadata": {
        "id": "dd420652",
        "outputId": "e1f14f22-744b-42d9-dfe2-c021f4833f0b"
      },
      "outputs": [
        {
          "data": {
            "text/html": [
              "<div>\n",
              "<style scoped>\n",
              "    .dataframe tbody tr th:only-of-type {\n",
              "        vertical-align: middle;\n",
              "    }\n",
              "\n",
              "    .dataframe tbody tr th {\n",
              "        vertical-align: top;\n",
              "    }\n",
              "\n",
              "    .dataframe thead th {\n",
              "        text-align: right;\n",
              "    }\n",
              "</style>\n",
              "<table border=\"1\" class=\"dataframe\">\n",
              "  <thead>\n",
              "    <tr style=\"text-align: right;\">\n",
              "      <th></th>\n",
              "      <th>Month</th>\n",
              "      <th>Estimated_Departure_Time</th>\n",
              "      <th>Estimated_Arrival_Time</th>\n",
              "      <th>Origin_Airport_ID</th>\n",
              "      <th>Destination_Airport_ID</th>\n",
              "      <th>Distance</th>\n",
              "      <th>Carrier_ID(DOT)</th>\n",
              "      <th>Tail_Number</th>\n",
              "      <th>Holiday</th>\n",
              "    </tr>\n",
              "  </thead>\n",
              "  <tbody>\n",
              "    <tr>\n",
              "      <th>5</th>\n",
              "      <td>4</td>\n",
              "      <td>945</td>\n",
              "      <td>1011</td>\n",
              "      <td>11618</td>\n",
              "      <td>11278</td>\n",
              "      <td>199.0</td>\n",
              "      <td>20452</td>\n",
              "      <td>3430</td>\n",
              "      <td>0</td>\n",
              "    </tr>\n",
              "    <tr>\n",
              "      <th>8</th>\n",
              "      <td>6</td>\n",
              "      <td>860</td>\n",
              "      <td>950</td>\n",
              "      <td>10821</td>\n",
              "      <td>11057</td>\n",
              "      <td>361.0</td>\n",
              "      <td>19393</td>\n",
              "      <td>4078</td>\n",
              "      <td>0</td>\n",
              "    </tr>\n",
              "    <tr>\n",
              "      <th>10</th>\n",
              "      <td>8</td>\n",
              "      <td>1050</td>\n",
              "      <td>1124</td>\n",
              "      <td>11278</td>\n",
              "      <td>14122</td>\n",
              "      <td>204.0</td>\n",
              "      <td>20452</td>\n",
              "      <td>241</td>\n",
              "      <td>0</td>\n",
              "    </tr>\n",
              "  </tbody>\n",
              "</table>\n",
              "</div>"
            ],
            "text/plain": [
              "    Month  Estimated_Departure_Time  Estimated_Arrival_Time  \\\n",
              "5       4                       945                    1011   \n",
              "8       6                       860                     950   \n",
              "10      8                      1050                    1124   \n",
              "\n",
              "    Origin_Airport_ID  Destination_Airport_ID  Distance  Carrier_ID(DOT)  \\\n",
              "5               11618                   11278     199.0            20452   \n",
              "8               10821                   11057     361.0            19393   \n",
              "10              11278                   14122     204.0            20452   \n",
              "\n",
              "    Tail_Number  Holiday  \n",
              "5          3430        0  \n",
              "8          4078        0  \n",
              "10          241        0  "
            ]
          },
          "execution_count": 107,
          "metadata": {},
          "output_type": "execute_result"
        }
      ],
      "source": [
        "# 레이블이 있는 데이터로 초기 모델 학습\n",
        "X_labeled = train_labeled.drop('Delay', axis=1)\n",
        "X_labeled.head(3)"
      ]
    },
    {
      "cell_type": "code",
      "execution_count": null,
      "id": "6f5b6102",
      "metadata": {
        "id": "6f5b6102",
        "outputId": "0814a8d1-955c-4eff-ea77-b9c1d176520b"
      },
      "outputs": [
        {
          "data": {
            "text/plain": [
              "5     Not_Delayed\n",
              "8     Not_Delayed\n",
              "10        Delayed\n",
              "Name: Delay, dtype: object"
            ]
          },
          "execution_count": 108,
          "metadata": {},
          "output_type": "execute_result"
        }
      ],
      "source": [
        "y_labeled = train_labeled['Delay']\n",
        "y_labeled.head(3)"
      ]
    },
    {
      "cell_type": "code",
      "execution_count": null,
      "id": "b176e96a",
      "metadata": {
        "id": "b176e96a"
      },
      "outputs": [],
      "source": [
        "# Label Encoding\n",
        "from sklearn.preprocessing import LabelEncoder\n",
        "encoder = LabelEncoder()\n",
        "y_labeled_e = encoder.fit_transform(y_labeled)"
      ]
    },
    {
      "cell_type": "code",
      "execution_count": null,
      "id": "a9350a72",
      "metadata": {
        "id": "a9350a72"
      },
      "outputs": [],
      "source": [
        "from sklearn.model_selection import train_test_split\n",
        "X_train, X_test, y_train, y_test = train_test_split(X_labeled, y_labeled_e, test_size=0.2)"
      ]
    },
    {
      "cell_type": "code",
      "execution_count": null,
      "id": "26e201ed",
      "metadata": {
        "id": "26e201ed",
        "outputId": "e68ac398-075f-4467-df92-0af73f3346c4"
      },
      "outputs": [
        {
          "data": {
            "text/plain": [
              "XGBClassifier(base_score=None, booster=None, callbacks=None,\n",
              "              colsample_bylevel=None, colsample_bynode=None,\n",
              "              colsample_bytree=None, early_stopping_rounds=None,\n",
              "              enable_categorical=False, eval_metric=None, feature_types=None,\n",
              "              gamma=None, gpu_id=None, grow_policy=None, importance_type=None,\n",
              "              interaction_constraints=None, learning_rate=None, max_bin=None,\n",
              "              max_cat_threshold=None, max_cat_to_onehot=None,\n",
              "              max_delta_step=None, max_depth=None, max_leaves=None,\n",
              "              min_child_weight=None, missing=nan, monotone_constraints=None,\n",
              "              n_estimators=100, n_jobs=None, num_parallel_tree=None,\n",
              "              predictor=None, random_state=None, ...)"
            ]
          },
          "execution_count": 111,
          "metadata": {},
          "output_type": "execute_result"
        }
      ],
      "source": [
        "from xgboost import XGBClassifier\n",
        "model1 = XGBClassifier()\n",
        "model1.fit(X_train, y_train)"
      ]
    },
    {
      "cell_type": "code",
      "execution_count": null,
      "id": "9b4729b7",
      "metadata": {
        "id": "9b4729b7"
      },
      "outputs": [],
      "source": [
        "X_unlabeled = train_unlabeled.drop('Delay', axis=1)"
      ]
    },
    {
      "cell_type": "code",
      "execution_count": null,
      "id": "8910e600",
      "metadata": {
        "id": "8910e600"
      },
      "outputs": [],
      "source": [
        "# 초기 모델을 사용하여 레이블이 없는 데이터에 레이블 부여\n",
        "pseudo_labels = model1.predict(X_unlabeled)"
      ]
    },
    {
      "cell_type": "code",
      "execution_count": null,
      "id": "07e23e5a",
      "metadata": {
        "id": "07e23e5a",
        "outputId": "f91c9d9b-b2b0-4ccf-9afa-28ee8ea4fd34"
      },
      "outputs": [
        {
          "name": "stderr",
          "output_type": "stream",
          "text": [
            "C:\\Users\\Kim\\AppData\\Local\\Temp\\ipykernel_10636\\2555244041.py:1: SettingWithCopyWarning: \n",
            "A value is trying to be set on a copy of a slice from a DataFrame.\n",
            "Try using .loc[row_indexer,col_indexer] = value instead\n",
            "\n",
            "See the caveats in the documentation: https://pandas.pydata.org/pandas-docs/stable/user_guide/indexing.html#returning-a-view-versus-a-copy\n",
            "  train_unlabeled['pseudo_label'] = pseudo_labels\n"
          ]
        }
      ],
      "source": [
        "train_unlabeled['pseudo_label'] = pseudo_labels"
      ]
    },
    {
      "cell_type": "code",
      "execution_count": null,
      "id": "482ade55",
      "metadata": {
        "id": "482ade55"
      },
      "outputs": [],
      "source": [
        "# 레이블이 있는 데이터와 레이블이 없는 데이터를 합치기\n",
        "combined_labeled = pd.concat([train_labeled, train_unlabeled])"
      ]
    },
    {
      "cell_type": "code",
      "execution_count": null,
      "id": "007ee817",
      "metadata": {
        "id": "007ee817"
      },
      "outputs": [],
      "source": [
        "X_combined = combined_labeled.drop(['Delay', 'pseudo_label'], axis=1)\n",
        "y_combined = combined_labeled['Delay']"
      ]
    },
    {
      "cell_type": "code",
      "execution_count": null,
      "id": "911b23a9",
      "metadata": {
        "id": "911b23a9"
      },
      "outputs": [],
      "source": [
        "# Label Encoding\n",
        "encoder = LabelEncoder()\n",
        "y_combined_e = encoder.fit_transform(y_combined)"
      ]
    },
    {
      "cell_type": "code",
      "execution_count": null,
      "id": "4f0c7264",
      "metadata": {
        "id": "4f0c7264",
        "outputId": "15ec92fa-4530-464c-9887-7d2f4128720d"
      },
      "outputs": [
        {
          "data": {
            "text/plain": [
              "XGBClassifier(base_score=None, booster=None, callbacks=None,\n",
              "              colsample_bylevel=None, colsample_bynode=None,\n",
              "              colsample_bytree=None, early_stopping_rounds=None,\n",
              "              enable_categorical=False, eval_metric=None, feature_types=None,\n",
              "              gamma=None, gpu_id=None, grow_policy=None, importance_type=None,\n",
              "              interaction_constraints=None, learning_rate=None, max_bin=None,\n",
              "              max_cat_threshold=None, max_cat_to_onehot=None,\n",
              "              max_delta_step=None, max_depth=None, max_leaves=None,\n",
              "              min_child_weight=None, missing=nan, monotone_constraints=None,\n",
              "              n_estimators=100, n_jobs=None, num_parallel_tree=None,\n",
              "              objective='multi:softprob', predictor=None, ...)"
            ]
          },
          "execution_count": 128,
          "metadata": {},
          "output_type": "execute_result"
        }
      ],
      "source": [
        "# 새로운 데이터로 모델 학습 (준지도학습)\n",
        "model2 = XGBClassifier()\n",
        "model2.fit(X_combined, y_combined_e)"
      ]
    },
    {
      "cell_type": "code",
      "execution_count": null,
      "id": "332483f1",
      "metadata": {
        "id": "332483f1"
      },
      "outputs": [],
      "source": [
        "# 레이블이 있는 데이터와 레이블이 없는 데이터를 모두 사용하여 평가\n",
        "from sklearn.metrics import accuracy_score\n",
        "\n",
        "y_pred = model2.predict(X_test)\n"
      ]
    }
  ],
  "metadata": {
    "colab": {
      "provenance": [],
      "include_colab_link": true
    },
    "kernelspec": {
      "display_name": "Python 3 (ipykernel)",
      "language": "python",
      "name": "python3"
    },
    "language_info": {
      "codemirror_mode": {
        "name": "ipython",
        "version": 3
      },
      "file_extension": ".py",
      "mimetype": "text/x-python",
      "name": "python",
      "nbconvert_exporter": "python",
      "pygments_lexer": "ipython3",
      "version": "3.9.13"
    }
  },
  "nbformat": 4,
  "nbformat_minor": 5
}