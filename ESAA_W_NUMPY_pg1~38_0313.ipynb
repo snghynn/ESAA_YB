{
  "nbformat": 4,
  "nbformat_minor": 0,
  "metadata": {
    "colab": {
      "provenance": [],
      "authorship_tag": "ABX9TyPLni7H08NYewM4EzOzWeHX",
      "include_colab_link": true
    },
    "kernelspec": {
      "name": "python3",
      "display_name": "Python 3"
    },
    "language_info": {
      "name": "python"
    }
  },
  "cells": [
    {
      "cell_type": "markdown",
      "metadata": {
        "id": "view-in-github",
        "colab_type": "text"
      },
      "source": [
        "<a href=\"https://colab.research.google.com/github/snghynn/ESAA-YB/blob/main/ESSA_0310_HW.ipynb\" target=\"_parent\"><img src=\"https://colab.research.google.com/assets/colab-badge.svg\" alt=\"Open In Colab\"/></a>"
      ]
    },
    {
      "cell_type": "markdown",
      "source": [
        "# Chapter1. 파이썬 기반의 머신러닝과 생태계 이해\n",
        "\n",
        "## 1. 머신러닝의 개념\n",
        "\n",
        "- 머신러닝: 애플리케이션을 수정하지 않고도 데이터를 기반으로 패턴을 학습하고 결과를 예측하는 알고리즘 기법\n",
        "\n",
        "- 머신러닝의 분류\n",
        "\n",
        "  1) 지도학습: 분류, 회귀, 추천 시스템, 시각/음성감지/인지/텍스트 분석/NLP\n",
        "\n",
        "  2) 비지도학습: 클러스터링, 차원 축소, 강화 학습\n",
        "\n",
        "## 2. 파이썬 머신러닝 생태계를 구성하는 주요 패키지\n",
        "\n",
        "## 3. 넘파이\n",
        "- 넘파이: 파이썬에서 선형대수 기반의 프로그램을 쉽게 만들 수 있도록 지원하는 대표적인 패키지/ 배열 기반의 연산과 다양한 데이터 핸들링 기능 제공\n",
        "- 넘파이 array()함수는 파이썬의 리스트와 같은 다양한 인자를 입력받아 ndarray로 변환하는 기능을 수행\n",
        "- 생성된 ndarray 배열의 shape 변수는 ndarray의 크기(행과 열의 수)를 튜플 형태로 가져 ndarray 배열의 차원까지 알 수 있음"
      ],
      "metadata": {
        "id": "TuiKyJ5o-TYS"
      }
    },
    {
      "cell_type": "code",
      "source": [
        "import numpy as np"
      ],
      "metadata": {
        "id": "U_2cL7kAAVji"
      },
      "execution_count": 2,
      "outputs": []
    },
    {
      "cell_type": "code",
      "source": [
        "array1=np.array([1,2,3])\n",
        "print('array1 type: ',type(array1))\n",
        "print('array1 array 형태: ', array1.shape)\n",
        "\n",
        "array2=np.array([[1,2,3],\n",
        "                 [2,3,4]])\n",
        "print('array2 type: ',type(array2))\n",
        "print('array2 array 형태: ', array2.shape)\n",
        "\n",
        "array3=np.array([[1,2,3]])\n",
        "print('array3 type: ',type(array3))\n",
        "print('array3 array 형태: ', array3.shape)\n"
      ],
      "metadata": {
        "colab": {
          "base_uri": "https://localhost:8080/"
        },
        "id": "CvlhkPgdAZik",
        "outputId": "b3a7f81b-fd72-41e3-b6c9-476e34b8d237"
      },
      "execution_count": 3,
      "outputs": [
        {
          "output_type": "stream",
          "name": "stdout",
          "text": [
            "array1 type:  <class 'numpy.ndarray'>\n",
            "array1 array 형태:  (3,)\n",
            "array2 type:  <class 'numpy.ndarray'>\n",
            "array2 array 형태:  (2, 3)\n",
            "array3 type:  <class 'numpy.ndarray'>\n",
            "array3 array 형태:  (1, 3)\n"
          ]
        }
      ]
    },
    {
      "cell_type": "markdown",
      "source": [
        "### np.array() 사용법\n",
        "\n",
        "- ndarray로 변환을 원하는 객체를 인자로 입력하면 ndarray를 반환.\n",
        "\n",
        "- ndarray.shape는 ndarray의 차원과 크기를 튜플 형태로 나타내줌\n"
      ],
      "metadata": {
        "id": "YI5twoo9BFLg"
      }
    },
    {
      "cell_type": "code",
      "source": [
        "print('array1: {:0}차원, array2: {:1}차원, array3: {:2}차원'.format(array1.ndim, array2.ndim, array3.ndim))"
      ],
      "metadata": {
        "colab": {
          "base_uri": "https://localhost:8080/"
        },
        "id": "lmEv_79_Ajs7",
        "outputId": "7eb29a61-a662-409b-f886-0c6f8d5e1eab"
      },
      "execution_count": 4,
      "outputs": [
        {
          "output_type": "stream",
          "name": "stdout",
          "text": [
            "array1: 1차원, array2: 2차원, array3:  2차원\n"
          ]
        }
      ]
    },
    {
      "cell_type": "markdown",
      "source": [
        "### ndarray의 데이터 타입\n",
        "\n",
        "- 숫자, 문자열, 불 값 모두 가능\n",
        "\n",
        "- int형(8bit, 16bit, 32bit), unsigned int형(8bit, 16bit, 32bit), float형(16bit, 32bit, 64bit, 128bit), complex타입\n",
        "\n",
        "- 한 개의 ndarray 객체에는 같은 type만 가능\n",
        "\n",
        "- ndarray 내의 데이터 타입은 dtype 속성으로 확인 가능\n"
      ],
      "metadata": {
        "id": "EUUdFsxYZ_P3"
      }
    },
    {
      "cell_type": "code",
      "source": [
        "list1=[1,2,3]   #리스트 자료형, integer을 값으로 가짐\n",
        "print(type(list1))\n",
        "array1=np.array(list1)\n",
        "print(type(array1))\n",
        "print(array1, array1.dtype)"
      ],
      "metadata": {
        "colab": {
          "base_uri": "https://localhost:8080/"
        },
        "id": "cJ2uYTmyZnFr",
        "outputId": "23771807-ea14-4128-b6c2-bc8b6a1540f0"
      },
      "execution_count": 5,
      "outputs": [
        {
          "output_type": "stream",
          "name": "stdout",
          "text": [
            "<class 'list'>\n",
            "<class 'numpy.ndarray'>\n",
            "[1 2 3] int64\n"
          ]
        }
      ]
    },
    {
      "cell_type": "markdown",
      "source": [
        "- list -> 서로 다른 데이터 타입 가능\n",
        "- ndarray -> 같은 데이터 타입만 가능\n",
        "- list -> ndarray 로 변경하면 데이터 크기가 더 큰 데이터 타입으로 형 변환 일괄 적용"
      ],
      "metadata": {
        "id": "QKOy2BuDedwJ"
      }
    },
    {
      "cell_type": "code",
      "source": [
        "list2=[1,2,'test'] #int형 값과 문자열이 섞여있는 리스트트\n",
        "array2=np.array(list2) #list형 자료를 ndarray로 변경하기\n",
        "print(array2, array2.dtype) \n",
        "#int형이 문자열 값으로 변환됨"
      ],
      "metadata": {
        "colab": {
          "base_uri": "https://localhost:8080/"
        },
        "id": "-2_P6Rz6adIQ",
        "outputId": "7e893ad6-6dcd-4923-dd13-f7d697feebf4"
      },
      "execution_count": 6,
      "outputs": [
        {
          "output_type": "stream",
          "name": "stdout",
          "text": [
            "['1' '2' 'test'] <U21\n"
          ]
        }
      ]
    },
    {
      "cell_type": "code",
      "source": [
        "list3=[1,2,3.0] #int와 float형이 섞여 있음\n",
        "array3=np.array(list3) #array로 변경\n",
        "print(array3, array3.dtype)\n",
        "#int형이 float형으로 변환됨"
      ],
      "metadata": {
        "colab": {
          "base_uri": "https://localhost:8080/"
        },
        "id": "L7LsKNunek8N",
        "outputId": "41eb799c-6a06-43ab-8698-22bde613e137"
      },
      "execution_count": 7,
      "outputs": [
        {
          "output_type": "stream",
          "name": "stdout",
          "text": [
            "[1. 2. 3.] float64\n"
          ]
        }
      ]
    },
    {
      "cell_type": "markdown",
      "source": [
        "- astype() : ndarray 내 데이터값의 타입 변경\n",
        "- 인자로 원하는 타입을 문자열로 지정\n",
        "- 데용량 데이터의 메모리 절약을 위해 사용"
      ],
      "metadata": {
        "id": "wmDUDY3MfJF9"
      }
    },
    {
      "cell_type": "code",
      "source": [
        "array_int=np.array([1,2,3])\n",
        "array_float=array_int.astype('float64')\n",
        "print(array_float, array_float.dtype)"
      ],
      "metadata": {
        "colab": {
          "base_uri": "https://localhost:8080/"
        },
        "id": "DYfuQcRxerTH",
        "outputId": "21af3926-808d-48c7-a6fb-9a9bf4e8dcb5"
      },
      "execution_count": 8,
      "outputs": [
        {
          "output_type": "stream",
          "name": "stdout",
          "text": [
            "[1. 2. 3.] float64\n"
          ]
        }
      ]
    },
    {
      "cell_type": "code",
      "source": [
        "array_int1=array_float.astype('int32')\n",
        "print(array_int1, array_int1.dtype)"
      ],
      "metadata": {
        "colab": {
          "base_uri": "https://localhost:8080/"
        },
        "id": "vSwY4KqrflWQ",
        "outputId": "b3ce3dab-272d-4af4-8915-255f9a3bfb32"
      },
      "execution_count": 9,
      "outputs": [
        {
          "output_type": "stream",
          "name": "stdout",
          "text": [
            "[1 2 3] int32\n"
          ]
        }
      ]
    },
    {
      "cell_type": "code",
      "source": [
        "array_float1=np.array([1.1, 2.1, 3.1])\n",
        "array_int2=array_float1.astype('int32')\n",
        "print(array_int2, array_int2.dtype)"
      ],
      "metadata": {
        "colab": {
          "base_uri": "https://localhost:8080/"
        },
        "id": "7j4ncgNHfvek",
        "outputId": "33166341-82d0-423d-dbec-b51abc089117"
      },
      "execution_count": 10,
      "outputs": [
        {
          "output_type": "stream",
          "name": "stdout",
          "text": [
            "[1 2 3] int32\n"
          ]
        }
      ]
    },
    {
      "cell_type": "markdown",
      "source": [
        "### ndarray를 편리하게 생성하기-arange, zeros, ones\n",
        "\n",
        "- arange(), zeros(), ones(): 특정 크기와 차원을 가진 ndarray를 연속값이나 0또는 1로 초기화해 쉽게 생성해야 하는 경우 사용\n",
        "- 테스트용 데이터 만들거나 대규모의 데이터 일괄적으로 초기화해야할 때 "
      ],
      "metadata": {
        "id": "rry2HK5sgl52"
      }
    },
    {
      "cell_type": "code",
      "source": [
        "sequence_array=np.arange(10)  #range()와 유사한 기능\n",
        "print(sequence_array)\n",
        "print(sequence_array.dtype, sequence_array.shape)"
      ],
      "metadata": {
        "colab": {
          "base_uri": "https://localhost:8080/"
        },
        "id": "vkRjHHtygf1m",
        "outputId": "1645a520-2f1b-47d0-ae98-5a37c74cbbe8"
      },
      "execution_count": 11,
      "outputs": [
        {
          "output_type": "stream",
          "name": "stdout",
          "text": [
            "[0 1 2 3 4 5 6 7 8 9]\n",
            "int64 (10,)\n"
          ]
        }
      ]
    },
    {
      "cell_type": "code",
      "source": [
        "#zeros(): 모든 값을 0으로 채운 해당 shpae를 가진 ndarray 반환\n",
        "zero_array=np.zeros((3,2), dtype='int32')\n",
        "print(zero_array)\n",
        "print(zero_array.dtype, zero_array.shape)"
      ],
      "metadata": {
        "colab": {
          "base_uri": "https://localhost:8080/"
        },
        "id": "qYdpjCOqg85d",
        "outputId": "d4a23bff-096f-4971-f802-94f311d6b389"
      },
      "execution_count": 12,
      "outputs": [
        {
          "output_type": "stream",
          "name": "stdout",
          "text": [
            "[[0 0]\n",
            " [0 0]\n",
            " [0 0]]\n",
            "int32 (3, 2)\n"
          ]
        }
      ]
    },
    {
      "cell_type": "code",
      "source": [
        "#ones(): 모든 값을 1로 채운 해당 shape를 가진 ndarray 반환\n",
        "#dtype 지정하지 않으면 default로 float64형의 데이터로 채움\n",
        "one_array=np.ones((3,2))\n",
        "print(one_array)\n",
        "print(one_array.dtype, one_array.shape)"
      ],
      "metadata": {
        "colab": {
          "base_uri": "https://localhost:8080/"
        },
        "id": "s4WqcruKhaO2",
        "outputId": "8adc3702-29ea-4ce8-dbdf-fefa355ba08a"
      },
      "execution_count": 13,
      "outputs": [
        {
          "output_type": "stream",
          "name": "stdout",
          "text": [
            "[[1. 1.]\n",
            " [1. 1.]\n",
            " [1. 1.]]\n",
            "float64 (3, 2)\n"
          ]
        }
      ]
    },
    {
      "cell_type": "markdown",
      "source": [
        "### ndarray의 차원과 크기를 변경하는 reshape()\n",
        "\n",
        "- reshape(): array를 특정 차원 및 크기로 변환\n",
        "- 변환을 원하는 크기를 함수 인자로 부여여"
      ],
      "metadata": {
        "id": "eQRfkr6gimAk"
      }
    },
    {
      "cell_type": "code",
      "source": [
        "#0~9까지의 1차원 ndarray를 2row*5col(array2)과 5row*2col(array3) 형태로 2차원 ndarray로 변환\n",
        "\n",
        "array1=np.arange(10)\n",
        "print('array:\\n', array1)\n",
        "\n",
        "array2=array1.reshape(2,5)\n",
        "print('array2:\\n',array2)\n",
        "\n",
        "array3=array1.reshape(5,2)\n",
        "print('array3:\\n',array3)"
      ],
      "metadata": {
        "colab": {
          "base_uri": "https://localhost:8080/"
        },
        "id": "Js6eUA9DiV2z",
        "outputId": "7a841702-c160-4efa-ed21-437b229a234d"
      },
      "execution_count": 14,
      "outputs": [
        {
          "output_type": "stream",
          "name": "stdout",
          "text": [
            "array:\n",
            " [0 1 2 3 4 5 6 7 8 9]\n",
            "array2:\n",
            " [[0 1 2 3 4]\n",
            " [5 6 7 8 9]]\n",
            "array3:\n",
            " [[0 1]\n",
            " [2 3]\n",
            " [4 5]\n",
            " [6 7]\n",
            " [8 9]]\n"
          ]
        }
      ]
    },
    {
      "cell_type": "code",
      "source": [
        "array1.reshape(4,3) #지정된 사이즈로 변경이 불가능할 경우 오류"
      ],
      "metadata": {
        "colab": {
          "base_uri": "https://localhost:8080/",
          "height": 176
        },
        "id": "bPKbie-5lcbO",
        "outputId": "167077a9-d65e-4b86-a828-416a42397d1a"
      },
      "execution_count": 15,
      "outputs": [
        {
          "output_type": "error",
          "ename": "ValueError",
          "evalue": "ignored",
          "traceback": [
            "\u001b[0;31m---------------------------------------------------------------------------\u001b[0m",
            "\u001b[0;31mValueError\u001b[0m                                Traceback (most recent call last)",
            "\u001b[0;32m<ipython-input-15-2aec7c481eb2>\u001b[0m in \u001b[0;36m<module>\u001b[0;34m\u001b[0m\n\u001b[0;32m----> 1\u001b[0;31m \u001b[0marray1\u001b[0m\u001b[0;34m.\u001b[0m\u001b[0mreshape\u001b[0m\u001b[0;34m(\u001b[0m\u001b[0;36m4\u001b[0m\u001b[0;34m,\u001b[0m\u001b[0;36m3\u001b[0m\u001b[0;34m)\u001b[0m \u001b[0;31m#지정된 사이즈로 변경이 불가능할 경우 오류\u001b[0m\u001b[0;34m\u001b[0m\u001b[0;34m\u001b[0m\u001b[0m\n\u001b[0m",
            "\u001b[0;31mValueError\u001b[0m: cannot reshape array of size 10 into shape (4,3)"
          ]
        }
      ]
    },
    {
      "cell_type": "code",
      "source": [
        "#reshape()에서 -1을 인자로 적용할 경우, 원래 ndarray와 호환되는 새로운 shpae로 변환해줌\n",
        "\n",
        "array1=np.arange(10)\n",
        "print(array1)\n",
        "array2=array1.reshape(-1,5)\n",
        "print('array2:\\n',array2)\n",
        "print('array2 shape:', array2.shape)\n",
        "array3=array1.reshape(5,-1)\n",
        "print('array3:\\n', array3)\n",
        "print('array3 shape:', array3.shape)"
      ],
      "metadata": {
        "colab": {
          "base_uri": "https://localhost:8080/"
        },
        "id": "u0RyFc7Plp6q",
        "outputId": "46b59fdb-bef7-442b-9559-1669e90e2179"
      },
      "execution_count": 19,
      "outputs": [
        {
          "output_type": "stream",
          "name": "stdout",
          "text": [
            "[0 1 2 3 4 5 6 7 8 9]\n",
            "array2:\n",
            " [[0 1 2 3 4]\n",
            " [5 6 7 8 9]]\n",
            "array2 shape: (2, 5)\n",
            "array3:\n",
            " [[0 1]\n",
            " [2 3]\n",
            " [4 5]\n",
            " [6 7]\n",
            " [8 9]]\n",
            "array3 shape: (5, 2)\n"
          ]
        }
      ]
    },
    {
      "cell_type": "code",
      "source": [
        "array4=array1.reshape(-1,4) #4가 10의 약수가 아니므로 -1을 사용하더라도 호환될 수 없는 형태"
      ],
      "metadata": {
        "colab": {
          "base_uri": "https://localhost:8080/",
          "height": 176
        },
        "id": "RuZSjR-5mSId",
        "outputId": "9f52f965-98b1-4f21-ff86-9a44b02a91a6"
      },
      "execution_count": 20,
      "outputs": [
        {
          "output_type": "error",
          "ename": "ValueError",
          "evalue": "ignored",
          "traceback": [
            "\u001b[0;31m---------------------------------------------------------------------------\u001b[0m",
            "\u001b[0;31mValueError\u001b[0m                                Traceback (most recent call last)",
            "\u001b[0;32m<ipython-input-20-38824a1c7083>\u001b[0m in \u001b[0;36m<module>\u001b[0;34m\u001b[0m\n\u001b[0;32m----> 1\u001b[0;31m \u001b[0marray4\u001b[0m\u001b[0;34m=\u001b[0m\u001b[0marray1\u001b[0m\u001b[0;34m.\u001b[0m\u001b[0mreshape\u001b[0m\u001b[0;34m(\u001b[0m\u001b[0;34m-\u001b[0m\u001b[0;36m1\u001b[0m\u001b[0;34m,\u001b[0m\u001b[0;36m4\u001b[0m\u001b[0;34m)\u001b[0m \u001b[0;31m#4가 10의 약수가 아니므로 -1을 사용하더라도 호환될 수 없는 형태\u001b[0m\u001b[0;34m\u001b[0m\u001b[0;34m\u001b[0m\u001b[0m\n\u001b[0m",
            "\u001b[0;31mValueError\u001b[0m: cannot reshape array of size 10 into shape (4)"
          ]
        }
      ]
    },
    {
      "cell_type": "code",
      "source": [
        "#reshape(-1,1)을 이용해 2차원 ndarray로 변환하기\n",
        "array1=np.arange(8)\n",
        "array3d=array1.reshape((2,2,2))\n",
        "print('array3d:\\n',array3d.tolist())\n",
        "\n",
        "#3차원 ndarray를 2차원 ndarray로 변환\n",
        "array5=array3d.reshape(-1,1)\n",
        "print('array5:\\n',array5.tolist())\n",
        "print('array5 shape:',array5.shape)\n",
        "\n",
        "#1차원 ndarray를 2차원 ndarray로 변환\n",
        "array6=array1.reshape(-1,1)\n",
        "print('array6:\\n', array6.tolist())\n",
        "print('array6 shape:', array6.shape)"
      ],
      "metadata": {
        "colab": {
          "base_uri": "https://localhost:8080/"
        },
        "id": "Fwa6u7D7mt1K",
        "outputId": "b1679c2b-c2db-441c-f2ad-a8e99a9d5e78"
      },
      "execution_count": 21,
      "outputs": [
        {
          "output_type": "stream",
          "name": "stdout",
          "text": [
            "array3d:\n",
            " [[[0, 1], [2, 3]], [[4, 5], [6, 7]]]\n",
            "array5:\n",
            " [[0], [1], [2], [3], [4], [5], [6], [7]]\n",
            "array5 shape: (8, 1)\n",
            "array6:\n",
            " [[0], [1], [2], [3], [4], [5], [6], [7]]\n",
            "array6 shape: (8, 1)\n"
          ]
        }
      ]
    },
    {
      "cell_type": "markdown",
      "source": [
        "### 넘파이의 ndarray의 데이터 세트 선택하기 - 인덱싱(indexing)\n",
        "\n",
        "1. 특정한 데이터만 추출: 원하는 위치의 인덱스 값을 지정하면 해당 위치의 데이터가 변환\n",
        "2. 슬라이싱(Slicing): 슬라이싱은 연속된 인덱스상의 ndarray를 추출하는 방식 ':'기호 사이에 시작 인덱스와 종료 인덱스를 표시하면 시작 인덱스에서 종료 인덱스-1 위치에 있는 데이터의 ndarray를 반환함\n",
        "3. 팬시 인덱싱(Fancy indexing): 일정한 인덱싱 집합을 리스트 또는 ndarray형태로 지정해 해당 위치에 있는 데이터의 ndarray를 반환\n",
        "4. 불린 인덱싱(Boolean indexing): 특정 조건에 해당하는지 여부인 True/False 값 인덱싱 집합을 기반으로 True에 해당하는 인덱스 위치에 있는 데이터의 ndarray를 반환\n"
      ],
      "metadata": {
        "id": "dGYzI5kEpd_e"
      }
    },
    {
      "cell_type": "markdown",
      "source": [
        "### 단일 값 추출"
      ],
      "metadata": {
        "id": "IgRKgh9uqS64"
      }
    },
    {
      "cell_type": "code",
      "source": [
        "#1부터 9까지의 1차원 ndarray 생성\n",
        "array1=np.arange(start=1, stop=10)\n",
        "print('array1:',array1)\n",
        "\n",
        "#index는 0부터 시작하므로 array1[2]는 3번째 index 위치의 데이터값을 의미\n",
        "value=array1[2]\n",
        "print('value: ', value)\n",
        "print(type(value))"
      ],
      "metadata": {
        "colab": {
          "base_uri": "https://localhost:8080/"
        },
        "id": "OlVaPJw9n2Fe",
        "outputId": "27bbf897-da41-41d9-f5a9-4ce0bf684dfa"
      },
      "execution_count": 22,
      "outputs": [
        {
          "output_type": "stream",
          "name": "stdout",
          "text": [
            "array1: [1 2 3 4 5 6 7 8 9]\n",
            "value:  3\n",
            "<class 'numpy.int64'>\n"
          ]
        }
      ]
    },
    {
      "cell_type": "code",
      "source": [
        "#단일 인덱스 이용해 ndarray 내의 데이터값 수정하기\n",
        "array1[0]=9\n",
        "array1[8]=0\n",
        "print('array1:',array1)"
      ],
      "metadata": {
        "colab": {
          "base_uri": "https://localhost:8080/"
        },
        "id": "u04qxRkSqoOu",
        "outputId": "11460075-d35d-46dc-c879-0bde5a93b2dc"
      },
      "execution_count": 23,
      "outputs": [
        {
          "output_type": "stream",
          "name": "stdout",
          "text": [
            "array1: [9 2 3 4 5 6 7 8 0]\n"
          ]
        }
      ]
    },
    {
      "cell_type": "code",
      "source": [
        "#다차원 ndarray에서 단일값 추출\n",
        "array1d=np.arange(start=1, stop=10)\n",
        "array2d=array1d.reshape(3,3)\n",
        "print(array2d)\n",
        "\n",
        "print('(row=0, col=0) index 가리키는 값:', array2d[0,0])\n",
        "print('(row=0, col=1) index 가리키는 값:', array2d[0,1])\n",
        "print('(row=1, col=0) index 가리키는 값:', array2d[1,0])\n",
        "print('(row=2, col=2) index 가리키는 값:', array2d[2,2])\n",
        "# [row=0, col=1] == [axis0=0, axis1=1]\n",
        "# axis0 = row, axis1 = col "
      ],
      "metadata": {
        "colab": {
          "base_uri": "https://localhost:8080/"
        },
        "id": "vl4RPvD6rAjt",
        "outputId": "4587f611-fa58-48fb-f586-11abb83c887c"
      },
      "execution_count": 25,
      "outputs": [
        {
          "output_type": "stream",
          "name": "stdout",
          "text": [
            "[[1 2 3]\n",
            " [4 5 6]\n",
            " [7 8 9]]\n",
            "(row=0, col=0) index 가리키는 값: 1\n",
            "(row=0, col=1) index 가리키는 값: 2\n",
            "(row=1, col=0) index 가리키는 값: 4\n",
            "(row=2, col=2) index 가리키는 값: 9\n"
          ]
        }
      ]
    },
    {
      "cell_type": "markdown",
      "source": [
        "### 슬라이싱\n",
        "\n",
        "- ':' 기호를 이용해 연속한 데이터를 슬라이싱해서 추출\n",
        "- 단일 데이터값 추출을 제외하고 슬라이싱, 팬시 인덱싱, 불린 인덱싱으로 추출된 데이터 세트는 모두 ndarray 타입"
      ],
      "metadata": {
        "id": "F4nuFFzPsOl2"
      }
    },
    {
      "cell_type": "code",
      "source": [
        "array1= np.arange(start=1, stop=10)\n",
        "array3= array1[0:3]\n",
        "print(array3)\n",
        "print(type(array3))"
      ],
      "metadata": {
        "colab": {
          "base_uri": "https://localhost:8080/"
        },
        "id": "ETA_B24ZrgMt",
        "outputId": "03a185c5-228c-476c-c863-c3a1112889ca"
      },
      "execution_count": 26,
      "outputs": [
        {
          "output_type": "stream",
          "name": "stdout",
          "text": [
            "[1 2 3]\n",
            "<class 'numpy.ndarray'>\n"
          ]
        }
      ]
    },
    {
      "cell_type": "markdown",
      "source": [
        "- ':' 사이의 시작, 종료 인덱스는 생략 가능\n",
        "1. 시작 인덱스를 생략하면 자동으로 맨 처음 인덱스인 0으로 간주\n",
        "2. 종료 인덱스 생략 경우 자동으로 맨 마지막 인덱스로 간주\n",
        "3. 시작/종료 인덱스를 생략하면 자동으로 맨 처음/맨 마지막 인덱스로 간주"
      ],
      "metadata": {
        "id": "tWu13xsGsuvO"
      }
    },
    {
      "cell_type": "code",
      "source": [
        "array1=np.arange(start=1, stop=10)\n",
        "print(array1)\n",
        "\n",
        "array4=array1[:3]\n",
        "print(array4)\n",
        "\n",
        "array5=array1[3:]\n",
        "print(array5)\n",
        "\n",
        "array6=array1[:]\n",
        "print(array6)"
      ],
      "metadata": {
        "colab": {
          "base_uri": "https://localhost:8080/"
        },
        "id": "ETkq7Kjssoyw",
        "outputId": "decf1c07-12d0-4517-9da7-178c378cdbde"
      },
      "execution_count": 27,
      "outputs": [
        {
          "output_type": "stream",
          "name": "stdout",
          "text": [
            "[1 2 3 4 5 6 7 8 9]\n",
            "[1 2 3]\n",
            "[4 5 6 7 8 9]\n",
            "[1 2 3 4 5 6 7 8 9]\n"
          ]
        }
      ]
    },
    {
      "cell_type": "code",
      "source": [
        "#2차원 ndarray에서 슬라이싱으로 데이터에 접근하기\n",
        "array1d=np.arange(start=1, stop=10)\n",
        "array2d=array1d.reshape(3,3)\n",
        "print('array2d:\\n', array2d)\n",
        "\n",
        "print('array 2d[0:2, 0:2]\\n', array2d[0:2, 0:2])\n",
        "print('array 2d[1:3, 0:3]\\n', array2d[1:3, 0:3])\n",
        "print('array 2d[1:3, :]\\n', array2d[1:3, :])\n",
        "print('array 2d[:, :]\\n', array2d[:, :])\n",
        "print('array 2d[:2, 1:]\\n', array2d[:2, 1:])\n",
        "print('array 2d[:2, 0]\\n', array2d[:2, 0]) #****"
      ],
      "metadata": {
        "colab": {
          "base_uri": "https://localhost:8080/"
        },
        "id": "R1fPU7CrtjsG",
        "outputId": "d4e9aa78-aa65-43dc-e117-dda3ea658280"
      },
      "execution_count": 28,
      "outputs": [
        {
          "output_type": "stream",
          "name": "stdout",
          "text": [
            "array2d:\n",
            " [[1 2 3]\n",
            " [4 5 6]\n",
            " [7 8 9]]\n",
            "array 2d[0:2, 0:2]\n",
            " [[1 2]\n",
            " [4 5]]\n",
            "array 2d[1:3, 0:3]\n",
            " [[4 5 6]\n",
            " [7 8 9]]\n",
            "array 2d[1:3, :]\n",
            " [[4 5 6]\n",
            " [7 8 9]]\n",
            "array 2d[:, :]\n",
            " [[1 2 3]\n",
            " [4 5 6]\n",
            " [7 8 9]]\n",
            "array 2d[:2, 1:]\n",
            " [[2 3]\n",
            " [5 6]]\n",
            "array 2d[:2, 0]\n",
            " [1 4]\n"
          ]
        }
      ]
    },
    {
      "cell_type": "code",
      "source": [
        "print(array2d[0])\n",
        "print(array2d[1])\n",
        "print('array2d[0] shape:', array2d[0].shape, 'array2d[1] shape:', array2d[1].shape)"
      ],
      "metadata": {
        "colab": {
          "base_uri": "https://localhost:8080/"
        },
        "id": "D1mrsm-buavk",
        "outputId": "847cac0f-5a7e-4c55-e0e1-7c320d65d7ab"
      },
      "execution_count": 29,
      "outputs": [
        {
          "output_type": "stream",
          "name": "stdout",
          "text": [
            "[1 2 3]\n",
            "[4 5 6]\n",
            "array2d[0] shape: (3,) array2d[1] shape: (3,)\n"
          ]
        }
      ]
    },
    {
      "cell_type": "markdown",
      "source": [
        "### 팬시 인덱싱\n",
        "- 리스트나 ndarray로 인덱스 집합을 지정하면 해당 위치의 인덱스에 해당하는 ndarray를 반환"
      ],
      "metadata": {
        "id": "RP3HhAgDvMco"
      }
    },
    {
      "cell_type": "code",
      "source": [
        "#2차원 ndarray의 팬시 인덱싱\n",
        "array1d=np.arange(start=1, stop=10)\n",
        "array2d=array1d.reshape(3,3)\n",
        "\n",
        "array3=array2d[[0,1],2]\n",
        "print('array2d[[0,1],2] => ', array3.tolist())\n",
        "\n",
        "array4=array2d[[0,1],0:2]\n",
        "print('array2d[[0,1],0:2] => ', array4.tolist())\n",
        "\n",
        "array5=array2d[[0,1]]\n",
        "print('array2d[[0,1]] => ', array5.tolist())"
      ],
      "metadata": {
        "colab": {
          "base_uri": "https://localhost:8080/"
        },
        "id": "lGsad4bgvDp0",
        "outputId": "808ecd6b-18a3-46a1-d86e-11e9e76b015e"
      },
      "execution_count": 30,
      "outputs": [
        {
          "output_type": "stream",
          "name": "stdout",
          "text": [
            "array2d[[0,1],2] =>  [3, 6]\n",
            "array2d[[0,1],0:2] =>  [[1, 2], [4, 5]]\n",
            "array2d[[0,1]] =>  [[1, 2, 3], [4, 5, 6]]\n"
          ]
        }
      ]
    },
    {
      "cell_type": "markdown",
      "source": [
        "### 불린 인덱싱\n",
        "- 조건 필터링과 검색을 동시에 할 수 있기 때문에 자주 사용되는 인덱싱 방식\n"
      ],
      "metadata": {
        "id": "DLDgt834w3IX"
      }
    },
    {
      "cell_type": "code",
      "source": [
        "array1d=np.arange(start=1, stop=10)\n",
        "#[] 안에 array1d>5 Boolean indexing을 적용\n",
        "array3=array1d[array1d>5]\n",
        "print('array1d > 5 Boolean Indexing 결과 값: ', array3)"
      ],
      "metadata": {
        "colab": {
          "base_uri": "https://localhost:8080/"
        },
        "id": "yti-MG9Uw2ue",
        "outputId": "c61fb085-c445-4f46-81ab-28f5cdc3d70a"
      },
      "execution_count": 32,
      "outputs": [
        {
          "output_type": "stream",
          "name": "stdout",
          "text": [
            "array1d > 5 Boolean Indexing 결과 값:  [6 7 8 9]\n"
          ]
        }
      ]
    },
    {
      "cell_type": "code",
      "source": [
        "#넘파이 ndarray 객체에 조건식 할당하는 경우\n",
        "array1d>5 #5보다 큰 경우는 True, 그렇지 않으면 False값 반환환"
      ],
      "metadata": {
        "colab": {
          "base_uri": "https://localhost:8080/"
        },
        "id": "MyesO4rTwCeA",
        "outputId": "cad8ef02-cc95-48c1-8922-07db166492c4"
      },
      "execution_count": 33,
      "outputs": [
        {
          "output_type": "execute_result",
          "data": {
            "text/plain": [
              "array([False, False, False, False, False,  True,  True,  True,  True])"
            ]
          },
          "metadata": {},
          "execution_count": 33
        }
      ]
    },
    {
      "cell_type": "code",
      "source": [
        "#array[]내에 인덱스로 입력하면 동일한 데이터 세트가 반환됨\n",
        "boolean_indexes=np.array([False, False, False, False, False,  True,  True,  True,  True])\n",
        "array3=array1d[boolean_indexes]     #array1d[array1d>5]와 같은 결과\n",
        "print('불린 인덱스로 필터링 결과:',array3) "
      ],
      "metadata": {
        "colab": {
          "base_uri": "https://localhost:8080/"
        },
        "id": "Ilexa8uCxpj3",
        "outputId": "508e3cb8-e30e-4ed5-c323-040d6aae2a1a"
      },
      "execution_count": 34,
      "outputs": [
        {
          "output_type": "stream",
          "name": "stdout",
          "text": [
            "불린 인덱스로 필터링 결과: [6 7 8 9]\n"
          ]
        }
      ]
    },
    {
      "cell_type": "markdown",
      "source": [
        "## 행렬의 정렬 - sort()와 argsort()\n",
        "\n",
        "###행렬 정렬\n",
        "- np.sort(): 원행렬은 그대로 유지한 채 원형렬의 정렬된 행렬 반환\n",
        "- ndarray.sort(): 원행렬 자체를 정렬한 형태로 변환, 값은 None"
      ],
      "metadata": {
        "id": "pkvf5_GLyNl1"
      }
    },
    {
      "cell_type": "code",
      "source": [
        "org_array=np.array([3,1,9,5])\n",
        "print('원본 행렬:', org_array)\n",
        "\n",
        "#np.sort()로 정렬: 원본 행렬 변경x\n",
        "sort_array1=np.sort(org_array)\n",
        "print('np.sort() 호출 후 반환된 정렬 행렬:', sort_array1)\n",
        "print('np.sort() 호출 후 원본 정렬 행렬:', org_array)\n",
        "\n",
        "#ndarray.sort()로 정렬: 원본 행렬 자체를 정렬한 값으로 변환환\n",
        "sort_array2=org_array.sort()\n",
        "print('org_array.sort() 호출 후 반환된 행렬:', sort_array2)\n",
        "print('org_array.sort() 호출 후 원본 행렬:', org_array)"
      ],
      "metadata": {
        "colab": {
          "base_uri": "https://localhost:8080/"
        },
        "id": "WHW7VTJzyDmx",
        "outputId": "6636350c-b411-4f70-9a4e-6e5cb54541e0"
      },
      "execution_count": 36,
      "outputs": [
        {
          "output_type": "stream",
          "name": "stdout",
          "text": [
            "원본 행렬: [3 1 9 5]\n",
            "np.sort() 호출 후 반환된 정렬 행렬: [1 3 5 9]\n",
            "np.sort() 호출 후 원본 정렬 행렬: [3 1 9 5]\n",
            "org_array.sort() 호출 후 반환된 행렬: None\n",
            "org_array.sort() 호출 후 원본 행렬: [1 3 5 9]\n"
          ]
        }
      ]
    },
    {
      "cell_type": "code",
      "source": [
        "#내림차순 정렬 시 [::-1] 적용\n",
        "sort_array1_desc=np.sort(org_array)[::-1]\n",
        "print('내림차순으로 정렬:',sort_array1_desc)"
      ],
      "metadata": {
        "colab": {
          "base_uri": "https://localhost:8080/"
        },
        "id": "BdBfE6p5ytHn",
        "outputId": "18afca12-2bf2-49bf-ab58-5f66264e9abf"
      },
      "execution_count": 37,
      "outputs": [
        {
          "output_type": "stream",
          "name": "stdout",
          "text": [
            "내림차순으로 정렬: [9 5 3 1]\n"
          ]
        }
      ]
    },
    {
      "cell_type": "code",
      "source": [
        "#행렬이 2차원 이상일 경우 axis축 값 설정을 통해 row, col 방향으로 정렬 수행 가능\n",
        "array2d=np.array([[8,10],\n",
        "                  [7,1]])\n",
        "\n",
        "sort_array2d_axis0=np.sort(array2d, axis=0)\n",
        "print('row 방향으로 정렬:\\n',sort_array2d_axis0)\n",
        "\n",
        "sort_array2d_axis1=np.sort(array2d, axis=1)\n",
        "print('col 방향으로 정렬:\\n',sort_array2d_axis1)"
      ],
      "metadata": {
        "colab": {
          "base_uri": "https://localhost:8080/"
        },
        "id": "qI6uxVYI1kcF",
        "outputId": "ca063108-534a-4d8e-963b-c7062b30e27a"
      },
      "execution_count": 39,
      "outputs": [
        {
          "output_type": "stream",
          "name": "stdout",
          "text": [
            "row 방향으로 정렬:\n",
            " [[ 7  1]\n",
            " [ 8 10]]\n",
            "col 방향으로 정렬:\n",
            " [[ 8 10]\n",
            " [ 1  7]]\n"
          ]
        }
      ]
    },
    {
      "cell_type": "markdown",
      "source": [
        "### 정렬된 행렬의 인덱스 반환하기\n",
        "- np.argsort(): 정렬 행렬의 원본 행렬 인덱스를 ndarray형으로 변환함"
      ],
      "metadata": {
        "id": "jq-DrR2k2IYA"
      }
    },
    {
      "cell_type": "code",
      "source": [
        "org_array=np.array([3,1,9,5])\n",
        "sort_indices=np.argsort(org_array)\n",
        "print(type(sort_indices))\n",
        "print('행렬 정렬시 원본 행렬의 인덱스:', sort_indices)"
      ],
      "metadata": {
        "colab": {
          "base_uri": "https://localhost:8080/"
        },
        "id": "d06Hpsob1sUK",
        "outputId": "edf3c19b-2499-48ea-931c-34bbb207a482"
      },
      "execution_count": 40,
      "outputs": [
        {
          "output_type": "stream",
          "name": "stdout",
          "text": [
            "<class 'numpy.ndarray'>\n",
            "행렬 정렬시 원본 행렬의 인덱스: [1 0 3 2]\n"
          ]
        }
      ]
    },
    {
      "cell_type": "code",
      "source": [
        "# 내림차순 정렬 시의 원본 행렬 인덱스 구하기: np.argsort()[::-1] 사용\n",
        "org_array=np.array([3,1,9,5])\n",
        "sort_indices_desc=np.argsort(org_array)[::-1]\n",
        "print('행렬 내림차순 정렬 시 원본 행렬의 인덱스:', sort_indices_desc)"
      ],
      "metadata": {
        "colab": {
          "base_uri": "https://localhost:8080/"
        },
        "id": "adO3wXJw2dXu",
        "outputId": "efa94201-64ab-4f0f-f58c-09b45fb5280b"
      },
      "execution_count": 41,
      "outputs": [
        {
          "output_type": "stream",
          "name": "stdout",
          "text": [
            "행렬 내림차순 정렬 시 원본 행렬의 인덱스: [2 3 0 1]\n"
          ]
        }
      ]
    },
    {
      "cell_type": "code",
      "source": [
        "import numpy as np\n",
        "name_array=np.array(['John','Mike','Sarah','Kate','Samuel'])\n",
        "score_array=np.array([78,95,84,98,88])\n",
        "\n",
        "sort_indices_asc = np.argsort(score_array)\n",
        "print('성적 오름차순 정렬 시 score_array의 인덱스:', sort_indices_asc)\n",
        "print('성적 오름차순으로 name_array의 이름 출력:', name_array[sort_indices_asc])"
      ],
      "metadata": {
        "colab": {
          "base_uri": "https://localhost:8080/"
        },
        "id": "xwGVRMEm24KC",
        "outputId": "46b7937e-18ae-4e6b-d369-1bdd0fd2d92b"
      },
      "execution_count": 48,
      "outputs": [
        {
          "output_type": "stream",
          "name": "stdout",
          "text": [
            "성적 오름차순 정렬 시 score_array의 인덱스: [0 2 4 1 3]\n",
            "성적 오름차순으로 name_array의 이름 출력: ['John' 'Sarah' 'Samuel' 'Mike' 'Kate']\n"
          ]
        }
      ]
    },
    {
      "cell_type": "markdown",
      "source": [
        "## 선형대수 연산 - 행렬 내적과 전치 행렬 구하기\n",
        "\n",
        "### 행렬 내적(행렬 곱)\n",
        "- np.dot()이용"
      ],
      "metadata": {
        "id": "Tf-Qvrh94QQn"
      }
    },
    {
      "cell_type": "code",
      "source": [
        "A=np.array([[1,2,3],\n",
        "            [4,5,6]])\n",
        "B=np.array([[7,8],\n",
        "            [9,10],\n",
        "            [11,12]])\n",
        "dot_product=np.dot(A,B)\n",
        "print('행렬 내적 결과:\\n', dot_product)"
      ],
      "metadata": {
        "colab": {
          "base_uri": "https://localhost:8080/"
        },
        "id": "A4luOZBv3al8",
        "outputId": "930be23e-3881-4e5d-a3fd-516ede05c1a2"
      },
      "execution_count": 50,
      "outputs": [
        {
          "output_type": "stream",
          "name": "stdout",
          "text": [
            "행렬 내적 결과:\n",
            " [[ 58  64]\n",
            " [139 154]]\n"
          ]
        }
      ]
    },
    {
      "cell_type": "markdown",
      "source": [
        "## 전치 행렬\n",
        "- 원 행렬에서 행과 열 위치를 교환한 원소로 구성한 행렬\n",
        "- transpose() 이용"
      ],
      "metadata": {
        "id": "Qc-4KKV04tgO"
      }
    },
    {
      "cell_type": "code",
      "source": [
        "A=np.array([[1,2],\n",
        "            [3,4]])\n",
        "transpose_mat=np.transpose(A)\n",
        "print('A의 전치 행렬:\\n', transpose_mat)"
      ],
      "metadata": {
        "colab": {
          "base_uri": "https://localhost:8080/"
        },
        "id": "1iQaC7OO4lba",
        "outputId": "7a7fc115-5252-4697-e421-19011179e6df"
      },
      "execution_count": 51,
      "outputs": [
        {
          "output_type": "stream",
          "name": "stdout",
          "text": [
            "A의 전치 행렬:\n",
            " [[1 3]\n",
            " [2 4]]\n"
          ]
        }
      ]
    }
  ]
}
