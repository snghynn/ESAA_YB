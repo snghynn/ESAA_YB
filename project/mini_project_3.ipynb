{
  "cells": [
    {
      "cell_type": "markdown",
      "metadata": {
        "id": "view-in-github",
        "colab_type": "text"
      },
      "source": [
        "<a href=\"https://colab.research.google.com/github/snghynn/ESAA-YB/blob/main/mini_project_3.ipynb\" target=\"_parent\"><img src=\"https://colab.research.google.com/assets/colab-badge.svg\" alt=\"Open In Colab\"/></a>"
      ]
    },
    {
      "cell_type": "code",
      "execution_count": null,
      "id": "e4262f05",
      "metadata": {
        "id": "e4262f05"
      },
      "outputs": [],
      "source": [
        "import pandas as pd\n",
        "import numpy as np\n",
        "import seaborn as sns\n",
        "import matplotlib.pyplot as plt\n",
        "plt.rc('font', family='NanumBarunGothic') #matplotlib 한글 깨짐 방지\n",
        "\n",
        "import warnings\n",
        "warnings.filterwarnings(action='ignore')"
      ]
    },
    {
      "cell_type": "code",
      "execution_count": null,
      "id": "8963ce0d",
      "metadata": {
        "id": "8963ce0d"
      },
      "outputs": [],
      "source": [
        "# 데이터 불러오기\n",
        "train = pd.read_csv(\"movies_train.csv\")\n",
        "test = pd.read_csv(\"movies_test.csv\")\n",
        "submission = pd.read_csv(\"submission.csv\") # 제출용 파일"
      ]
    },
    {
      "cell_type": "code",
      "execution_count": null,
      "id": "342135c7",
      "metadata": {
        "id": "342135c7",
        "outputId": "439fce60-6448-4147-c190-9d9f134a0f8d"
      },
      "outputs": [
        {
          "data": {
            "text/html": [
              "<div>\n",
              "<style scoped>\n",
              "    .dataframe tbody tr th:only-of-type {\n",
              "        vertical-align: middle;\n",
              "    }\n",
              "\n",
              "    .dataframe tbody tr th {\n",
              "        vertical-align: top;\n",
              "    }\n",
              "\n",
              "    .dataframe thead th {\n",
              "        text-align: right;\n",
              "    }\n",
              "</style>\n",
              "<table border=\"1\" class=\"dataframe\">\n",
              "  <thead>\n",
              "    <tr style=\"text-align: right;\">\n",
              "      <th></th>\n",
              "      <th>title</th>\n",
              "      <th>distributor</th>\n",
              "      <th>genre</th>\n",
              "      <th>release_time</th>\n",
              "      <th>time</th>\n",
              "      <th>screening_rat</th>\n",
              "      <th>director</th>\n",
              "      <th>dir_prev_bfnum</th>\n",
              "      <th>dir_prev_num</th>\n",
              "      <th>num_staff</th>\n",
              "      <th>num_actor</th>\n",
              "      <th>box_off_num</th>\n",
              "    </tr>\n",
              "  </thead>\n",
              "  <tbody>\n",
              "    <tr>\n",
              "      <th>0</th>\n",
              "      <td>개들의 전쟁</td>\n",
              "      <td>롯데엔터테인먼트</td>\n",
              "      <td>액션</td>\n",
              "      <td>2012-11-22</td>\n",
              "      <td>96</td>\n",
              "      <td>청소년 관람불가</td>\n",
              "      <td>조병옥</td>\n",
              "      <td>NaN</td>\n",
              "      <td>0</td>\n",
              "      <td>91</td>\n",
              "      <td>2</td>\n",
              "      <td>23398</td>\n",
              "    </tr>\n",
              "    <tr>\n",
              "      <th>1</th>\n",
              "      <td>내부자들</td>\n",
              "      <td>(주)쇼박스</td>\n",
              "      <td>느와르</td>\n",
              "      <td>2015-11-19</td>\n",
              "      <td>130</td>\n",
              "      <td>청소년 관람불가</td>\n",
              "      <td>우민호</td>\n",
              "      <td>1161602.50</td>\n",
              "      <td>2</td>\n",
              "      <td>387</td>\n",
              "      <td>3</td>\n",
              "      <td>7072501</td>\n",
              "    </tr>\n",
              "    <tr>\n",
              "      <th>2</th>\n",
              "      <td>은밀하게 위대하게</td>\n",
              "      <td>(주)쇼박스</td>\n",
              "      <td>액션</td>\n",
              "      <td>2013-06-05</td>\n",
              "      <td>123</td>\n",
              "      <td>15세 관람가</td>\n",
              "      <td>장철수</td>\n",
              "      <td>220775.25</td>\n",
              "      <td>4</td>\n",
              "      <td>343</td>\n",
              "      <td>4</td>\n",
              "      <td>6959083</td>\n",
              "    </tr>\n",
              "    <tr>\n",
              "      <th>3</th>\n",
              "      <td>나는 공무원이다</td>\n",
              "      <td>(주)NEW</td>\n",
              "      <td>코미디</td>\n",
              "      <td>2012-07-12</td>\n",
              "      <td>101</td>\n",
              "      <td>전체 관람가</td>\n",
              "      <td>구자홍</td>\n",
              "      <td>23894.00</td>\n",
              "      <td>2</td>\n",
              "      <td>20</td>\n",
              "      <td>6</td>\n",
              "      <td>217866</td>\n",
              "    </tr>\n",
              "    <tr>\n",
              "      <th>4</th>\n",
              "      <td>불량남녀</td>\n",
              "      <td>쇼박스(주)미디어플렉스</td>\n",
              "      <td>코미디</td>\n",
              "      <td>2010-11-04</td>\n",
              "      <td>108</td>\n",
              "      <td>15세 관람가</td>\n",
              "      <td>신근호</td>\n",
              "      <td>1.00</td>\n",
              "      <td>1</td>\n",
              "      <td>251</td>\n",
              "      <td>2</td>\n",
              "      <td>483387</td>\n",
              "    </tr>\n",
              "  </tbody>\n",
              "</table>\n",
              "</div>"
            ],
            "text/plain": [
              "       title   distributor genre release_time  time screening_rat director  \\\n",
              "0     개들의 전쟁      롯데엔터테인먼트    액션   2012-11-22    96      청소년 관람불가      조병옥   \n",
              "1       내부자들        (주)쇼박스   느와르   2015-11-19   130      청소년 관람불가      우민호   \n",
              "2  은밀하게 위대하게        (주)쇼박스    액션   2013-06-05   123       15세 관람가      장철수   \n",
              "3   나는 공무원이다        (주)NEW   코미디   2012-07-12   101        전체 관람가      구자홍   \n",
              "4       불량남녀  쇼박스(주)미디어플렉스   코미디   2010-11-04   108       15세 관람가      신근호   \n",
              "\n",
              "   dir_prev_bfnum  dir_prev_num  num_staff  num_actor  box_off_num  \n",
              "0             NaN             0         91          2        23398  \n",
              "1      1161602.50             2        387          3      7072501  \n",
              "2       220775.25             4        343          4      6959083  \n",
              "3        23894.00             2         20          6       217866  \n",
              "4            1.00             1        251          2       483387  "
            ]
          },
          "execution_count": 4,
          "metadata": {},
          "output_type": "execute_result"
        }
      ],
      "source": [
        "train.head()"
      ]
    },
    {
      "cell_type": "code",
      "execution_count": null,
      "id": "45bace59",
      "metadata": {
        "id": "45bace59",
        "outputId": "3d97dca4-8ee6-4abb-ada6-b87c55b8e4f5"
      },
      "outputs": [
        {
          "data": {
            "text/html": [
              "<div>\n",
              "<style scoped>\n",
              "    .dataframe tbody tr th:only-of-type {\n",
              "        vertical-align: middle;\n",
              "    }\n",
              "\n",
              "    .dataframe tbody tr th {\n",
              "        vertical-align: top;\n",
              "    }\n",
              "\n",
              "    .dataframe thead th {\n",
              "        text-align: right;\n",
              "    }\n",
              "</style>\n",
              "<table border=\"1\" class=\"dataframe\">\n",
              "  <thead>\n",
              "    <tr style=\"text-align: right;\">\n",
              "      <th></th>\n",
              "      <th>title</th>\n",
              "      <th>distributor</th>\n",
              "      <th>genre</th>\n",
              "      <th>release_time</th>\n",
              "      <th>time</th>\n",
              "      <th>screening_rat</th>\n",
              "      <th>director</th>\n",
              "      <th>dir_prev_bfnum</th>\n",
              "      <th>dir_prev_num</th>\n",
              "      <th>num_staff</th>\n",
              "      <th>num_actor</th>\n",
              "    </tr>\n",
              "  </thead>\n",
              "  <tbody>\n",
              "    <tr>\n",
              "      <th>0</th>\n",
              "      <td>용서는 없다</td>\n",
              "      <td>시네마서비스</td>\n",
              "      <td>느와르</td>\n",
              "      <td>2010-01-07</td>\n",
              "      <td>125</td>\n",
              "      <td>청소년 관람불가</td>\n",
              "      <td>김형준</td>\n",
              "      <td>3.005290e+05</td>\n",
              "      <td>2</td>\n",
              "      <td>304</td>\n",
              "      <td>3</td>\n",
              "    </tr>\n",
              "    <tr>\n",
              "      <th>1</th>\n",
              "      <td>아빠가 여자를 좋아해</td>\n",
              "      <td>(주)쇼박스</td>\n",
              "      <td>멜로/로맨스</td>\n",
              "      <td>2010-01-14</td>\n",
              "      <td>113</td>\n",
              "      <td>12세 관람가</td>\n",
              "      <td>이광재</td>\n",
              "      <td>3.427002e+05</td>\n",
              "      <td>4</td>\n",
              "      <td>275</td>\n",
              "      <td>3</td>\n",
              "    </tr>\n",
              "    <tr>\n",
              "      <th>2</th>\n",
              "      <td>하모니</td>\n",
              "      <td>CJ 엔터테인먼트</td>\n",
              "      <td>드라마</td>\n",
              "      <td>2010-01-28</td>\n",
              "      <td>115</td>\n",
              "      <td>12세 관람가</td>\n",
              "      <td>강대규</td>\n",
              "      <td>4.206611e+06</td>\n",
              "      <td>3</td>\n",
              "      <td>419</td>\n",
              "      <td>7</td>\n",
              "    </tr>\n",
              "    <tr>\n",
              "      <th>3</th>\n",
              "      <td>의형제</td>\n",
              "      <td>(주)쇼박스</td>\n",
              "      <td>액션</td>\n",
              "      <td>2010-02-04</td>\n",
              "      <td>116</td>\n",
              "      <td>15세 관람가</td>\n",
              "      <td>장훈</td>\n",
              "      <td>6.913420e+05</td>\n",
              "      <td>2</td>\n",
              "      <td>408</td>\n",
              "      <td>2</td>\n",
              "    </tr>\n",
              "    <tr>\n",
              "      <th>4</th>\n",
              "      <td>평행 이론</td>\n",
              "      <td>CJ 엔터테인먼트</td>\n",
              "      <td>공포</td>\n",
              "      <td>2010-02-18</td>\n",
              "      <td>110</td>\n",
              "      <td>15세 관람가</td>\n",
              "      <td>권호영</td>\n",
              "      <td>3.173800e+04</td>\n",
              "      <td>1</td>\n",
              "      <td>380</td>\n",
              "      <td>1</td>\n",
              "    </tr>\n",
              "  </tbody>\n",
              "</table>\n",
              "</div>"
            ],
            "text/plain": [
              "         title distributor   genre release_time  time screening_rat director  \\\n",
              "0       용서는 없다      시네마서비스     느와르   2010-01-07   125      청소년 관람불가      김형준   \n",
              "1  아빠가 여자를 좋아해      (주)쇼박스  멜로/로맨스   2010-01-14   113       12세 관람가      이광재   \n",
              "2          하모니   CJ 엔터테인먼트     드라마   2010-01-28   115       12세 관람가      강대규   \n",
              "3          의형제      (주)쇼박스      액션   2010-02-04   116       15세 관람가       장훈   \n",
              "4        평행 이론   CJ 엔터테인먼트      공포   2010-02-18   110       15세 관람가      권호영   \n",
              "\n",
              "   dir_prev_bfnum  dir_prev_num  num_staff  num_actor  \n",
              "0    3.005290e+05             2        304          3  \n",
              "1    3.427002e+05             4        275          3  \n",
              "2    4.206611e+06             3        419          7  \n",
              "3    6.913420e+05             2        408          2  \n",
              "4    3.173800e+04             1        380          1  "
            ]
          },
          "execution_count": 5,
          "metadata": {},
          "output_type": "execute_result"
        }
      ],
      "source": [
        "test.head()"
      ]
    },
    {
      "cell_type": "code",
      "execution_count": null,
      "id": "2f443b63",
      "metadata": {
        "id": "2f443b63",
        "outputId": "8d0fabf2-567d-4118-82a6-11663e0f34db"
      },
      "outputs": [
        {
          "data": {
            "text/html": [
              "<div>\n",
              "<style scoped>\n",
              "    .dataframe tbody tr th:only-of-type {\n",
              "        vertical-align: middle;\n",
              "    }\n",
              "\n",
              "    .dataframe tbody tr th {\n",
              "        vertical-align: top;\n",
              "    }\n",
              "\n",
              "    .dataframe thead th {\n",
              "        text-align: right;\n",
              "    }\n",
              "</style>\n",
              "<table border=\"1\" class=\"dataframe\">\n",
              "  <thead>\n",
              "    <tr style=\"text-align: right;\">\n",
              "      <th></th>\n",
              "      <th>title</th>\n",
              "      <th>box_off_num</th>\n",
              "    </tr>\n",
              "  </thead>\n",
              "  <tbody>\n",
              "    <tr>\n",
              "      <th>0</th>\n",
              "      <td>용서는 없다</td>\n",
              "      <td>0</td>\n",
              "    </tr>\n",
              "    <tr>\n",
              "      <th>1</th>\n",
              "      <td>아빠가 여자를 좋아해</td>\n",
              "      <td>0</td>\n",
              "    </tr>\n",
              "    <tr>\n",
              "      <th>2</th>\n",
              "      <td>하모니</td>\n",
              "      <td>0</td>\n",
              "    </tr>\n",
              "    <tr>\n",
              "      <th>3</th>\n",
              "      <td>의형제</td>\n",
              "      <td>0</td>\n",
              "    </tr>\n",
              "    <tr>\n",
              "      <th>4</th>\n",
              "      <td>평행 이론</td>\n",
              "      <td>0</td>\n",
              "    </tr>\n",
              "  </tbody>\n",
              "</table>\n",
              "</div>"
            ],
            "text/plain": [
              "         title  box_off_num\n",
              "0       용서는 없다            0\n",
              "1  아빠가 여자를 좋아해            0\n",
              "2          하모니            0\n",
              "3          의형제            0\n",
              "4        평행 이론            0"
            ]
          },
          "execution_count": 6,
          "metadata": {},
          "output_type": "execute_result"
        }
      ],
      "source": [
        "submission.head()"
      ]
    },
    {
      "cell_type": "code",
      "execution_count": null,
      "id": "63f78935",
      "metadata": {
        "id": "63f78935",
        "outputId": "489deb4c-2880-47c1-cb88-cbbdaf9490ad"
      },
      "outputs": [
        {
          "name": "stdout",
          "output_type": "stream",
          "text": [
            "<class 'pandas.core.frame.DataFrame'>\n",
            "RangeIndex: 600 entries, 0 to 599\n",
            "Data columns (total 12 columns):\n",
            " #   Column          Non-Null Count  Dtype  \n",
            "---  ------          --------------  -----  \n",
            " 0   title           600 non-null    object \n",
            " 1   distributor     600 non-null    object \n",
            " 2   genre           600 non-null    object \n",
            " 3   release_time    600 non-null    object \n",
            " 4   time            600 non-null    int64  \n",
            " 5   screening_rat   600 non-null    object \n",
            " 6   director        600 non-null    object \n",
            " 7   dir_prev_bfnum  270 non-null    float64\n",
            " 8   dir_prev_num    600 non-null    int64  \n",
            " 9   num_staff       600 non-null    int64  \n",
            " 10  num_actor       600 non-null    int64  \n",
            " 11  box_off_num     600 non-null    int64  \n",
            "dtypes: float64(1), int64(5), object(6)\n",
            "memory usage: 56.4+ KB\n"
          ]
        }
      ],
      "source": [
        "train.info()"
      ]
    },
    {
      "cell_type": "code",
      "execution_count": null,
      "id": "4c805f26",
      "metadata": {
        "id": "4c805f26",
        "outputId": "2b5232b1-4a7a-4def-9b92-a2bba68f433d"
      },
      "outputs": [
        {
          "name": "stdout",
          "output_type": "stream",
          "text": [
            "(600, 12)\n",
            "(243, 11)\n",
            "(243, 2)\n"
          ]
        }
      ],
      "source": [
        "print(train.shape)\n",
        "print(test.shape)\n",
        "print(submission.shape)"
      ]
    },
    {
      "cell_type": "code",
      "execution_count": null,
      "id": "5f26b70a",
      "metadata": {
        "id": "5f26b70a"
      },
      "outputs": [],
      "source": [
        "pd.options.display.float_format = '{:.1f}'.format # 소숫점 자리수 출력값 format 설정"
      ]
    },
    {
      "cell_type": "code",
      "execution_count": null,
      "id": "8e934323",
      "metadata": {
        "id": "8e934323",
        "outputId": "dc3b2ef9-85a1-4927-f3aa-1b99cf25624b"
      },
      "outputs": [
        {
          "data": {
            "text/html": [
              "<div>\n",
              "<style scoped>\n",
              "    .dataframe tbody tr th:only-of-type {\n",
              "        vertical-align: middle;\n",
              "    }\n",
              "\n",
              "    .dataframe tbody tr th {\n",
              "        vertical-align: top;\n",
              "    }\n",
              "\n",
              "    .dataframe thead th {\n",
              "        text-align: right;\n",
              "    }\n",
              "</style>\n",
              "<table border=\"1\" class=\"dataframe\">\n",
              "  <thead>\n",
              "    <tr style=\"text-align: right;\">\n",
              "      <th></th>\n",
              "      <th>time</th>\n",
              "      <th>dir_prev_bfnum</th>\n",
              "      <th>dir_prev_num</th>\n",
              "      <th>num_staff</th>\n",
              "      <th>num_actor</th>\n",
              "      <th>box_off_num</th>\n",
              "    </tr>\n",
              "  </thead>\n",
              "  <tbody>\n",
              "    <tr>\n",
              "      <th>count</th>\n",
              "      <td>600.0</td>\n",
              "      <td>270.0</td>\n",
              "      <td>600.0</td>\n",
              "      <td>600.0</td>\n",
              "      <td>600.0</td>\n",
              "      <td>600.0</td>\n",
              "    </tr>\n",
              "    <tr>\n",
              "      <th>mean</th>\n",
              "      <td>100.9</td>\n",
              "      <td>1050442.9</td>\n",
              "      <td>0.9</td>\n",
              "      <td>151.1</td>\n",
              "      <td>3.7</td>\n",
              "      <td>708181.8</td>\n",
              "    </tr>\n",
              "    <tr>\n",
              "      <th>std</th>\n",
              "      <td>18.1</td>\n",
              "      <td>1791408.3</td>\n",
              "      <td>1.2</td>\n",
              "      <td>165.7</td>\n",
              "      <td>2.4</td>\n",
              "      <td>1828005.9</td>\n",
              "    </tr>\n",
              "    <tr>\n",
              "      <th>min</th>\n",
              "      <td>45.0</td>\n",
              "      <td>1.0</td>\n",
              "      <td>0.0</td>\n",
              "      <td>0.0</td>\n",
              "      <td>0.0</td>\n",
              "      <td>1.0</td>\n",
              "    </tr>\n",
              "    <tr>\n",
              "      <th>25%</th>\n",
              "      <td>89.0</td>\n",
              "      <td>20380.0</td>\n",
              "      <td>0.0</td>\n",
              "      <td>17.0</td>\n",
              "      <td>2.0</td>\n",
              "      <td>1297.2</td>\n",
              "    </tr>\n",
              "    <tr>\n",
              "      <th>50%</th>\n",
              "      <td>100.0</td>\n",
              "      <td>478423.6</td>\n",
              "      <td>0.0</td>\n",
              "      <td>82.5</td>\n",
              "      <td>3.0</td>\n",
              "      <td>12591.0</td>\n",
              "    </tr>\n",
              "    <tr>\n",
              "      <th>75%</th>\n",
              "      <td>114.0</td>\n",
              "      <td>1286568.6</td>\n",
              "      <td>2.0</td>\n",
              "      <td>264.0</td>\n",
              "      <td>4.0</td>\n",
              "      <td>479886.8</td>\n",
              "    </tr>\n",
              "    <tr>\n",
              "      <th>max</th>\n",
              "      <td>180.0</td>\n",
              "      <td>17615314.0</td>\n",
              "      <td>5.0</td>\n",
              "      <td>869.0</td>\n",
              "      <td>25.0</td>\n",
              "      <td>14262766.0</td>\n",
              "    </tr>\n",
              "  </tbody>\n",
              "</table>\n",
              "</div>"
            ],
            "text/plain": [
              "       time  dir_prev_bfnum  dir_prev_num  num_staff  num_actor  box_off_num\n",
              "count 600.0           270.0         600.0      600.0      600.0        600.0\n",
              "mean  100.9       1050442.9           0.9      151.1        3.7     708181.8\n",
              "std    18.1       1791408.3           1.2      165.7        2.4    1828005.9\n",
              "min    45.0             1.0           0.0        0.0        0.0          1.0\n",
              "25%    89.0         20380.0           0.0       17.0        2.0       1297.2\n",
              "50%   100.0        478423.6           0.0       82.5        3.0      12591.0\n",
              "75%   114.0       1286568.6           2.0      264.0        4.0     479886.8\n",
              "max   180.0      17615314.0           5.0      869.0       25.0   14262766.0"
            ]
          },
          "execution_count": 10,
          "metadata": {},
          "output_type": "execute_result"
        }
      ],
      "source": [
        "train.describe()"
      ]
    },
    {
      "cell_type": "code",
      "execution_count": null,
      "id": "131b4e15",
      "metadata": {
        "id": "131b4e15",
        "outputId": "c9615179-4f25-4a71-c001-5ddd634bf880"
      },
      "outputs": [
        {
          "data": {
            "text/plain": [
              "title               0\n",
              "distributor         0\n",
              "genre               0\n",
              "release_time        0\n",
              "time                0\n",
              "screening_rat       0\n",
              "director            0\n",
              "dir_prev_bfnum    330\n",
              "dir_prev_num        0\n",
              "num_staff           0\n",
              "num_actor           0\n",
              "box_off_num         0\n",
              "dtype: int64"
            ]
          },
          "execution_count": 11,
          "metadata": {},
          "output_type": "execute_result"
        }
      ],
      "source": [
        "train.isna().sum()"
      ]
    },
    {
      "cell_type": "code",
      "execution_count": null,
      "id": "6b377ef7",
      "metadata": {
        "id": "6b377ef7",
        "outputId": "1719e4be-0dae-4bf2-c735-160f399a95da"
      },
      "outputs": [
        {
          "data": {
            "text/plain": [
              "title               0\n",
              "distributor         0\n",
              "genre               0\n",
              "release_time        0\n",
              "time                0\n",
              "screening_rat       0\n",
              "director            0\n",
              "dir_prev_bfnum    136\n",
              "dir_prev_num        0\n",
              "num_staff           0\n",
              "num_actor           0\n",
              "dtype: int64"
            ]
          },
          "execution_count": 12,
          "metadata": {},
          "output_type": "execute_result"
        }
      ],
      "source": [
        "test.isna().sum()"
      ]
    },
    {
      "cell_type": "code",
      "execution_count": null,
      "id": "01867664",
      "metadata": {
        "id": "01867664",
        "outputId": "88be61c7-a1ec-42cc-f28f-4cb1d33b6c58"
      },
      "outputs": [
        {
          "data": {
            "text/html": [
              "<div>\n",
              "<style scoped>\n",
              "    .dataframe tbody tr th:only-of-type {\n",
              "        vertical-align: middle;\n",
              "    }\n",
              "\n",
              "    .dataframe tbody tr th {\n",
              "        vertical-align: top;\n",
              "    }\n",
              "\n",
              "    .dataframe thead th {\n",
              "        text-align: right;\n",
              "    }\n",
              "</style>\n",
              "<table border=\"1\" class=\"dataframe\">\n",
              "  <thead>\n",
              "    <tr style=\"text-align: right;\">\n",
              "      <th></th>\n",
              "      <th>title</th>\n",
              "      <th>distributor</th>\n",
              "      <th>genre</th>\n",
              "      <th>release_time</th>\n",
              "      <th>time</th>\n",
              "      <th>screening_rat</th>\n",
              "      <th>director</th>\n",
              "      <th>dir_prev_bfnum</th>\n",
              "      <th>dir_prev_num</th>\n",
              "      <th>num_staff</th>\n",
              "      <th>num_actor</th>\n",
              "      <th>box_off_num</th>\n",
              "    </tr>\n",
              "  </thead>\n",
              "  <tbody>\n",
              "    <tr>\n",
              "      <th>0</th>\n",
              "      <td>개들의 전쟁</td>\n",
              "      <td>롯데엔터테인먼트</td>\n",
              "      <td>액션</td>\n",
              "      <td>2012-11-22</td>\n",
              "      <td>96</td>\n",
              "      <td>청소년 관람불가</td>\n",
              "      <td>조병옥</td>\n",
              "      <td>NaN</td>\n",
              "      <td>0</td>\n",
              "      <td>91</td>\n",
              "      <td>2</td>\n",
              "      <td>23398</td>\n",
              "    </tr>\n",
              "    <tr>\n",
              "      <th>6</th>\n",
              "      <td>길위에서</td>\n",
              "      <td>백두대간</td>\n",
              "      <td>다큐멘터리</td>\n",
              "      <td>2013-05-23</td>\n",
              "      <td>104</td>\n",
              "      <td>전체 관람가</td>\n",
              "      <td>이창재</td>\n",
              "      <td>NaN</td>\n",
              "      <td>0</td>\n",
              "      <td>32</td>\n",
              "      <td>5</td>\n",
              "      <td>53526</td>\n",
              "    </tr>\n",
              "    <tr>\n",
              "      <th>8</th>\n",
              "      <td>1789, 바스티유의 연인들</td>\n",
              "      <td>유니버설픽쳐스인터내셔널코리아</td>\n",
              "      <td>뮤지컬</td>\n",
              "      <td>2014-09-18</td>\n",
              "      <td>129</td>\n",
              "      <td>전체 관람가</td>\n",
              "      <td>정성복</td>\n",
              "      <td>NaN</td>\n",
              "      <td>0</td>\n",
              "      <td>3</td>\n",
              "      <td>5</td>\n",
              "      <td>4778</td>\n",
              "    </tr>\n",
              "  </tbody>\n",
              "</table>\n",
              "</div>"
            ],
            "text/plain": [
              "             title      distributor  genre release_time  time screening_rat  \\\n",
              "0           개들의 전쟁         롯데엔터테인먼트     액션   2012-11-22    96      청소년 관람불가   \n",
              "6             길위에서             백두대간  다큐멘터리   2013-05-23   104        전체 관람가   \n",
              "8  1789, 바스티유의 연인들  유니버설픽쳐스인터내셔널코리아    뮤지컬   2014-09-18   129        전체 관람가   \n",
              "\n",
              "  director  dir_prev_bfnum  dir_prev_num  num_staff  num_actor  box_off_num  \n",
              "0      조병옥             NaN             0         91          2        23398  \n",
              "6      이창재             NaN             0         32          5        53526  \n",
              "8      정성복             NaN             0          3          5         4778  "
            ]
          },
          "execution_count": 13,
          "metadata": {},
          "output_type": "execute_result"
        }
      ],
      "source": [
        "### 결측치가 있는 컬럼의 특성 확인\n",
        "train[train['dir_prev_bfnum'].isna()].head(3)"
      ]
    },
    {
      "cell_type": "code",
      "execution_count": null,
      "id": "ec0b5e0a",
      "metadata": {
        "id": "ec0b5e0a",
        "outputId": "ac4b2729-691f-4533-b143-9e5b69a1487f"
      },
      "outputs": [
        {
          "data": {
            "text/html": [
              "<div>\n",
              "<style scoped>\n",
              "    .dataframe tbody tr th:only-of-type {\n",
              "        vertical-align: middle;\n",
              "    }\n",
              "\n",
              "    .dataframe tbody tr th {\n",
              "        vertical-align: top;\n",
              "    }\n",
              "\n",
              "    .dataframe thead th {\n",
              "        text-align: right;\n",
              "    }\n",
              "</style>\n",
              "<table border=\"1\" class=\"dataframe\">\n",
              "  <thead>\n",
              "    <tr style=\"text-align: right;\">\n",
              "      <th></th>\n",
              "      <th>title</th>\n",
              "      <th>distributor</th>\n",
              "      <th>genre</th>\n",
              "      <th>release_time</th>\n",
              "      <th>time</th>\n",
              "      <th>screening_rat</th>\n",
              "      <th>director</th>\n",
              "      <th>dir_prev_bfnum</th>\n",
              "      <th>dir_prev_num</th>\n",
              "      <th>num_staff</th>\n",
              "      <th>num_actor</th>\n",
              "    </tr>\n",
              "  </thead>\n",
              "  <tbody>\n",
              "    <tr>\n",
              "      <th>5</th>\n",
              "      <td>회오리 바람</td>\n",
              "      <td>모쿠슈라</td>\n",
              "      <td>드라마</td>\n",
              "      <td>2010-02-25</td>\n",
              "      <td>95</td>\n",
              "      <td>15세 관람가</td>\n",
              "      <td>장건재</td>\n",
              "      <td>NaN</td>\n",
              "      <td>0</td>\n",
              "      <td>156</td>\n",
              "      <td>2</td>\n",
              "    </tr>\n",
              "    <tr>\n",
              "      <th>6</th>\n",
              "      <td>경계도시 2</td>\n",
              "      <td>시네마 달</td>\n",
              "      <td>다큐멘터리</td>\n",
              "      <td>2010-03-18</td>\n",
              "      <td>104</td>\n",
              "      <td>15세 관람가</td>\n",
              "      <td>홍형숙</td>\n",
              "      <td>NaN</td>\n",
              "      <td>0</td>\n",
              "      <td>11</td>\n",
              "      <td>2</td>\n",
              "    </tr>\n",
              "    <tr>\n",
              "      <th>7</th>\n",
              "      <td>이웃집 남자</td>\n",
              "      <td>(주)루믹스미디어</td>\n",
              "      <td>드라마</td>\n",
              "      <td>2010-03-18</td>\n",
              "      <td>100</td>\n",
              "      <td>청소년 관람불가</td>\n",
              "      <td>장동홍</td>\n",
              "      <td>NaN</td>\n",
              "      <td>0</td>\n",
              "      <td>117</td>\n",
              "      <td>5</td>\n",
              "    </tr>\n",
              "  </tbody>\n",
              "</table>\n",
              "</div>"
            ],
            "text/plain": [
              "    title distributor  genre release_time  time screening_rat director  \\\n",
              "5  회오리 바람        모쿠슈라    드라마   2010-02-25    95       15세 관람가      장건재   \n",
              "6  경계도시 2       시네마 달  다큐멘터리   2010-03-18   104       15세 관람가      홍형숙   \n",
              "7  이웃집 남자   (주)루믹스미디어    드라마   2010-03-18   100      청소년 관람불가      장동홍   \n",
              "\n",
              "   dir_prev_bfnum  dir_prev_num  num_staff  num_actor  \n",
              "5             NaN             0        156          2  \n",
              "6             NaN             0         11          2  \n",
              "7             NaN             0        117          5  "
            ]
          },
          "execution_count": 14,
          "metadata": {},
          "output_type": "execute_result"
        }
      ],
      "source": [
        "test[test['dir_prev_bfnum'].isna()].head(3)"
      ]
    },
    {
      "cell_type": "code",
      "execution_count": null,
      "id": "6d6328a8",
      "metadata": {
        "id": "6d6328a8",
        "outputId": "0dd06c8a-e8af-41d5-983e-c7e1e42482f4"
      },
      "outputs": [
        {
          "name": "stdout",
          "output_type": "stream",
          "text": [
            "0\n",
            "0\n"
          ]
        }
      ],
      "source": [
        "print(train[train['dir_prev_bfnum'].isna()]['dir_prev_num'].sum())\n",
        "print(test[test['dir_prev_bfnum'].isna()]['dir_prev_num'].sum())"
      ]
    },
    {
      "cell_type": "code",
      "execution_count": null,
      "id": "79969581",
      "metadata": {
        "id": "79969581"
      },
      "outputs": [],
      "source": [
        "train['dir_prev_bfnum'].fillna(0, inplace = True)\n",
        "test['dir_prev_bfnum'].fillna(0, inplace = True)"
      ]
    },
    {
      "cell_type": "code",
      "execution_count": null,
      "id": "f4a8cb76",
      "metadata": {
        "id": "f4a8cb76"
      },
      "outputs": [],
      "source": [
        "# 데이터 타입 전처리\n",
        "train['release_time'] = pd.to_datetime(train['release_time'])\n",
        "test['release_time'] = pd.to_datetime(test['release_time'])"
      ]
    },
    {
      "cell_type": "code",
      "execution_count": null,
      "id": "9255f914",
      "metadata": {
        "id": "9255f914"
      },
      "outputs": [],
      "source": [
        "# 년도, 월, 일, 요일 별 칼럼 따로 만들기\n",
        "train['release_year'] = train['release_time'].dt.year # 년도\n",
        "train['release_month'] = train['release_time'].dt.month # 월\n",
        "train['release_day'] = train['release_time'].dt.day     # 일\n",
        "train['release_weekday'] = train['release_time'].dt.weekday # 요일\n",
        "\n",
        "test['release_year'] = test['release_time'].dt.year # 년도\n",
        "test['release_month'] = test['release_time'].dt.month # 월\n",
        "test['release_day'] = test['release_time'].dt.day     # 일\n",
        "test['release_weekday'] = test['release_time'].dt.weekday # 요일"
      ]
    },
    {
      "cell_type": "code",
      "execution_count": null,
      "id": "894fb0f1",
      "metadata": {
        "id": "894fb0f1"
      },
      "outputs": [],
      "source": [
        "# 기존의 release_time은 제거하기\n",
        "\n",
        "train = train.drop('release_time', axis = 1)\n",
        "test = test.drop('release_time', axis = 1)"
      ]
    },
    {
      "cell_type": "code",
      "execution_count": null,
      "id": "38a21a61",
      "metadata": {
        "id": "38a21a61",
        "outputId": "cc56c093-5515-4ef0-d38b-6259b1fa6806"
      },
      "outputs": [
        {
          "data": {
            "text/html": [
              "<div>\n",
              "<style scoped>\n",
              "    .dataframe tbody tr th:only-of-type {\n",
              "        vertical-align: middle;\n",
              "    }\n",
              "\n",
              "    .dataframe tbody tr th {\n",
              "        vertical-align: top;\n",
              "    }\n",
              "\n",
              "    .dataframe thead th {\n",
              "        text-align: right;\n",
              "    }\n",
              "</style>\n",
              "<table border=\"1\" class=\"dataframe\">\n",
              "  <thead>\n",
              "    <tr style=\"text-align: right;\">\n",
              "      <th></th>\n",
              "      <th>title</th>\n",
              "      <th>distributor</th>\n",
              "      <th>genre</th>\n",
              "      <th>time</th>\n",
              "      <th>screening_rat</th>\n",
              "      <th>director</th>\n",
              "      <th>dir_prev_bfnum</th>\n",
              "      <th>dir_prev_num</th>\n",
              "      <th>num_staff</th>\n",
              "      <th>num_actor</th>\n",
              "      <th>box_off_num</th>\n",
              "      <th>release_year</th>\n",
              "      <th>release_month</th>\n",
              "      <th>release_day</th>\n",
              "      <th>release_weekday</th>\n",
              "    </tr>\n",
              "  </thead>\n",
              "  <tbody>\n",
              "    <tr>\n",
              "      <th>0</th>\n",
              "      <td>개들의 전쟁</td>\n",
              "      <td>롯데엔터테인먼트</td>\n",
              "      <td>액션</td>\n",
              "      <td>96</td>\n",
              "      <td>청소년 관람불가</td>\n",
              "      <td>조병옥</td>\n",
              "      <td>0.0</td>\n",
              "      <td>0</td>\n",
              "      <td>91</td>\n",
              "      <td>2</td>\n",
              "      <td>23398</td>\n",
              "      <td>2012</td>\n",
              "      <td>11</td>\n",
              "      <td>22</td>\n",
              "      <td>3</td>\n",
              "    </tr>\n",
              "    <tr>\n",
              "      <th>1</th>\n",
              "      <td>내부자들</td>\n",
              "      <td>(주)쇼박스</td>\n",
              "      <td>느와르</td>\n",
              "      <td>130</td>\n",
              "      <td>청소년 관람불가</td>\n",
              "      <td>우민호</td>\n",
              "      <td>1161602.5</td>\n",
              "      <td>2</td>\n",
              "      <td>387</td>\n",
              "      <td>3</td>\n",
              "      <td>7072501</td>\n",
              "      <td>2015</td>\n",
              "      <td>11</td>\n",
              "      <td>19</td>\n",
              "      <td>3</td>\n",
              "    </tr>\n",
              "    <tr>\n",
              "      <th>2</th>\n",
              "      <td>은밀하게 위대하게</td>\n",
              "      <td>(주)쇼박스</td>\n",
              "      <td>액션</td>\n",
              "      <td>123</td>\n",
              "      <td>15세 관람가</td>\n",
              "      <td>장철수</td>\n",
              "      <td>220775.2</td>\n",
              "      <td>4</td>\n",
              "      <td>343</td>\n",
              "      <td>4</td>\n",
              "      <td>6959083</td>\n",
              "      <td>2013</td>\n",
              "      <td>6</td>\n",
              "      <td>5</td>\n",
              "      <td>2</td>\n",
              "    </tr>\n",
              "    <tr>\n",
              "      <th>3</th>\n",
              "      <td>나는 공무원이다</td>\n",
              "      <td>(주)NEW</td>\n",
              "      <td>코미디</td>\n",
              "      <td>101</td>\n",
              "      <td>전체 관람가</td>\n",
              "      <td>구자홍</td>\n",
              "      <td>23894.0</td>\n",
              "      <td>2</td>\n",
              "      <td>20</td>\n",
              "      <td>6</td>\n",
              "      <td>217866</td>\n",
              "      <td>2012</td>\n",
              "      <td>7</td>\n",
              "      <td>12</td>\n",
              "      <td>3</td>\n",
              "    </tr>\n",
              "    <tr>\n",
              "      <th>4</th>\n",
              "      <td>불량남녀</td>\n",
              "      <td>쇼박스(주)미디어플렉스</td>\n",
              "      <td>코미디</td>\n",
              "      <td>108</td>\n",
              "      <td>15세 관람가</td>\n",
              "      <td>신근호</td>\n",
              "      <td>1.0</td>\n",
              "      <td>1</td>\n",
              "      <td>251</td>\n",
              "      <td>2</td>\n",
              "      <td>483387</td>\n",
              "      <td>2010</td>\n",
              "      <td>11</td>\n",
              "      <td>4</td>\n",
              "      <td>3</td>\n",
              "    </tr>\n",
              "  </tbody>\n",
              "</table>\n",
              "</div>"
            ],
            "text/plain": [
              "       title   distributor genre  time screening_rat director  dir_prev_bfnum  \\\n",
              "0     개들의 전쟁      롯데엔터테인먼트    액션    96      청소년 관람불가      조병옥             0.0   \n",
              "1       내부자들        (주)쇼박스   느와르   130      청소년 관람불가      우민호       1161602.5   \n",
              "2  은밀하게 위대하게        (주)쇼박스    액션   123       15세 관람가      장철수        220775.2   \n",
              "3   나는 공무원이다        (주)NEW   코미디   101        전체 관람가      구자홍         23894.0   \n",
              "4       불량남녀  쇼박스(주)미디어플렉스   코미디   108       15세 관람가      신근호             1.0   \n",
              "\n",
              "   dir_prev_num  num_staff  num_actor  box_off_num  release_year  \\\n",
              "0             0         91          2        23398          2012   \n",
              "1             2        387          3      7072501          2015   \n",
              "2             4        343          4      6959083          2013   \n",
              "3             2         20          6       217866          2012   \n",
              "4             1        251          2       483387          2010   \n",
              "\n",
              "   release_month  release_day  release_weekday  \n",
              "0             11           22                3  \n",
              "1             11           19                3  \n",
              "2              6            5                2  \n",
              "3              7           12                3  \n",
              "4             11            4                3  "
            ]
          },
          "execution_count": 20,
          "metadata": {},
          "output_type": "execute_result"
        }
      ],
      "source": [
        "train.head()"
      ]
    },
    {
      "cell_type": "code",
      "execution_count": null,
      "id": "a28adc50",
      "metadata": {
        "id": "a28adc50",
        "outputId": "aa68459b-787a-44d5-e9ef-6f628dc951b9"
      },
      "outputs": [
        {
          "data": {
            "text/html": [
              "<div>\n",
              "<style scoped>\n",
              "    .dataframe tbody tr th:only-of-type {\n",
              "        vertical-align: middle;\n",
              "    }\n",
              "\n",
              "    .dataframe tbody tr th {\n",
              "        vertical-align: top;\n",
              "    }\n",
              "\n",
              "    .dataframe thead th {\n",
              "        text-align: right;\n",
              "    }\n",
              "</style>\n",
              "<table border=\"1\" class=\"dataframe\">\n",
              "  <thead>\n",
              "    <tr style=\"text-align: right;\">\n",
              "      <th></th>\n",
              "      <th>title</th>\n",
              "      <th>distributor</th>\n",
              "      <th>genre</th>\n",
              "      <th>time</th>\n",
              "      <th>screening_rat</th>\n",
              "      <th>director</th>\n",
              "      <th>dir_prev_bfnum</th>\n",
              "      <th>dir_prev_num</th>\n",
              "      <th>num_staff</th>\n",
              "      <th>num_actor</th>\n",
              "      <th>release_year</th>\n",
              "      <th>release_month</th>\n",
              "      <th>release_day</th>\n",
              "      <th>release_weekday</th>\n",
              "    </tr>\n",
              "  </thead>\n",
              "  <tbody>\n",
              "    <tr>\n",
              "      <th>0</th>\n",
              "      <td>용서는 없다</td>\n",
              "      <td>시네마서비스</td>\n",
              "      <td>느와르</td>\n",
              "      <td>125</td>\n",
              "      <td>청소년 관람불가</td>\n",
              "      <td>김형준</td>\n",
              "      <td>300529.0</td>\n",
              "      <td>2</td>\n",
              "      <td>304</td>\n",
              "      <td>3</td>\n",
              "      <td>2010</td>\n",
              "      <td>1</td>\n",
              "      <td>7</td>\n",
              "      <td>3</td>\n",
              "    </tr>\n",
              "    <tr>\n",
              "      <th>1</th>\n",
              "      <td>아빠가 여자를 좋아해</td>\n",
              "      <td>(주)쇼박스</td>\n",
              "      <td>멜로/로맨스</td>\n",
              "      <td>113</td>\n",
              "      <td>12세 관람가</td>\n",
              "      <td>이광재</td>\n",
              "      <td>342700.2</td>\n",
              "      <td>4</td>\n",
              "      <td>275</td>\n",
              "      <td>3</td>\n",
              "      <td>2010</td>\n",
              "      <td>1</td>\n",
              "      <td>14</td>\n",
              "      <td>3</td>\n",
              "    </tr>\n",
              "    <tr>\n",
              "      <th>2</th>\n",
              "      <td>하모니</td>\n",
              "      <td>CJ 엔터테인먼트</td>\n",
              "      <td>드라마</td>\n",
              "      <td>115</td>\n",
              "      <td>12세 관람가</td>\n",
              "      <td>강대규</td>\n",
              "      <td>4206610.7</td>\n",
              "      <td>3</td>\n",
              "      <td>419</td>\n",
              "      <td>7</td>\n",
              "      <td>2010</td>\n",
              "      <td>1</td>\n",
              "      <td>28</td>\n",
              "      <td>3</td>\n",
              "    </tr>\n",
              "    <tr>\n",
              "      <th>3</th>\n",
              "      <td>의형제</td>\n",
              "      <td>(주)쇼박스</td>\n",
              "      <td>액션</td>\n",
              "      <td>116</td>\n",
              "      <td>15세 관람가</td>\n",
              "      <td>장훈</td>\n",
              "      <td>691342.0</td>\n",
              "      <td>2</td>\n",
              "      <td>408</td>\n",
              "      <td>2</td>\n",
              "      <td>2010</td>\n",
              "      <td>2</td>\n",
              "      <td>4</td>\n",
              "      <td>3</td>\n",
              "    </tr>\n",
              "    <tr>\n",
              "      <th>4</th>\n",
              "      <td>평행 이론</td>\n",
              "      <td>CJ 엔터테인먼트</td>\n",
              "      <td>공포</td>\n",
              "      <td>110</td>\n",
              "      <td>15세 관람가</td>\n",
              "      <td>권호영</td>\n",
              "      <td>31738.0</td>\n",
              "      <td>1</td>\n",
              "      <td>380</td>\n",
              "      <td>1</td>\n",
              "      <td>2010</td>\n",
              "      <td>2</td>\n",
              "      <td>18</td>\n",
              "      <td>3</td>\n",
              "    </tr>\n",
              "  </tbody>\n",
              "</table>\n",
              "</div>"
            ],
            "text/plain": [
              "         title distributor   genre  time screening_rat director  \\\n",
              "0       용서는 없다      시네마서비스     느와르   125      청소년 관람불가      김형준   \n",
              "1  아빠가 여자를 좋아해      (주)쇼박스  멜로/로맨스   113       12세 관람가      이광재   \n",
              "2          하모니   CJ 엔터테인먼트     드라마   115       12세 관람가      강대규   \n",
              "3          의형제      (주)쇼박스      액션   116       15세 관람가       장훈   \n",
              "4        평행 이론   CJ 엔터테인먼트      공포   110       15세 관람가      권호영   \n",
              "\n",
              "   dir_prev_bfnum  dir_prev_num  num_staff  num_actor  release_year  \\\n",
              "0        300529.0             2        304          3          2010   \n",
              "1        342700.2             4        275          3          2010   \n",
              "2       4206610.7             3        419          7          2010   \n",
              "3        691342.0             2        408          2          2010   \n",
              "4         31738.0             1        380          1          2010   \n",
              "\n",
              "   release_month  release_day  release_weekday  \n",
              "0              1            7                3  \n",
              "1              1           14                3  \n",
              "2              1           28                3  \n",
              "3              2            4                3  \n",
              "4              2           18                3  "
            ]
          },
          "execution_count": 21,
          "metadata": {},
          "output_type": "execute_result"
        }
      ],
      "source": [
        "test.head()"
      ]
    },
    {
      "cell_type": "code",
      "execution_count": null,
      "id": "7ee322f1",
      "metadata": {
        "id": "7ee322f1",
        "outputId": "4dd2ff9b-d94e-4e7a-cff0-161012943448"
      },
      "outputs": [
        {
          "name": "stderr",
          "output_type": "stream",
          "text": [
            "findfont: Font family ['NanumBarunGothic'] not found. Falling back to DejaVu Sans.\n",
            "findfont: Font family ['NanumBarunGothic'] not found. Falling back to DejaVu Sans.\n"
          ]
        },
        {
          "data": {
            "image/png": "[encoded data removed]",
            "text/plain": [
              "<Figure size 1000x800 with 2 Axes>"
            ]
          },
          "metadata": {},
          "output_type": "display_data"
        }
      ],
      "source": [
        "# 피처 선택 & 가공(Feature Selection & Engineering)\n",
        "### 상관계수 시각화\n",
        "# 영화 관객수와 관련 있는 변수 파악\n",
        "\n",
        "corr = train.corr()\n",
        "\n",
        "# 그림 사이즈 지정\n",
        "fig, ax = plt.subplots(figsize = (10,8))\n",
        "\n",
        "# 삼각형 마스크를 만든다(위 쪽 삼각형에 True, 아래 삼각형에 False)\n",
        "mask = np.zeros_like(corr, dtype = np.bool)\n",
        "mask[np.triu_indices_from(mask)] = True\n",
        "\n",
        "# 하삼각행렬만 시각화(밑에만)\n",
        "sns.heatmap(corr,\n",
        "            cmap = 'RdYlBu_r',\n",
        "            annot = True,   # 실제 값을 표시\n",
        "            mask = mask,      # 표시하지 않을 마스크 부분을 지정\n",
        "            linewidths=.5,  # 경계면을 실선으로 구분하기\n",
        "            cbar_kws={\"shrink\": .5}, # 컬러바 크기 절반으로 줄이기\n",
        "            vmin = -1, vmax = 1   # 컬러바 범위: -1 ~ 1(상관계수의 범위)\n",
        "           )\n",
        "\n",
        "plt.title('Correlation Heatmap')\n",
        "plt.show()"
      ]
    },
    {
      "cell_type": "code",
      "execution_count": null,
      "id": "d23db355",
      "metadata": {
        "id": "d23db355"
      },
      "outputs": [],
      "source": [
        "# 영화 제목은 영화마다 모두 다름\n",
        "# 영화의 관객수와 그닥 관련이 없을 것이라 판단되기에 제거\n",
        "\n",
        "train = train.drop(['title'], axis= 1)\n",
        "test = test.drop(['title'], axis= 1)"
      ]
    },
    {
      "cell_type": "code",
      "execution_count": null,
      "id": "d69c899c",
      "metadata": {
        "id": "d69c899c",
        "outputId": "31f8dcea-f16b-4caf-b058-305dcfd04d29"
      },
      "outputs": [
        {
          "data": {
            "text/plain": [
              "CJ 엔터테인먼트        54\n",
              "롯데엔터테인먼트         52\n",
              "(주)NEW           30\n",
              "(주)마운틴픽쳐스        29\n",
              "(주)쇼박스           26\n",
              "                 ..\n",
              "OAL(올)            1\n",
              "(주)에이원 엔터테인먼트     1\n",
              "(주)콘텐츠 윙          1\n",
              "위더스필름             1\n",
              "퍼스트런              1\n",
              "Name: distributor, Length: 169, dtype: int64"
            ]
          },
          "execution_count": 24,
          "metadata": {},
          "output_type": "execute_result"
        }
      ],
      "source": [
        "### 배급사(distributor) 분포 확인\n",
        "\n",
        "train.distributor.value_counts()"
      ]
    },
    {
      "cell_type": "code",
      "execution_count": null,
      "id": "4de3b73a",
      "metadata": {
        "id": "4de3b73a"
      },
      "outputs": [],
      "source": [
        "# 상위 5개의 배급사를 제외하고 '기타'로 처리\n",
        "\n",
        "distributor_list = train.distributor.value_counts()[:5]\n",
        "\n",
        "def func(distributor):\n",
        "    if distributor in distributor_list:\n",
        "        return distributor\n",
        "    else:\n",
        "        return '기타'\n",
        "\n",
        "train['distributor'] = train['distributor'].apply(lambda x : func(x))\n",
        "test['distributor'] = test['distributor'].apply(lambda x : func(x))"
      ]
    },
    {
      "cell_type": "code",
      "execution_count": null,
      "id": "4984982d",
      "metadata": {
        "id": "4984982d",
        "outputId": "e48a8c32-cd91-4bfa-900a-51d8e41c8504"
      },
      "outputs": [
        {
          "data": {
            "text/plain": [
              "기타           409\n",
              "CJ 엔터테인먼트     54\n",
              "롯데엔터테인먼트      52\n",
              "(주)NEW        30\n",
              "(주)마운틴픽쳐스     29\n",
              "(주)쇼박스        26\n",
              "Name: distributor, dtype: int64"
            ]
          },
          "execution_count": 26,
          "metadata": {},
          "output_type": "execute_result"
        }
      ],
      "source": [
        "### 배급사(distributor) 분포 재확인\n",
        "\n",
        "train.distributor.value_counts()"
      ]
    },
    {
      "cell_type": "code",
      "execution_count": null,
      "id": "33e43f36",
      "metadata": {
        "id": "33e43f36",
        "outputId": "aa52d2d5-c2b2-40d0-dac6-fee90e816b37"
      },
      "outputs": [
        {
          "data": {
            "text/plain": [
              "드라마       221\n",
              "다큐멘터리      93\n",
              "멜로/로맨스     78\n",
              "코미디        53\n",
              "공포         42\n",
              "액션         28\n",
              "느와르        27\n",
              "애니메이션      21\n",
              "미스터리       17\n",
              "SF         13\n",
              "뮤지컬         5\n",
              "서스펜스        2\n",
              "Name: genre, dtype: int64"
            ]
          },
          "execution_count": 27,
          "metadata": {},
          "output_type": "execute_result"
        }
      ],
      "source": [
        "### 장르 분포 확인\n",
        "\n",
        "train.genre.value_counts()"
      ]
    },
    {
      "cell_type": "code",
      "execution_count": null,
      "id": "5dccb8f9",
      "metadata": {
        "id": "5dccb8f9"
      },
      "outputs": [],
      "source": [
        "# 상위 5개의 장르를 제외하고 '기타'로 처리\n",
        "\n",
        "genre_list = train.genre.value_counts()[:5]\n",
        "\n",
        "def func2(genre):\n",
        "    if genre in genre_list:\n",
        "        return genre\n",
        "    else:\n",
        "        return '기타'\n",
        "\n",
        "train['genre'] = train['genre'].apply(lambda x : func2(x))\n",
        "test['genre'] = test['genre'].apply(lambda x : func2(x))"
      ]
    },
    {
      "cell_type": "code",
      "execution_count": null,
      "id": "18e5f46c",
      "metadata": {
        "id": "18e5f46c",
        "outputId": "ab9db714-f3e2-4e68-faa4-a9a88b9a25f3"
      },
      "outputs": [
        {
          "data": {
            "text/plain": [
              "드라마       221\n",
              "기타        113\n",
              "다큐멘터리      93\n",
              "멜로/로맨스     78\n",
              "코미디        53\n",
              "공포         42\n",
              "Name: genre, dtype: int64"
            ]
          },
          "execution_count": 29,
          "metadata": {},
          "output_type": "execute_result"
        }
      ],
      "source": [
        "### 장르 분포 재확인\n",
        "\n",
        "train.genre.value_counts()"
      ]
    },
    {
      "cell_type": "code",
      "execution_count": null,
      "id": "6a0e0b4e",
      "metadata": {
        "id": "6a0e0b4e"
      },
      "outputs": [],
      "source": [
        "# 감독이름_너무 다양해서 제거\n",
        "train = train.drop(['director'],axis = 1)\n",
        "test = test.drop(['director'],axis = 1)"
      ]
    },
    {
      "cell_type": "code",
      "execution_count": null,
      "id": "ccac76ad",
      "metadata": {
        "id": "ccac76ad"
      },
      "outputs": [],
      "source": [
        "# 감독의 이전 영화에서의 평균 관객수는 대부분 알려지지 않음\n",
        "# 의미가 없는 변수로 판단되기에 제거\n",
        "\n",
        "train = train.drop(['dir_prev_bfnum'],axis = 1)\n",
        "test = test.drop(['dir_prev_bfnum'],axis = 1)"
      ]
    },
    {
      "cell_type": "code",
      "execution_count": null,
      "id": "c712cac8",
      "metadata": {
        "id": "c712cac8"
      },
      "outputs": [],
      "source": [
        "# 개봉년도와 영화 관객수에는 큰 연관성이 없어 보임\n",
        "# 해당 변수를 제거\n",
        "\n",
        "train = train.drop('release_year', axis= 1)\n",
        "test = test.drop('release_year', axis= 1)"
      ]
    },
    {
      "cell_type": "code",
      "execution_count": null,
      "id": "9600e0c6",
      "metadata": {
        "id": "9600e0c6"
      },
      "outputs": [],
      "source": [
        "def get_season(x):\n",
        "  if x == 3 or x == 4 or x == 5:\n",
        "    return 'spring'\n",
        "  elif x == 6 or x == 7 or x == 8:\n",
        "    return 'summer'\n",
        "  elif x == 9 or x == 10 or x == 11:\n",
        "    return 'autumn'\n",
        "  else:\n",
        "    return 'winter'"
      ]
    },
    {
      "cell_type": "code",
      "execution_count": null,
      "id": "3f7f8fa2",
      "metadata": {
        "id": "3f7f8fa2"
      },
      "outputs": [],
      "source": [
        "train['release_season'] = train['release_month'].apply(get_season)"
      ]
    },
    {
      "cell_type": "code",
      "execution_count": null,
      "id": "e0fae5c0",
      "metadata": {
        "id": "e0fae5c0"
      },
      "outputs": [],
      "source": [
        "### 월, 계절에 관련된 컬럼들을 모두 제거\n",
        "\n",
        "train = train.drop(['release_month', 'release_season'], axis= 1)\n",
        "test = test.drop(['release_month'], axis= 1)"
      ]
    },
    {
      "cell_type": "code",
      "execution_count": null,
      "id": "a37a31d2",
      "metadata": {
        "id": "a37a31d2"
      },
      "outputs": [],
      "source": [
        "# 개봉년도와 영화 관객수에는 큰 연관성이 없어 보임\n",
        "# 해당 변수를 제거\n",
        "\n",
        "train = train.drop('release_day', axis= 1)\n",
        "test = test.drop('release_day', axis= 1)"
      ]
    },
    {
      "cell_type": "code",
      "execution_count": null,
      "id": "b0ede86b",
      "metadata": {
        "id": "b0ede86b"
      },
      "outputs": [],
      "source": [
        "def get_day(x):\n",
        "  if x == 2:\n",
        "    return 'wed'\n",
        "  elif x == 3:\n",
        "    return 'thur'\n",
        "  else:\n",
        "    return 'etc'"
      ]
    },
    {
      "cell_type": "code",
      "execution_count": null,
      "id": "7365dc44",
      "metadata": {
        "id": "7365dc44"
      },
      "outputs": [],
      "source": [
        "train['release_weekday'] = train['release_weekday'].apply(get_day)\n",
        "test['release_weekday'] = test['release_weekday'].apply(get_day)"
      ]
    },
    {
      "cell_type": "markdown",
      "id": "2a1b760b",
      "metadata": {
        "id": "2a1b760b"
      },
      "source": [
        "## 최종 변수 확인"
      ]
    },
    {
      "cell_type": "code",
      "execution_count": null,
      "id": "7c5257a6",
      "metadata": {
        "id": "7c5257a6",
        "outputId": "12c0a1d7-2492-46d0-cc71-10645ad11455"
      },
      "outputs": [
        {
          "name": "stdout",
          "output_type": "stream",
          "text": [
            "<class 'pandas.core.frame.DataFrame'>\n",
            "RangeIndex: 600 entries, 0 to 599\n",
            "Data columns (total 9 columns):\n",
            " #   Column           Non-Null Count  Dtype \n",
            "---  ------           --------------  ----- \n",
            " 0   distributor      600 non-null    object\n",
            " 1   genre            600 non-null    object\n",
            " 2   time             600 non-null    int64 \n",
            " 3   screening_rat    600 non-null    object\n",
            " 4   dir_prev_num     600 non-null    int64 \n",
            " 5   num_staff        600 non-null    int64 \n",
            " 6   num_actor        600 non-null    int64 \n",
            " 7   box_off_num      600 non-null    int64 \n",
            " 8   release_weekday  600 non-null    object\n",
            "dtypes: int64(5), object(4)\n",
            "memory usage: 42.3+ KB\n"
          ]
        }
      ],
      "source": [
        "train.info()"
      ]
    },
    {
      "cell_type": "code",
      "execution_count": null,
      "id": "7d7b914c",
      "metadata": {
        "id": "7d7b914c",
        "outputId": "4b0d33db-312a-4f0e-b8b0-dae7e2541da0"
      },
      "outputs": [
        {
          "name": "stdout",
          "output_type": "stream",
          "text": [
            "<class 'pandas.core.frame.DataFrame'>\n",
            "RangeIndex: 243 entries, 0 to 242\n",
            "Data columns (total 8 columns):\n",
            " #   Column           Non-Null Count  Dtype \n",
            "---  ------           --------------  ----- \n",
            " 0   distributor      243 non-null    object\n",
            " 1   genre            243 non-null    object\n",
            " 2   time             243 non-null    int64 \n",
            " 3   screening_rat    243 non-null    object\n",
            " 4   dir_prev_num     243 non-null    int64 \n",
            " 5   num_staff        243 non-null    int64 \n",
            " 6   num_actor        243 non-null    int64 \n",
            " 7   release_weekday  243 non-null    object\n",
            "dtypes: int64(4), object(4)\n",
            "memory usage: 15.3+ KB\n"
          ]
        }
      ],
      "source": [
        "test.info()"
      ]
    },
    {
      "cell_type": "code",
      "execution_count": null,
      "id": "1273da11",
      "metadata": {
        "id": "1273da11",
        "outputId": "01e45c0e-eb6c-477a-edda-42f0ef38ffa9"
      },
      "outputs": [
        {
          "data": {
            "text/plain": [
              "array([[<AxesSubplot:title={'center':'time'}>,\n",
              "        <AxesSubplot:title={'center':'dir_prev_num'}>],\n",
              "       [<AxesSubplot:title={'center':'num_staff'}>,\n",
              "        <AxesSubplot:title={'center':'num_actor'}>],\n",
              "       [<AxesSubplot:title={'center':'box_off_num'}>, <AxesSubplot:>]],\n",
              "      dtype=object)"
            ]
          },
          "execution_count": 41,
          "metadata": {},
          "output_type": "execute_result"
        },
        {
          "data": {
            "image/png": "[encoded data removed]",
            "text/plain": [
              "<Figure size 1500x800 with 6 Axes>"
            ]
          },
          "metadata": {},
          "output_type": "display_data"
        }
      ],
      "source": [
        "train.hist(figsize = (15,8))"
      ]
    },
    {
      "cell_type": "markdown",
      "id": "401bfc8f",
      "metadata": {
        "id": "401bfc8f"
      },
      "source": [
        "## feature, target 분리"
      ]
    },
    {
      "cell_type": "code",
      "execution_count": null,
      "id": "a76914f8",
      "metadata": {
        "id": "a76914f8"
      },
      "outputs": [],
      "source": [
        "X_train = train.drop(['box_off_num'],axis= 1)\n",
        "y_train = train['box_off_num']"
      ]
    },
    {
      "cell_type": "code",
      "execution_count": null,
      "id": "f31f6fff",
      "metadata": {
        "id": "f31f6fff"
      },
      "outputs": [],
      "source": [
        "X_test = test"
      ]
    },
    {
      "cell_type": "markdown",
      "id": "c02a5cd1",
      "metadata": {
        "id": "c02a5cd1"
      },
      "source": [
        "## scaling"
      ]
    },
    {
      "cell_type": "code",
      "execution_count": null,
      "id": "b990343b",
      "metadata": {
        "id": "b990343b"
      },
      "outputs": [],
      "source": [
        "### 스케일링\n",
        "# 원본 데이터 유지를 위해 복사 후 스케일링 진행\n",
        "\n",
        "X_train_stan = X_train.copy()\n",
        "X_test_stan = X_test.copy()"
      ]
    },
    {
      "cell_type": "code",
      "execution_count": null,
      "id": "7664ef25",
      "metadata": {
        "id": "7664ef25"
      },
      "outputs": [],
      "source": [
        "from sklearn.preprocessing import StandardScaler\n",
        "\n",
        "scaler = StandardScaler()\n",
        "stan_fit = scaler.fit(X_train[['time', 'dir_prev_num', 'num_staff', 'num_actor']])\n",
        "X_train_stan[['time', 'dir_prev_num', 'num_staff', 'num_actor']] = stan_fit.transform(X_train[['time', 'dir_prev_num', 'num_staff', 'num_actor']])\n",
        "X_test_stan[['time', 'dir_prev_num', 'num_staff', 'num_actor']] = stan_fit.transform(X_test[['time', 'dir_prev_num', 'num_staff', 'num_actor']])"
      ]
    },
    {
      "cell_type": "code",
      "execution_count": null,
      "id": "a80f13e8",
      "metadata": {
        "id": "a80f13e8",
        "outputId": "b8f7d6ec-b3fa-4153-d254-4d4c5bd0b731"
      },
      "outputs": [
        {
          "data": {
            "text/html": [
              "<div>\n",
              "<style scoped>\n",
              "    .dataframe tbody tr th:only-of-type {\n",
              "        vertical-align: middle;\n",
              "    }\n",
              "\n",
              "    .dataframe tbody tr th {\n",
              "        vertical-align: top;\n",
              "    }\n",
              "\n",
              "    .dataframe thead th {\n",
              "        text-align: right;\n",
              "    }\n",
              "</style>\n",
              "<table border=\"1\" class=\"dataframe\">\n",
              "  <thead>\n",
              "    <tr style=\"text-align: right;\">\n",
              "      <th></th>\n",
              "      <th>distributor</th>\n",
              "      <th>genre</th>\n",
              "      <th>time</th>\n",
              "      <th>screening_rat</th>\n",
              "      <th>dir_prev_num</th>\n",
              "      <th>num_staff</th>\n",
              "      <th>num_actor</th>\n",
              "      <th>release_weekday</th>\n",
              "    </tr>\n",
              "  </thead>\n",
              "  <tbody>\n",
              "    <tr>\n",
              "      <th>0</th>\n",
              "      <td>롯데엔터테인먼트</td>\n",
              "      <td>기타</td>\n",
              "      <td>-0.3</td>\n",
              "      <td>청소년 관람불가</td>\n",
              "      <td>-0.7</td>\n",
              "      <td>-0.4</td>\n",
              "      <td>-0.7</td>\n",
              "      <td>thur</td>\n",
              "    </tr>\n",
              "    <tr>\n",
              "      <th>1</th>\n",
              "      <td>(주)쇼박스</td>\n",
              "      <td>기타</td>\n",
              "      <td>1.6</td>\n",
              "      <td>청소년 관람불가</td>\n",
              "      <td>1.0</td>\n",
              "      <td>1.4</td>\n",
              "      <td>-0.3</td>\n",
              "      <td>thur</td>\n",
              "    </tr>\n",
              "    <tr>\n",
              "      <th>2</th>\n",
              "      <td>(주)쇼박스</td>\n",
              "      <td>기타</td>\n",
              "      <td>1.2</td>\n",
              "      <td>15세 관람가</td>\n",
              "      <td>2.6</td>\n",
              "      <td>1.2</td>\n",
              "      <td>0.1</td>\n",
              "      <td>wed</td>\n",
              "    </tr>\n",
              "  </tbody>\n",
              "</table>\n",
              "</div>"
            ],
            "text/plain": [
              "  distributor genre  time screening_rat  dir_prev_num  num_staff  num_actor  \\\n",
              "0    롯데엔터테인먼트    기타  -0.3      청소년 관람불가          -0.7       -0.4       -0.7   \n",
              "1      (주)쇼박스    기타   1.6      청소년 관람불가           1.0        1.4       -0.3   \n",
              "2      (주)쇼박스    기타   1.2       15세 관람가           2.6        1.2        0.1   \n",
              "\n",
              "  release_weekday  \n",
              "0            thur  \n",
              "1            thur  \n",
              "2             wed  "
            ]
          },
          "execution_count": 46,
          "metadata": {},
          "output_type": "execute_result"
        }
      ],
      "source": [
        "X_train_stan.head(3)"
      ]
    },
    {
      "cell_type": "markdown",
      "id": "d239dfbb",
      "metadata": {
        "id": "d239dfbb"
      },
      "source": [
        "## 데이터 왜곡 처리"
      ]
    },
    {
      "cell_type": "code",
      "execution_count": null,
      "id": "6b72ebdb",
      "metadata": {
        "id": "6b72ebdb",
        "outputId": "5c859e07-afc2-4bbd-c3a7-622602a1a34b"
      },
      "outputs": [
        {
          "data": {
            "text/plain": [
              "0   10.1\n",
              "1   15.8\n",
              "2   15.8\n",
              "3   12.3\n",
              "4   13.1\n",
              "Name: box_off_num, dtype: float64"
            ]
          },
          "execution_count": 47,
          "metadata": {},
          "output_type": "execute_result"
        }
      ],
      "source": [
        "y_train = np.log1p(y_train)\n",
        "y_train.head()"
      ]
    },
    {
      "cell_type": "markdown",
      "id": "147501ee",
      "metadata": {
        "id": "147501ee"
      },
      "source": [
        "## 범주형 변수 처리"
      ]
    },
    {
      "cell_type": "code",
      "execution_count": null,
      "id": "67dc492a",
      "metadata": {
        "id": "67dc492a"
      },
      "outputs": [],
      "source": [
        "# 원핫 인코딩\n",
        "\n",
        "X_train_stan = pd.get_dummies(data = X_train_stan, columns = ['distributor', 'genre','screening_rat','release_weekday'], prefix = ['distributor', 'genre','screening_rat','release_weekday'])\n",
        "X_test_stan = pd.get_dummies(data = X_test_stan, columns = ['distributor', 'genre','screening_rat','release_weekday'], prefix = ['distributor', 'genre','screening_rat','release_weekday'])"
      ]
    },
    {
      "cell_type": "markdown",
      "id": "48204d17",
      "metadata": {
        "id": "48204d17"
      },
      "source": [
        "# GBM\n",
        "리더보드 점수: 1987078.25831"
      ]
    },
    {
      "cell_type": "code",
      "execution_count": null,
      "id": "0ae37414",
      "metadata": {
        "id": "0ae37414",
        "outputId": "d05599cf-1f3b-4dbb-dc76-c168cb6c8067"
      },
      "outputs": [
        {
          "data": {
            "text/html": [
              "<div>\n",
              "<style scoped>\n",
              "    .dataframe tbody tr th:only-of-type {\n",
              "        vertical-align: middle;\n",
              "    }\n",
              "\n",
              "    .dataframe tbody tr th {\n",
              "        vertical-align: top;\n",
              "    }\n",
              "\n",
              "    .dataframe thead th {\n",
              "        text-align: right;\n",
              "    }\n",
              "</style>\n",
              "<table border=\"1\" class=\"dataframe\">\n",
              "  <thead>\n",
              "    <tr style=\"text-align: right;\">\n",
              "      <th></th>\n",
              "      <th>time</th>\n",
              "      <th>dir_prev_num</th>\n",
              "      <th>num_staff</th>\n",
              "      <th>num_actor</th>\n",
              "      <th>distributor_(주)NEW</th>\n",
              "      <th>distributor_(주)마운틴픽쳐스</th>\n",
              "      <th>distributor_(주)쇼박스</th>\n",
              "      <th>distributor_CJ 엔터테인먼트</th>\n",
              "      <th>distributor_기타</th>\n",
              "      <th>distributor_롯데엔터테인먼트</th>\n",
              "      <th>...</th>\n",
              "      <th>genre_드라마</th>\n",
              "      <th>genre_멜로/로맨스</th>\n",
              "      <th>genre_코미디</th>\n",
              "      <th>screening_rat_12세 관람가</th>\n",
              "      <th>screening_rat_15세 관람가</th>\n",
              "      <th>screening_rat_전체 관람가</th>\n",
              "      <th>screening_rat_청소년 관람불가</th>\n",
              "      <th>release_weekday_etc</th>\n",
              "      <th>release_weekday_thur</th>\n",
              "      <th>release_weekday_wed</th>\n",
              "    </tr>\n",
              "  </thead>\n",
              "  <tbody>\n",
              "    <tr>\n",
              "      <th>0</th>\n",
              "      <td>1.3</td>\n",
              "      <td>1.0</td>\n",
              "      <td>0.9</td>\n",
              "      <td>-0.3</td>\n",
              "      <td>0</td>\n",
              "      <td>0</td>\n",
              "      <td>0</td>\n",
              "      <td>0</td>\n",
              "      <td>1</td>\n",
              "      <td>0</td>\n",
              "      <td>...</td>\n",
              "      <td>0</td>\n",
              "      <td>0</td>\n",
              "      <td>0</td>\n",
              "      <td>0</td>\n",
              "      <td>0</td>\n",
              "      <td>0</td>\n",
              "      <td>1</td>\n",
              "      <td>0</td>\n",
              "      <td>1</td>\n",
              "      <td>0</td>\n",
              "    </tr>\n",
              "    <tr>\n",
              "      <th>1</th>\n",
              "      <td>0.7</td>\n",
              "      <td>2.6</td>\n",
              "      <td>0.7</td>\n",
              "      <td>-0.3</td>\n",
              "      <td>0</td>\n",
              "      <td>0</td>\n",
              "      <td>1</td>\n",
              "      <td>0</td>\n",
              "      <td>0</td>\n",
              "      <td>0</td>\n",
              "      <td>...</td>\n",
              "      <td>0</td>\n",
              "      <td>1</td>\n",
              "      <td>0</td>\n",
              "      <td>1</td>\n",
              "      <td>0</td>\n",
              "      <td>0</td>\n",
              "      <td>0</td>\n",
              "      <td>0</td>\n",
              "      <td>1</td>\n",
              "      <td>0</td>\n",
              "    </tr>\n",
              "    <tr>\n",
              "      <th>2</th>\n",
              "      <td>0.8</td>\n",
              "      <td>1.8</td>\n",
              "      <td>1.6</td>\n",
              "      <td>1.3</td>\n",
              "      <td>0</td>\n",
              "      <td>0</td>\n",
              "      <td>0</td>\n",
              "      <td>1</td>\n",
              "      <td>0</td>\n",
              "      <td>0</td>\n",
              "      <td>...</td>\n",
              "      <td>1</td>\n",
              "      <td>0</td>\n",
              "      <td>0</td>\n",
              "      <td>1</td>\n",
              "      <td>0</td>\n",
              "      <td>0</td>\n",
              "      <td>0</td>\n",
              "      <td>0</td>\n",
              "      <td>1</td>\n",
              "      <td>0</td>\n",
              "    </tr>\n",
              "    <tr>\n",
              "      <th>3</th>\n",
              "      <td>0.8</td>\n",
              "      <td>1.0</td>\n",
              "      <td>1.6</td>\n",
              "      <td>-0.7</td>\n",
              "      <td>0</td>\n",
              "      <td>0</td>\n",
              "      <td>1</td>\n",
              "      <td>0</td>\n",
              "      <td>0</td>\n",
              "      <td>0</td>\n",
              "      <td>...</td>\n",
              "      <td>0</td>\n",
              "      <td>0</td>\n",
              "      <td>0</td>\n",
              "      <td>0</td>\n",
              "      <td>1</td>\n",
              "      <td>0</td>\n",
              "      <td>0</td>\n",
              "      <td>0</td>\n",
              "      <td>1</td>\n",
              "      <td>0</td>\n",
              "    </tr>\n",
              "    <tr>\n",
              "      <th>4</th>\n",
              "      <td>0.5</td>\n",
              "      <td>0.1</td>\n",
              "      <td>1.4</td>\n",
              "      <td>-1.1</td>\n",
              "      <td>0</td>\n",
              "      <td>0</td>\n",
              "      <td>0</td>\n",
              "      <td>1</td>\n",
              "      <td>0</td>\n",
              "      <td>0</td>\n",
              "      <td>...</td>\n",
              "      <td>0</td>\n",
              "      <td>0</td>\n",
              "      <td>0</td>\n",
              "      <td>0</td>\n",
              "      <td>1</td>\n",
              "      <td>0</td>\n",
              "      <td>0</td>\n",
              "      <td>0</td>\n",
              "      <td>1</td>\n",
              "      <td>0</td>\n",
              "    </tr>\n",
              "  </tbody>\n",
              "</table>\n",
              "<p>5 rows × 23 columns</p>\n",
              "</div>"
            ],
            "text/plain": [
              "   time  dir_prev_num  num_staff  num_actor  distributor_(주)NEW  \\\n",
              "0   1.3           1.0        0.9       -0.3                   0   \n",
              "1   0.7           2.6        0.7       -0.3                   0   \n",
              "2   0.8           1.8        1.6        1.3                   0   \n",
              "3   0.8           1.0        1.6       -0.7                   0   \n",
              "4   0.5           0.1        1.4       -1.1                   0   \n",
              "\n",
              "   distributor_(주)마운틴픽쳐스  distributor_(주)쇼박스  distributor_CJ 엔터테인먼트  \\\n",
              "0                      0                   0                      0   \n",
              "1                      0                   1                      0   \n",
              "2                      0                   0                      1   \n",
              "3                      0                   1                      0   \n",
              "4                      0                   0                      1   \n",
              "\n",
              "   distributor_기타  distributor_롯데엔터테인먼트  ...  genre_드라마  genre_멜로/로맨스  \\\n",
              "0               1                     0  ...          0             0   \n",
              "1               0                     0  ...          0             1   \n",
              "2               0                     0  ...          1             0   \n",
              "3               0                     0  ...          0             0   \n",
              "4               0                     0  ...          0             0   \n",
              "\n",
              "   genre_코미디  screening_rat_12세 관람가  screening_rat_15세 관람가  \\\n",
              "0          0                      0                      0   \n",
              "1          0                      1                      0   \n",
              "2          0                      1                      0   \n",
              "3          0                      0                      1   \n",
              "4          0                      0                      1   \n",
              "\n",
              "   screening_rat_전체 관람가  screening_rat_청소년 관람불가  release_weekday_etc  \\\n",
              "0                     0                       1                    0   \n",
              "1                     0                       0                    0   \n",
              "2                     0                       0                    0   \n",
              "3                     0                       0                    0   \n",
              "4                     0                       0                    0   \n",
              "\n",
              "   release_weekday_thur  release_weekday_wed  \n",
              "0                     1                    0  \n",
              "1                     1                    0  \n",
              "2                     1                    0  \n",
              "3                     1                    0  \n",
              "4                     1                    0  \n",
              "\n",
              "[5 rows x 23 columns]"
            ]
          },
          "execution_count": 49,
          "metadata": {},
          "output_type": "execute_result"
        }
      ],
      "source": [
        "X_test_stan.head()"
      ]
    },
    {
      "cell_type": "code",
      "execution_count": null,
      "id": "341d3853",
      "metadata": {
        "id": "341d3853"
      },
      "outputs": [],
      "source": [
        "from sklearn.ensemble import GradientBoostingRegressor\n",
        "from sklearn.metrics import accuracy_score"
      ]
    },
    {
      "cell_type": "code",
      "execution_count": null,
      "id": "1d19b03a",
      "metadata": {
        "id": "1d19b03a"
      },
      "outputs": [],
      "source": [
        "y_train=pd.DataFrame(y_train)"
      ]
    },
    {
      "cell_type": "code",
      "execution_count": null,
      "id": "556e0465",
      "metadata": {
        "id": "556e0465",
        "outputId": "b800beaf-c866-4e62-dcef-c7c427144781"
      },
      "outputs": [
        {
          "data": {
            "text/plain": [
              "array([13.63502211, 14.44347498, 13.42075557, 14.34113033, 13.80880636,\n",
              "        9.21178669,  8.47814885,  7.77956294,  8.61741804, 12.56194296,\n",
              "       11.89677162, 13.57386245, 12.58415432,  7.27022183, 13.54285884,\n",
              "       15.43717116,  8.4472353 , 12.53088394, 10.94947559, 11.4318858 ,\n",
              "        7.05579698,  7.78223789, 12.99222099,  8.64791134,  7.17580319,\n",
              "       12.3025511 ,  6.20922425, 13.92822703,  9.53888831,  8.68694065,\n",
              "       14.26280017,  8.23072036,  8.8054877 , 11.46316299,  8.62565607,\n",
              "        7.64547109,  8.2512735 ,  8.64530109,  7.91077468,  7.7546934 ,\n",
              "        8.8932108 ,  8.70853415, 10.02111292, 10.31347825, 11.43774555,\n",
              "       13.28997816,  7.27022183,  9.36632713,  9.89322771,  8.15987083,\n",
              "        7.24465214, 13.58319249,  9.75166056, 14.19767571, 13.24724035,\n",
              "       10.26443428,  9.46656692, 13.45398844, 14.37659058, 14.58833817,\n",
              "       12.92339782, 14.63413518,  9.7312337 ,  7.4213798 , 10.19850271,\n",
              "        6.83595266, 14.29163665,  7.97796088, 12.60474009,  9.84700155,\n",
              "       13.73810786, 13.03147187,  7.62354845, 13.19235696,  6.31280067,\n",
              "        6.72963026, 14.75704747,  9.07646713, 12.01781047,  7.85074416,\n",
              "        9.07646713, 14.52552811,  9.03637968, 14.78981895,  8.48182425,\n",
              "       14.24908886,  6.14262343,  7.84143332,  7.46388615, 10.82994312,\n",
              "        7.28799451,  8.03370308, 12.00645363, 14.50722144,  9.42722654,\n",
              "        8.96542777,  8.03853441,  8.43115181, 12.32690426, 13.05599117,\n",
              "       14.66739722, 13.7609236 ,  8.64685073,  7.44293379, 13.83118266,\n",
              "        8.89793146, 15.48022218,  6.81624887, 14.07298579,  7.8416782 ,\n",
              "        6.78720659, 14.31684593, 13.32173433,  8.13765033,  7.76138846,\n",
              "       13.09443535,  9.47748409, 13.93041185,  8.38437682,  7.93940398,\n",
              "        7.81674115, 11.25684379, 13.51904986,  7.87240492,  8.51965271,\n",
              "        7.33593717,  6.78372095,  8.4755368 , 11.20048923,  9.31257546,\n",
              "        7.00205922, 13.03022145,  7.02849538,  6.52038679, 14.442718  ,\n",
              "       16.02205922,  6.7017519 , 14.2537645 , 10.30777473,  6.30314263,\n",
              "        7.75905885, 14.32455225, 15.41647177, 10.55212368,  6.42709494,\n",
              "       12.95556428,  7.8262748 ,  8.21813384, 13.68333817, 14.71517627,\n",
              "        8.78323342,  8.01970968,  8.22147772,  9.16329523,  6.83931995,\n",
              "       13.00357986,  7.67210022,  9.37526762, 14.2945882 , 15.29582782,\n",
              "       10.79228864, 13.6128922 ,  9.56924513, 10.80802268,  5.05510204,\n",
              "        6.75656145, 13.73481067,  7.01656231,  7.42143578,  8.50458404,\n",
              "        6.87916261,  6.82126069, 10.06340396,  7.21807836,  9.88870525,\n",
              "       10.71112672,  7.94601011,  7.95627122, 15.36378486, 15.4052686 ,\n",
              "        8.65794311,  6.6137632 ,  6.94054359, 12.52288252, 14.88969669,\n",
              "        8.59279883,  7.52134574,  7.89114688,  5.40794756, 12.24918977,\n",
              "        8.24605461,  6.92132405,  6.91148469,  7.12240312,  6.6137632 ,\n",
              "       14.09532721,  8.96140058, 12.16485542,  7.15853342, 13.49067384,\n",
              "        9.1393361 ,  7.72137195,  7.43717832, 10.20079551, 10.57918643,\n",
              "       13.36683952, 14.42317057, 13.67398264,  8.71085943, 13.83097859,\n",
              "        8.70742626, 13.42418849, 13.5291851 , 12.24269541,  8.62520485,\n",
              "        7.42308569, 13.55178727,  8.53804122,  7.98306225,  8.99167726,\n",
              "        8.16149704, 14.69831935,  8.10789076,  7.79146392,  9.16756067,\n",
              "        8.6008312 ,  7.21019009, 14.02562029,  8.38437682, 15.68185512,\n",
              "        8.41249345, 13.09390578,  9.6452909 ,  7.31162098,  7.51246636,\n",
              "        8.41276951, 10.42341296,  6.4277168 ,  6.52842204,  7.8262748 ,\n",
              "       12.97189859,  7.92262869,  6.55666421])"
            ]
          },
          "execution_count": 54,
          "metadata": {},
          "output_type": "execute_result"
        }
      ],
      "source": [
        "gbm = GradientBoostingRegressor()\n",
        "gbm.fit(X_train_stan, y_train)\n",
        "\n",
        "# 테스트 세트에 대한 예측\n",
        "y_pred = gbm.predict(X_test_stan)\n",
        "y_pred"
      ]
    },
    {
      "cell_type": "code",
      "execution_count": null,
      "id": "06957c87",
      "metadata": {
        "id": "06957c87",
        "outputId": "510b3a5e-b2d7-4cdf-956f-b9fdb8c89828"
      },
      "outputs": [
        {
          "data": {
            "text/html": [
              "<div>\n",
              "<style scoped>\n",
              "    .dataframe tbody tr th:only-of-type {\n",
              "        vertical-align: middle;\n",
              "    }\n",
              "\n",
              "    .dataframe tbody tr th {\n",
              "        vertical-align: top;\n",
              "    }\n",
              "\n",
              "    .dataframe thead th {\n",
              "        text-align: right;\n",
              "    }\n",
              "</style>\n",
              "<table border=\"1\" class=\"dataframe\">\n",
              "  <thead>\n",
              "    <tr style=\"text-align: right;\">\n",
              "      <th></th>\n",
              "      <th>0</th>\n",
              "    </tr>\n",
              "  </thead>\n",
              "  <tbody>\n",
              "    <tr>\n",
              "      <th>0</th>\n",
              "      <td>13.6</td>\n",
              "    </tr>\n",
              "    <tr>\n",
              "      <th>1</th>\n",
              "      <td>14.4</td>\n",
              "    </tr>\n",
              "    <tr>\n",
              "      <th>2</th>\n",
              "      <td>13.4</td>\n",
              "    </tr>\n",
              "    <tr>\n",
              "      <th>3</th>\n",
              "      <td>14.3</td>\n",
              "    </tr>\n",
              "    <tr>\n",
              "      <th>4</th>\n",
              "      <td>13.8</td>\n",
              "    </tr>\n",
              "    <tr>\n",
              "      <th>...</th>\n",
              "      <td>...</td>\n",
              "    </tr>\n",
              "    <tr>\n",
              "      <th>238</th>\n",
              "      <td>6.5</td>\n",
              "    </tr>\n",
              "    <tr>\n",
              "      <th>239</th>\n",
              "      <td>7.8</td>\n",
              "    </tr>\n",
              "    <tr>\n",
              "      <th>240</th>\n",
              "      <td>13.0</td>\n",
              "    </tr>\n",
              "    <tr>\n",
              "      <th>241</th>\n",
              "      <td>7.9</td>\n",
              "    </tr>\n",
              "    <tr>\n",
              "      <th>242</th>\n",
              "      <td>6.6</td>\n",
              "    </tr>\n",
              "  </tbody>\n",
              "</table>\n",
              "<p>243 rows × 1 columns</p>\n",
              "</div>"
            ],
            "text/plain": [
              "       0\n",
              "0   13.6\n",
              "1   14.4\n",
              "2   13.4\n",
              "3   14.3\n",
              "4   13.8\n",
              "..   ...\n",
              "238  6.5\n",
              "239  7.8\n",
              "240 13.0\n",
              "241  7.9\n",
              "242  6.6\n",
              "\n",
              "[243 rows x 1 columns]"
            ]
          },
          "execution_count": 57,
          "metadata": {},
          "output_type": "execute_result"
        }
      ],
      "source": [
        "model=pd.DataFrame(y_pred)\n",
        "model"
      ]
    },
    {
      "cell_type": "code",
      "execution_count": null,
      "id": "cfd3b610",
      "metadata": {
        "id": "cfd3b610",
        "outputId": "db8ef619-1457-4c37-9623-2dcce523188d"
      },
      "outputs": [
        {
          "data": {
            "text/html": [
              "<div>\n",
              "<style scoped>\n",
              "    .dataframe tbody tr th:only-of-type {\n",
              "        vertical-align: middle;\n",
              "    }\n",
              "\n",
              "    .dataframe tbody tr th {\n",
              "        vertical-align: top;\n",
              "    }\n",
              "\n",
              "    .dataframe thead th {\n",
              "        text-align: right;\n",
              "    }\n",
              "</style>\n",
              "<table border=\"1\" class=\"dataframe\">\n",
              "  <thead>\n",
              "    <tr style=\"text-align: right;\">\n",
              "      <th></th>\n",
              "      <th>title</th>\n",
              "      <th>box_off_num</th>\n",
              "    </tr>\n",
              "  </thead>\n",
              "  <tbody>\n",
              "    <tr>\n",
              "      <th>0</th>\n",
              "      <td>용서는 없다</td>\n",
              "      <td>13.6</td>\n",
              "    </tr>\n",
              "    <tr>\n",
              "      <th>1</th>\n",
              "      <td>아빠가 여자를 좋아해</td>\n",
              "      <td>14.4</td>\n",
              "    </tr>\n",
              "    <tr>\n",
              "      <th>2</th>\n",
              "      <td>하모니</td>\n",
              "      <td>13.4</td>\n",
              "    </tr>\n",
              "    <tr>\n",
              "      <th>3</th>\n",
              "      <td>의형제</td>\n",
              "      <td>14.3</td>\n",
              "    </tr>\n",
              "    <tr>\n",
              "      <th>4</th>\n",
              "      <td>평행 이론</td>\n",
              "      <td>13.8</td>\n",
              "    </tr>\n",
              "    <tr>\n",
              "      <th>...</th>\n",
              "      <td>...</td>\n",
              "      <td>...</td>\n",
              "    </tr>\n",
              "    <tr>\n",
              "      <th>238</th>\n",
              "      <td>해에게서 소년에게</td>\n",
              "      <td>6.5</td>\n",
              "    </tr>\n",
              "    <tr>\n",
              "      <th>239</th>\n",
              "      <td>울보 권투부</td>\n",
              "      <td>7.8</td>\n",
              "    </tr>\n",
              "    <tr>\n",
              "      <th>240</th>\n",
              "      <td>어떤살인</td>\n",
              "      <td>13.0</td>\n",
              "    </tr>\n",
              "    <tr>\n",
              "      <th>241</th>\n",
              "      <td>말하지 못한 비밀</td>\n",
              "      <td>7.9</td>\n",
              "    </tr>\n",
              "    <tr>\n",
              "      <th>242</th>\n",
              "      <td>조선안방 스캔들-칠거지악 2</td>\n",
              "      <td>6.6</td>\n",
              "    </tr>\n",
              "  </tbody>\n",
              "</table>\n",
              "<p>243 rows × 2 columns</p>\n",
              "</div>"
            ],
            "text/plain": [
              "               title  box_off_num\n",
              "0             용서는 없다         13.6\n",
              "1        아빠가 여자를 좋아해         14.4\n",
              "2                하모니         13.4\n",
              "3                의형제         14.3\n",
              "4              평행 이론         13.8\n",
              "..               ...          ...\n",
              "238        해에게서 소년에게          6.5\n",
              "239           울보 권투부          7.8\n",
              "240             어떤살인         13.0\n",
              "241        말하지 못한 비밀          7.9\n",
              "242  조선안방 스캔들-칠거지악 2          6.6\n",
              "\n",
              "[243 rows x 2 columns]"
            ]
          },
          "execution_count": 58,
          "metadata": {},
          "output_type": "execute_result"
        }
      ],
      "source": [
        "submission['box_off_num']=model\n",
        "submission"
      ]
    },
    {
      "cell_type": "code",
      "execution_count": null,
      "id": "7d5f45c1",
      "metadata": {
        "id": "7d5f45c1"
      },
      "outputs": [],
      "source": [
        "submission.to_csv('submission.csv',index=False)"
      ]
    },
    {
      "cell_type": "markdown",
      "id": "55808b7a",
      "metadata": {
        "id": "55808b7a"
      },
      "source": [
        "# LightGBM\n",
        "리더보드 점수: 1987078.25831"
      ]
    },
    {
      "cell_type": "code",
      "execution_count": null,
      "id": "b603f00c",
      "metadata": {
        "id": "b603f00c"
      },
      "outputs": [],
      "source": [
        "import lightgbm as lgb\n",
        "from sklearn.metrics import accuracy_score\n",
        "from sklearn.model_selection import train_test_split"
      ]
    },
    {
      "cell_type": "code",
      "execution_count": null,
      "id": "cec320af",
      "metadata": {
        "id": "cec320af",
        "outputId": "dd83543a-0f09-4be9-891e-14bc971c9d34"
      },
      "outputs": [
        {
          "data": {
            "text/plain": [
              "LGBMRegressor()"
            ]
          },
          "execution_count": 77,
          "metadata": {},
          "output_type": "execute_result"
        }
      ],
      "source": [
        "lgbm = lgb.LGBMRegressor()\n",
        "lgbm.fit(X_train_stan, y_train)"
      ]
    },
    {
      "cell_type": "code",
      "execution_count": null,
      "id": "28511e47",
      "metadata": {
        "id": "28511e47",
        "outputId": "c1d4fb56-6daa-4df6-f183-58f2383d3b01"
      },
      "outputs": [
        {
          "data": {
            "text/plain": [
              "array([13.97793074, 13.78074876, 13.05614905, 14.84043236, 14.22675065,\n",
              "        8.92542285,  7.26736572,  7.58878676,  8.98668188, 11.62749222,\n",
              "       12.05051243, 13.58691478, 12.43832067,  5.79755511, 13.59318632,\n",
              "       15.33090269,  9.25933457, 12.72731259,  9.84485962, 11.20687091,\n",
              "        6.70619384,  8.61411669, 13.23944612,  8.43288995,  6.5280952 ,\n",
              "       12.92181873,  5.85452533, 14.01243787,  7.97015883,  9.2384398 ,\n",
              "       14.30341537,  8.70845463,  8.48856332, 10.81714247,  9.25162903,\n",
              "        8.71235827,  8.53117522,  8.94856438,  8.35237273,  6.72554899,\n",
              "        9.27486618,  8.97597401,  9.54570781, 12.11658966, 14.46636902,\n",
              "       13.23306279,  7.12672559,  9.33211419,  9.75289517,  7.36493199,\n",
              "        7.92933002, 13.85828113,  9.4227592 , 13.78026766, 12.65358921,\n",
              "       11.77497758, 10.03789066, 13.81795401, 13.71127159, 15.17387737,\n",
              "       13.59283301, 14.89065922,  9.61729783,  6.06141223, 11.42881023,\n",
              "        6.06555522, 13.53827532,  8.74508135, 12.95787254,  9.76042776,\n",
              "       13.37389332, 12.90766461,  6.57556877, 12.85437017,  5.38990099,\n",
              "        6.36833405, 14.1600721 ,  9.32963529, 11.68448683,  7.83429877,\n",
              "        9.66845739, 15.4763052 ,  9.34800177, 15.19892624,  7.36618325,\n",
              "       14.31641197,  7.20176145,  7.64104622,  9.52203428, 12.4091448 ,\n",
              "        8.07448694,  7.52332164, 11.40392127, 14.68351437, 11.80837611,\n",
              "        9.32956856,  7.36536254,  7.48311589, 12.34403402, 12.89156577,\n",
              "       14.99581525, 13.77681053,  9.15585141,  8.2867381 , 13.63821741,\n",
              "        9.60750262, 15.84127777,  6.31373663, 15.41848572,  9.11992847,\n",
              "        6.83591317, 13.61075896, 13.46289911,  7.18145191,  8.08160186,\n",
              "       12.77305602,  8.97460049, 13.82796435,  8.86092127,  7.3158556 ,\n",
              "        8.36772127, 11.00273262, 13.2871891 ,  7.79060608,  9.35093293,\n",
              "        8.37851537,  6.81689709,  9.50386304, 10.3697992 ,  8.41809508,\n",
              "        7.2520405 , 13.1707648 ,  7.0428588 ,  6.93210711, 14.01478592,\n",
              "       15.96797787,  6.44158428, 14.84779108, 10.30097322,  6.86178368,\n",
              "        7.14961458, 14.58469632, 15.72902327,  9.56997027,  7.39341169,\n",
              "       12.8513096 ,  8.08613603,  7.43172032, 13.15556999, 14.16165543,\n",
              "        9.00176768,  7.18184632,  9.49146826,  6.90482337,  7.39318873,\n",
              "       13.23770236,  7.62128928, 10.94469237, 14.87756675, 14.5777065 ,\n",
              "       10.04634046, 13.76039568,  9.26107648, 11.94750011,  5.81466008,\n",
              "        5.7618932 , 14.48372889,  8.61248392,  7.05417721,  9.46504452,\n",
              "        5.69240474,  7.5800521 ,  9.92600698,  6.88441385, 11.27861853,\n",
              "       10.09759217,  8.4326851 ,  8.22247223, 16.20654445, 15.61504099,\n",
              "        9.12664635,  6.25481152,  5.87974423, 13.44700862, 13.8871155 ,\n",
              "        9.02250223,  7.76795566,  8.94186947,  5.45956939, 13.04694826,\n",
              "        9.41011886,  6.61894363,  6.36133423,  6.82364548,  6.25481152,\n",
              "       13.89618911,  9.19912658, 12.27671954,  7.62545178, 14.13521513,\n",
              "        9.16838436,  8.22239816,  7.27130444,  9.37816384, 11.45546856,\n",
              "       12.79182354, 14.60152516, 13.31889923,  7.42525355, 13.85119601,\n",
              "        8.60568333, 14.02450334, 12.89832746, 12.53094784,  8.35104777,\n",
              "        8.18767387, 13.58426429,  8.92564157,  7.745613  ,  8.06524202,\n",
              "        7.38283488, 14.25998481,  7.26456299,  7.24343828,  8.72944431,\n",
              "        8.35903418,  6.8346778 , 14.21977047,  9.30308355, 15.83516112,\n",
              "        8.36783395, 13.0234527 , 10.43969288,  6.57955487,  6.01678854,\n",
              "        7.34817312, 10.93558261,  6.75882723,  5.89498602,  8.25397861,\n",
              "       12.13250691,  7.07289892,  6.68667664])"
            ]
          },
          "execution_count": 78,
          "metadata": {},
          "output_type": "execute_result"
        }
      ],
      "source": [
        "y_pred = lgbm.predict(X_test_stan)\n",
        "y_pred"
      ]
    },
    {
      "cell_type": "code",
      "execution_count": null,
      "id": "009d57f3",
      "metadata": {
        "id": "009d57f3",
        "outputId": "887ec8fb-0587-4123-c8fd-c4dabe1c0415"
      },
      "outputs": [
        {
          "data": {
            "text/html": [
              "<div>\n",
              "<style scoped>\n",
              "    .dataframe tbody tr th:only-of-type {\n",
              "        vertical-align: middle;\n",
              "    }\n",
              "\n",
              "    .dataframe tbody tr th {\n",
              "        vertical-align: top;\n",
              "    }\n",
              "\n",
              "    .dataframe thead th {\n",
              "        text-align: right;\n",
              "    }\n",
              "</style>\n",
              "<table border=\"1\" class=\"dataframe\">\n",
              "  <thead>\n",
              "    <tr style=\"text-align: right;\">\n",
              "      <th></th>\n",
              "      <th>0</th>\n",
              "    </tr>\n",
              "  </thead>\n",
              "  <tbody>\n",
              "    <tr>\n",
              "      <th>0</th>\n",
              "      <td>14.0</td>\n",
              "    </tr>\n",
              "    <tr>\n",
              "      <th>1</th>\n",
              "      <td>13.8</td>\n",
              "    </tr>\n",
              "    <tr>\n",
              "      <th>2</th>\n",
              "      <td>13.1</td>\n",
              "    </tr>\n",
              "    <tr>\n",
              "      <th>3</th>\n",
              "      <td>14.8</td>\n",
              "    </tr>\n",
              "    <tr>\n",
              "      <th>4</th>\n",
              "      <td>14.2</td>\n",
              "    </tr>\n",
              "    <tr>\n",
              "      <th>...</th>\n",
              "      <td>...</td>\n",
              "    </tr>\n",
              "    <tr>\n",
              "      <th>238</th>\n",
              "      <td>5.9</td>\n",
              "    </tr>\n",
              "    <tr>\n",
              "      <th>239</th>\n",
              "      <td>8.3</td>\n",
              "    </tr>\n",
              "    <tr>\n",
              "      <th>240</th>\n",
              "      <td>12.1</td>\n",
              "    </tr>\n",
              "    <tr>\n",
              "      <th>241</th>\n",
              "      <td>7.1</td>\n",
              "    </tr>\n",
              "    <tr>\n",
              "      <th>242</th>\n",
              "      <td>6.7</td>\n",
              "    </tr>\n",
              "  </tbody>\n",
              "</table>\n",
              "<p>243 rows × 1 columns</p>\n",
              "</div>"
            ],
            "text/plain": [
              "       0\n",
              "0   14.0\n",
              "1   13.8\n",
              "2   13.1\n",
              "3   14.8\n",
              "4   14.2\n",
              "..   ...\n",
              "238  5.9\n",
              "239  8.3\n",
              "240 12.1\n",
              "241  7.1\n",
              "242  6.7\n",
              "\n",
              "[243 rows x 1 columns]"
            ]
          },
          "execution_count": 79,
          "metadata": {},
          "output_type": "execute_result"
        }
      ],
      "source": [
        "model=pd.DataFrame(y_pred)\n",
        "model"
      ]
    },
    {
      "cell_type": "code",
      "execution_count": null,
      "id": "0d654f03",
      "metadata": {
        "id": "0d654f03",
        "outputId": "37c77032-58b5-4124-9c71-a02702482d2d"
      },
      "outputs": [
        {
          "data": {
            "text/html": [
              "<div>\n",
              "<style scoped>\n",
              "    .dataframe tbody tr th:only-of-type {\n",
              "        vertical-align: middle;\n",
              "    }\n",
              "\n",
              "    .dataframe tbody tr th {\n",
              "        vertical-align: top;\n",
              "    }\n",
              "\n",
              "    .dataframe thead th {\n",
              "        text-align: right;\n",
              "    }\n",
              "</style>\n",
              "<table border=\"1\" class=\"dataframe\">\n",
              "  <thead>\n",
              "    <tr style=\"text-align: right;\">\n",
              "      <th></th>\n",
              "      <th>title</th>\n",
              "      <th>box_off_num</th>\n",
              "    </tr>\n",
              "  </thead>\n",
              "  <tbody>\n",
              "    <tr>\n",
              "      <th>0</th>\n",
              "      <td>용서는 없다</td>\n",
              "      <td>14.0</td>\n",
              "    </tr>\n",
              "    <tr>\n",
              "      <th>1</th>\n",
              "      <td>아빠가 여자를 좋아해</td>\n",
              "      <td>13.8</td>\n",
              "    </tr>\n",
              "    <tr>\n",
              "      <th>2</th>\n",
              "      <td>하모니</td>\n",
              "      <td>13.1</td>\n",
              "    </tr>\n",
              "    <tr>\n",
              "      <th>3</th>\n",
              "      <td>의형제</td>\n",
              "      <td>14.8</td>\n",
              "    </tr>\n",
              "    <tr>\n",
              "      <th>4</th>\n",
              "      <td>평행 이론</td>\n",
              "      <td>14.2</td>\n",
              "    </tr>\n",
              "    <tr>\n",
              "      <th>...</th>\n",
              "      <td>...</td>\n",
              "      <td>...</td>\n",
              "    </tr>\n",
              "    <tr>\n",
              "      <th>238</th>\n",
              "      <td>해에게서 소년에게</td>\n",
              "      <td>5.9</td>\n",
              "    </tr>\n",
              "    <tr>\n",
              "      <th>239</th>\n",
              "      <td>울보 권투부</td>\n",
              "      <td>8.3</td>\n",
              "    </tr>\n",
              "    <tr>\n",
              "      <th>240</th>\n",
              "      <td>어떤살인</td>\n",
              "      <td>12.1</td>\n",
              "    </tr>\n",
              "    <tr>\n",
              "      <th>241</th>\n",
              "      <td>말하지 못한 비밀</td>\n",
              "      <td>7.1</td>\n",
              "    </tr>\n",
              "    <tr>\n",
              "      <th>242</th>\n",
              "      <td>조선안방 스캔들-칠거지악 2</td>\n",
              "      <td>6.7</td>\n",
              "    </tr>\n",
              "  </tbody>\n",
              "</table>\n",
              "<p>243 rows × 2 columns</p>\n",
              "</div>"
            ],
            "text/plain": [
              "               title  box_off_num\n",
              "0             용서는 없다         14.0\n",
              "1        아빠가 여자를 좋아해         13.8\n",
              "2                하모니         13.1\n",
              "3                의형제         14.8\n",
              "4              평행 이론         14.2\n",
              "..               ...          ...\n",
              "238        해에게서 소년에게          5.9\n",
              "239           울보 권투부          8.3\n",
              "240             어떤살인         12.1\n",
              "241        말하지 못한 비밀          7.1\n",
              "242  조선안방 스캔들-칠거지악 2          6.7\n",
              "\n",
              "[243 rows x 2 columns]"
            ]
          },
          "execution_count": 80,
          "metadata": {},
          "output_type": "execute_result"
        }
      ],
      "source": [
        "submission['box_off_num']=model\n",
        "submission"
      ]
    },
    {
      "cell_type": "code",
      "execution_count": null,
      "id": "64f206af",
      "metadata": {
        "id": "64f206af"
      },
      "outputs": [],
      "source": [
        "submission.to_csv('submission.csv',index=False)"
      ]
    }
  ],
  "metadata": {
    "kernelspec": {
      "display_name": "Python 3 (ipykernel)",
      "language": "python",
      "name": "python3"
    },
    "language_info": {
      "codemirror_mode": {
        "name": "ipython",
        "version": 3
      },
      "file_extension": ".py",
      "mimetype": "text/x-python",
      "name": "python",
      "nbconvert_exporter": "python",
      "pygments_lexer": "ipython3",
      "version": "3.9.13"
    },
    "colab": {
      "provenance": [],
      "include_colab_link": true
    }
  },
  "nbformat": 4,
  "nbformat_minor": 5
}
