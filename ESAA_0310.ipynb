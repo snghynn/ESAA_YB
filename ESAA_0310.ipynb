{
  "nbformat": 4,
  "nbformat_minor": 0,
  "metadata": {
    "colab": {
      "provenance": [],
      "include_colab_link": true
    },
    "kernelspec": {
      "name": "python3",
      "display_name": "Python 3"
    },
    "language_info": {
      "name": "python"
    }
  },
  "cells": [
    {
      "cell_type": "markdown",
      "metadata": {
        "id": "view-in-github",
        "colab_type": "text"
      },
      "source": [
        "<a href=\"https://colab.research.google.com/github/snghynn/ESAA-YB/blob/main/ESSA_0310.ipynb\" target=\"_parent\"><img src=\"https://colab.research.google.com/assets/colab-badge.svg\" alt=\"Open In Colab\"/></a>"
      ]
    },
    {
      "cell_type": "markdown",
      "source": [
        "# **자료형**"
      ],
      "metadata": {
        "id": "fd1zwnm-j7B1"
      }
    },
    {
      "cell_type": "markdown",
      "source": [
        "##Q1. 다음 수의 평균을 구하세요.\n",
        "\n",
        "80, 75, 55, 95"
      ],
      "metadata": {
        "id": "jUpWjtvlj9JV"
      }
    },
    {
      "cell_type": "code",
      "source": [
        "(80+75+55+95)/4"
      ],
      "metadata": {
        "id": "YcP79wQgj3bh",
        "colab": {
          "base_uri": "https://localhost:8080/"
        },
        "outputId": "79a0e7bb-9277-4979-eab8-eda5fdd65692"
      },
      "execution_count": null,
      "outputs": [
        {
          "output_type": "execute_result",
          "data": {
            "text/plain": [
              "76.25"
            ]
          },
          "metadata": {},
          "execution_count": 3
        }
      ]
    },
    {
      "cell_type": "markdown",
      "source": [
        "##Q2. 주민등록번호를 연월일(YYYYMMDD) 부분과 그 뒤의 숫자 부분으로 나누어 출력하세요.\n",
        "홍길동 씨의 주민등록번호는 881120-1068234이다."
      ],
      "metadata": {
        "id": "pHK3T87Zkcte"
      }
    },
    {
      "cell_type": "code",
      "source": [
        "# 답을 작성해주세요\n",
        "id_Hong = \"881120-1068234\"\n",
        "a=id_Hong[:6]\n",
        "b=id_Hong[7:]\n",
        "print(a)\n",
        "print(b)"
      ],
      "metadata": {
        "id": "yZEM63Xok9xi",
        "colab": {
          "base_uri": "https://localhost:8080/"
        },
        "outputId": "a5101f50-4d59-4330-f16a-19b10bce0b4d"
      },
      "execution_count": null,
      "outputs": [
        {
          "output_type": "stream",
          "name": "stdout",
          "text": [
            "881120\n",
            "1068234\n"
          ]
        }
      ]
    },
    {
      "cell_type": "markdown",
      "source": [
        "##Q4. 주민등록번호에서 성별을 나타내는 숫자를 출력하세요.\n",
        "주민등록번호 뒷자리의 첫 번째 숫자는 성별을 나타낸다. "
      ],
      "metadata": {
        "id": "WojXUmuslVIS"
      }
    },
    {
      "cell_type": "code",
      "source": [
        "# 답을 작성해주세요\n",
        "id_pin = \"881120-2153468\"\n",
        "print(id_pin[7])"
      ],
      "metadata": {
        "id": "ZAhDqYOglqZ-",
        "colab": {
          "base_uri": "https://localhost:8080/"
        },
        "outputId": "4dd167d2-4813-4a62-cc6b-960a3a084c74"
      },
      "execution_count": null,
      "outputs": [
        {
          "output_type": "stream",
          "name": "stdout",
          "text": [
            "2\n"
          ]
        }
      ]
    },
    {
      "cell_type": "markdown",
      "source": [
        "##Q5. [1, 3, 5, 4, 2] 리스트를 [5, 4, 3, 2, 1]로 정렬하세요"
      ],
      "metadata": {
        "id": "lbWsPuOEl-y5"
      }
    },
    {
      "cell_type": "code",
      "source": [
        "# 답을 작성해주세요\n",
        "rand_list = [1, 3, 5, 4, 2]\n",
        "rand_list.sort()\n",
        "rand_list.reverse()\n",
        "print(rand_list)"
      ],
      "metadata": {
        "id": "dI2gioTKmnVC",
        "colab": {
          "base_uri": "https://localhost:8080/"
        },
        "outputId": "0001d74b-57eb-4126-ec78-797e4d69618d"
      },
      "execution_count": null,
      "outputs": [
        {
          "output_type": "stream",
          "name": "stdout",
          "text": [
            "[5, 4, 3, 2, 1]\n"
          ]
        }
      ]
    },
    {
      "cell_type": "markdown",
      "source": [
        "##Q7. 다음 리스트를 Life is too short 문자열로 만들어 출력하세요"
      ],
      "metadata": {
        "id": "us3I2cpem2bz"
      }
    },
    {
      "cell_type": "code",
      "source": [
        "# 답을 작성해주세요\n",
        "string_list = ['Life', 'is', 'too', 'short'] \n",
        "ans=\" \".join(string_list)\n",
        "print(ans)"
      ],
      "metadata": {
        "id": "G38tHstZnF5s",
        "colab": {
          "base_uri": "https://localhost:8080/"
        },
        "outputId": "76edff91-2a08-4d51-da9d-d0e8447c61d3"
      },
      "execution_count": null,
      "outputs": [
        {
          "output_type": "stream",
          "name": "stdout",
          "text": [
            "Life is too short\n"
          ]
        }
      ]
    },
    {
      "cell_type": "markdown",
      "source": [
        "# **제어문**"
      ],
      "metadata": {
        "id": "e4Bbr6rmdnph"
      }
    },
    {
      "cell_type": "markdown",
      "source": [
        "## Q1. 다음 코드의 결과는?\n",
        "```python\n",
        "a = \"Life is too short, you need python\"\n",
        "\n",
        "if \"wife\" in a: print(\"wife\")\n",
        "elif \"python\" in a and \"you\" not in a: print(\"python\")\n",
        "elif \"shirt\" not in a: print(\"shirt\")\n",
        "elif \"need\" in a: print(\"need\")\n",
        "else: print(\"none\")\n",
        "```"
      ],
      "metadata": {
        "id": "sfAPtg9kd1kA"
      }
    },
    {
      "cell_type": "code",
      "execution_count": null,
      "metadata": {
        "id": "coCD7rBhdgA4"
      },
      "outputs": [],
      "source": [
        "# 답을 작성해주세요\n",
        "#shirt가 출력됨됨"
      ]
    },
    {
      "cell_type": "markdown",
      "source": [
        "##Q2. while문을 사용해 1부터 1000까지의 자연수 중 3의 배수의 합을 구하세요"
      ],
      "metadata": {
        "id": "E_lrf3dxeTM9"
      }
    },
    {
      "cell_type": "code",
      "source": [
        "# 답을 작성해주세요\n",
        "\n",
        "a=1\n",
        "ans=0\n",
        "while a<=1000:\n",
        "  if a%3==0:\n",
        "    ans+=a\n",
        "  a+=1\n",
        "\n",
        "print(ans)"
      ],
      "metadata": {
        "id": "FnUBJZTCedgs",
        "colab": {
          "base_uri": "https://localhost:8080/"
        },
        "outputId": "4ffd1339-f473-4dde-ee43-9294ae2dff0e"
      },
      "execution_count": null,
      "outputs": [
        {
          "output_type": "stream",
          "name": "stdout",
          "text": [
            "166833\n"
          ]
        }
      ]
    },
    {
      "cell_type": "markdown",
      "source": [
        "## Q3. while문을 사용하여 다음과 같이 별(*)을 표시하는 프로그램을 작성하세요"
      ],
      "metadata": {
        "id": "h4XcuXk7ei0B"
      }
    },
    {
      "cell_type": "markdown",
      "source": [
        "![image.png](data:image/png;base64,iVBORw0KGgoAAAANSUhEUgAAAEMAAABbCAYAAAAoTziFAAABTklEQVR4nO3YsQ3DIBgFYZxNzP4zeRVcIV3hwkQYftB9bRrnRFD8jlJKSUoppfSb/QCRGAOMAcYAY0BzjJzzF88RgicDjrf/M55OxHVd3R9optcxqpzzdhGqpp9JDbHrvdF8MnbmBQrGAGOAMcAYYAwwBhgDjAHGAGNA13Fn9Rc4TwZ0GXd2GX66jjurDz/dxp0dhh/HHfACBWOAMcAYYAwwBhgDjAHGAGOAMWDYuLPCC5wnAz4fd5Yafkqj8zy7fxZFU4z6hZ6+2L+fReK4A16gYAwwBhgDjAHGAGOAMcAYYAwwBhgDQixdUVYwTwZMXbrCrWCtA8gXS1eU0Wf60hVpBXPpAi9QMAYYA4wBxgBjgDHAGGAMMAYYA8KPOyOHH08GhB13pgw/re/8o8edkTtH6HFn9PDjuANeoGAMMAYYA4wBxgBjgDHAGGAMuAEai18A1dsRSAAAAABJRU5ErkJggg==)"
      ],
      "metadata": {
        "id": "9vyyoqacDqys"
      }
    },
    {
      "cell_type": "code",
      "source": [
        "# 답을 작성해주세요\n",
        "a=0\n",
        "while True:\n",
        "  a+=1\n",
        "  if a>5: \n",
        "    break\n",
        "  print(\"*\"*a)"
      ],
      "metadata": {
        "id": "3Zu5X5vnfM1k",
        "colab": {
          "base_uri": "https://localhost:8080/"
        },
        "outputId": "29d10451-d376-4e2d-bc36-2698b2965401"
      },
      "execution_count": null,
      "outputs": [
        {
          "output_type": "stream",
          "name": "stdout",
          "text": [
            "*\n",
            "**\n",
            "***\n",
            "****\n",
            "*****\n"
          ]
        }
      ]
    },
    {
      "cell_type": "markdown",
      "source": [
        "## Q4. for문을 사용해 1부터 100까지의 숫자를 출력하세요"
      ],
      "metadata": {
        "id": "uNTYJ3iQfO6c"
      }
    },
    {
      "cell_type": "code",
      "source": [
        "# 답을 작성해주세요\n",
        "\n",
        "for a in range(1,101):\n",
        "  print(a)"
      ],
      "metadata": {
        "id": "haJmxZDAfWJ4",
        "colab": {
          "base_uri": "https://localhost:8080/"
        },
        "outputId": "942736de-3c53-4499-88d2-8af3e324de37"
      },
      "execution_count": null,
      "outputs": [
        {
          "output_type": "stream",
          "name": "stdout",
          "text": [
            "1\n",
            "2\n",
            "3\n",
            "4\n",
            "5\n",
            "6\n",
            "7\n",
            "8\n",
            "9\n",
            "10\n",
            "11\n",
            "12\n",
            "13\n",
            "14\n",
            "15\n",
            "16\n",
            "17\n",
            "18\n",
            "19\n",
            "20\n",
            "21\n",
            "22\n",
            "23\n",
            "24\n",
            "25\n",
            "26\n",
            "27\n",
            "28\n",
            "29\n",
            "30\n",
            "31\n",
            "32\n",
            "33\n",
            "34\n",
            "35\n",
            "36\n",
            "37\n",
            "38\n",
            "39\n",
            "40\n",
            "41\n",
            "42\n",
            "43\n",
            "44\n",
            "45\n",
            "46\n",
            "47\n",
            "48\n",
            "49\n",
            "50\n",
            "51\n",
            "52\n",
            "53\n",
            "54\n",
            "55\n",
            "56\n",
            "57\n",
            "58\n",
            "59\n",
            "60\n",
            "61\n",
            "62\n",
            "63\n",
            "64\n",
            "65\n",
            "66\n",
            "67\n",
            "68\n",
            "69\n",
            "70\n",
            "71\n",
            "72\n",
            "73\n",
            "74\n",
            "75\n",
            "76\n",
            "77\n",
            "78\n",
            "79\n",
            "80\n",
            "81\n",
            "82\n",
            "83\n",
            "84\n",
            "85\n",
            "86\n",
            "87\n",
            "88\n",
            "89\n",
            "90\n",
            "91\n",
            "92\n",
            "93\n",
            "94\n",
            "95\n",
            "96\n",
            "97\n",
            "98\n",
            "99\n",
            "100\n"
          ]
        }
      ]
    },
    {
      "cell_type": "markdown",
      "source": [
        "##Q5. for문을 사용하여 평균을 구하세요.\n",
        "\n",
        "A 학급에 총 10명의 학생이 있다. 이 학생들의 중간고사 점수는 다음과 같다.\n",
        "\n",
        "[70, 60, 55, 75, 95, 90, 80, 80, 85, 100]"
      ],
      "metadata": {
        "id": "_qOXRe6CfYQP"
      }
    },
    {
      "cell_type": "code",
      "source": [
        "# 답을 작성해주세요\n",
        "scores=[70, 60, 55, 75, 95, 90, 80, 80, 85, 100]\n",
        "total=0\n",
        "for i in scores:\n",
        "  total+=i\n",
        "avg=total/len(scores)\n",
        "\n",
        "print(avg)"
      ],
      "metadata": {
        "id": "aSsOy9dNfXpJ",
        "colab": {
          "base_uri": "https://localhost:8080/"
        },
        "outputId": "59874603-ac98-43eb-85d6-60d0dcac8e5f"
      },
      "execution_count": null,
      "outputs": [
        {
          "output_type": "stream",
          "name": "stdout",
          "text": [
            "79.0\n"
          ]
        }
      ]
    },
    {
      "cell_type": "markdown",
      "source": [
        "##Q6. number list에서 홀수에만 2를 곱해 결과를 result에 저장한 후 출력하세요"
      ],
      "metadata": {
        "id": "65dpTuUffy73"
      }
    },
    {
      "cell_type": "code",
      "source": [
        "numbers = [1, 2, 3, 4, 5]\n",
        "result = []\n",
        "for i in numbers:\n",
        "  if i%2==1:\n",
        "    result.append(i*2)\n",
        "\n",
        "print(result)"
      ],
      "metadata": {
        "id": "vxEAtDQ2fyem",
        "colab": {
          "base_uri": "https://localhost:8080/"
        },
        "outputId": "94e24741-872a-408c-9e21-e20e2dd14d19"
      },
      "execution_count": null,
      "outputs": [
        {
          "output_type": "stream",
          "name": "stdout",
          "text": [
            "[2, 6, 10]\n"
          ]
        }
      ]
    },
    {
      "cell_type": "markdown",
      "source": [
        "# **함수와 입출력**"
      ],
      "metadata": {
        "id": "2cqJNh90gaLm"
      }
    },
    {
      "cell_type": "markdown",
      "source": [
        "##Q1. 주어진 자연수가 홀수인지 짝수인지 판별하는 함수를 작성하세요"
      ],
      "metadata": {
        "id": "SqFHUlJjgn6v"
      }
    },
    {
      "cell_type": "code",
      "source": [
        "# 답을 작성해주세요\n",
        "def is_odd(a):\n",
        " if a%2==1:\n",
        "   print(\"홀수\")\n",
        " else:\n",
        "   print(\"짝수\")"
      ],
      "metadata": {
        "id": "rWJTjYVWgZ5Z"
      },
      "execution_count": null,
      "outputs": []
    },
    {
      "cell_type": "code",
      "source": [
        "is_odd(2)"
      ],
      "metadata": {
        "colab": {
          "base_uri": "https://localhost:8080/"
        },
        "id": "GHHs-6BD9FQc",
        "outputId": "7737c701-48ff-44f2-d7d3-d5dc0a5b68de"
      },
      "execution_count": null,
      "outputs": [
        {
          "output_type": "stream",
          "name": "stdout",
          "text": [
            "짝수\n"
          ]
        }
      ]
    },
    {
      "cell_type": "code",
      "source": [
        "is_odd(3)"
      ],
      "metadata": {
        "colab": {
          "base_uri": "https://localhost:8080/"
        },
        "id": "Fqxmd6Hz9Q8E",
        "outputId": "6b49bdd6-ba70-44ac-f2db-56e345b05961"
      },
      "execution_count": null,
      "outputs": [
        {
          "output_type": "stream",
          "name": "stdout",
          "text": [
            "홀수\n"
          ]
        }
      ]
    },
    {
      "cell_type": "markdown",
      "source": [
        "##Q2. 입력으로 들어오는 모든 수의 평균을 계산해주는 함수를 작성하고 실행하세요\n",
        "(입력으로 들어오는 수의 개수는 랜덤입니다.)"
      ],
      "metadata": {
        "id": "8e3ezwkygx6a"
      }
    },
    {
      "cell_type": "code",
      "source": [
        "# 답을 작성해주세요\n",
        "def average_rand(*n):\n",
        "  ans=0\n",
        "  for i in n:\n",
        "    ans+=i\n",
        "  return ans/len(n)"
      ],
      "metadata": {
        "id": "tEQJxYVBhDSz"
      },
      "execution_count": null,
      "outputs": []
    },
    {
      "cell_type": "code",
      "source": [
        "average_rand(1,2,3)"
      ],
      "metadata": {
        "colab": {
          "base_uri": "https://localhost:8080/"
        },
        "id": "4f9qUB8P9riw",
        "outputId": "64151e67-cedf-4801-924a-05a08b669125"
      },
      "execution_count": null,
      "outputs": [
        {
          "output_type": "execute_result",
          "data": {
            "text/plain": [
              "2.0"
            ]
          },
          "metadata": {},
          "execution_count": 36
        }
      ]
    },
    {
      "cell_type": "markdown",
      "source": [
        "##Q3. 다음 프로그램의 오류를 수정하고 실행하세요"
      ],
      "metadata": {
        "id": "3xumzArZhC65"
      }
    },
    {
      "cell_type": "code",
      "source": [
        "input1 = input(\"첫번째 숫자를 입력하세요:\")\n",
        "input2 = input(\"두번째 숫자를 입력하세요:\")\n",
        "\n",
        "total = int(input1) + int(input2)\n",
        "print(\"두 수의 합은 %s 입니다\" % total)"
      ],
      "metadata": {
        "colab": {
          "base_uri": "https://localhost:8080/"
        },
        "id": "RTPfNyQJhWfb",
        "outputId": "1c80eaa7-a6ef-466c-b57b-fdc91daedb4a"
      },
      "execution_count": null,
      "outputs": [
        {
          "output_type": "stream",
          "name": "stdout",
          "text": [
            "첫번째 숫자를 입력하세요:1\n",
            "두번째 숫자를 입력하세요:2\n",
            "두 수의 합은 3 입니다\n"
          ]
        }
      ]
    },
    {
      "cell_type": "markdown",
      "source": [
        "##Q4. 다음 중 출력 결과가 다른 것 하나를 고르세요\n",
        "\n",
        "1. print(\"you\" \"need\" \"python\")\n",
        "2. print(\"you\"+\"need\"+\"python\")\n",
        "3. print(\"you\", \"need\", \"python\")\n",
        "4. print(\"\".join([\"you\", \"need\", \"python\"]))"
      ],
      "metadata": {
        "id": "5jMWaYmLhf7S"
      }
    },
    {
      "cell_type": "code",
      "source": [
        "# 답을 작성해주세요\n",
        "print(\"you\" \"need\" \"python\")\n",
        "print(\"you\"+\"need\"+\"python\")\n",
        "print(\"you\", \"need\", \"python\")\n",
        "print(\"\".join([\"you\", \"need\", \"python\"]))\n",
        "\n",
        "#3번. 3번이 콤마 때문에 공백이 생겨 출력"
      ],
      "metadata": {
        "id": "iYs2JHAnh92c",
        "colab": {
          "base_uri": "https://localhost:8080/"
        },
        "outputId": "f4ceeba0-5591-4e11-c448-3dc037b72446"
      },
      "execution_count": null,
      "outputs": [
        {
          "output_type": "stream",
          "name": "stdout",
          "text": [
            "youneedpython\n",
            "youneedpython\n",
            "you need python\n",
            "youneedpython\n"
          ]
        }
      ]
    }
  ]
}
